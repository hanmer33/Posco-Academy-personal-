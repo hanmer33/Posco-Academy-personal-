{
 "cells": [
  {
   "cell_type": "code",
   "execution_count": 1,
   "metadata": {},
   "outputs": [],
   "source": [
    "import pandas as pd\n",
    "import numpy as np\n",
    "\n",
    "import matplotlib.pyplot as plt\n",
    "import matplotlib\n",
    "import seaborn as sns\n",
    "\n",
    "from scipy import stats\n",
    "from scipy.stats import bartlett\n",
    " \n",
    "%matplotlib inline\n"
   ]
  },
  {
   "cell_type": "code",
   "execution_count": 2,
   "metadata": {},
   "outputs": [],
   "source": [
    "\n",
    "matplotlib.rc('font', family = 'Noto Sans CJK JP')\n",
    "matplotlib.rc('axes', unicode_minus = False)"
   ]
  },
  {
   "cell_type": "code",
   "execution_count": 3,
   "metadata": {},
   "outputs": [
    {
     "data": {
      "text/html": [
       "<div>\n",
       "<style scoped>\n",
       "    .dataframe tbody tr th:only-of-type {\n",
       "        vertical-align: middle;\n",
       "    }\n",
       "\n",
       "    .dataframe tbody tr th {\n",
       "        vertical-align: top;\n",
       "    }\n",
       "\n",
       "    .dataframe thead th {\n",
       "        text-align: right;\n",
       "    }\n",
       "</style>\n",
       "<table border=\"1\" class=\"dataframe\">\n",
       "  <thead>\n",
       "    <tr style=\"text-align: right;\">\n",
       "      <th></th>\n",
       "      <th>환자ID</th>\n",
       "      <th>Large Lymphocyte</th>\n",
       "      <th>Location of herniation</th>\n",
       "      <th>ODI</th>\n",
       "      <th>가족력</th>\n",
       "      <th>간질성폐질환</th>\n",
       "      <th>고혈압여부</th>\n",
       "      <th>과거수술횟수</th>\n",
       "      <th>당뇨여부</th>\n",
       "      <th>말초동맥질환여부</th>\n",
       "      <th>...</th>\n",
       "      <th>Modic change</th>\n",
       "      <th>PI</th>\n",
       "      <th>PT</th>\n",
       "      <th>Seg Angle(raw)</th>\n",
       "      <th>Vaccum disc</th>\n",
       "      <th>골밀도</th>\n",
       "      <th>디스크단면적</th>\n",
       "      <th>디스크위치</th>\n",
       "      <th>척추이동척도</th>\n",
       "      <th>척추전방위증</th>\n",
       "    </tr>\n",
       "  </thead>\n",
       "  <tbody>\n",
       "    <tr>\n",
       "      <th>0</th>\n",
       "      <td>1052PT</td>\n",
       "      <td>10.5</td>\n",
       "      <td>2</td>\n",
       "      <td>44.0</td>\n",
       "      <td>0.0</td>\n",
       "      <td>0</td>\n",
       "      <td>0</td>\n",
       "      <td>0</td>\n",
       "      <td>0</td>\n",
       "      <td>0</td>\n",
       "      <td>...</td>\n",
       "      <td>0</td>\n",
       "      <td>49.7</td>\n",
       "      <td>27.6</td>\n",
       "      <td>1.2</td>\n",
       "      <td>0</td>\n",
       "      <td>NaN</td>\n",
       "      <td>2155.3</td>\n",
       "      <td>4</td>\n",
       "      <td>Middle</td>\n",
       "      <td>0</td>\n",
       "    </tr>\n",
       "    <tr>\n",
       "      <th>1</th>\n",
       "      <td>1056PT</td>\n",
       "      <td>46.7</td>\n",
       "      <td>3</td>\n",
       "      <td>21.0</td>\n",
       "      <td>1.0</td>\n",
       "      <td>0</td>\n",
       "      <td>0</td>\n",
       "      <td>0</td>\n",
       "      <td>0</td>\n",
       "      <td>0</td>\n",
       "      <td>...</td>\n",
       "      <td>0</td>\n",
       "      <td>36.3</td>\n",
       "      <td>4.5</td>\n",
       "      <td>7.3</td>\n",
       "      <td>0</td>\n",
       "      <td>NaN</td>\n",
       "      <td>2143.1</td>\n",
       "      <td>4</td>\n",
       "      <td>Middle</td>\n",
       "      <td>0</td>\n",
       "    </tr>\n",
       "    <tr>\n",
       "      <th>2</th>\n",
       "      <td>1093PT</td>\n",
       "      <td>30.1</td>\n",
       "      <td>3</td>\n",
       "      <td>13.0</td>\n",
       "      <td>0.0</td>\n",
       "      <td>0</td>\n",
       "      <td>0</td>\n",
       "      <td>0</td>\n",
       "      <td>0</td>\n",
       "      <td>0</td>\n",
       "      <td>...</td>\n",
       "      <td>0</td>\n",
       "      <td>41.3</td>\n",
       "      <td>17.4</td>\n",
       "      <td>13.4</td>\n",
       "      <td>0</td>\n",
       "      <td>NaN</td>\n",
       "      <td>1868.7</td>\n",
       "      <td>4</td>\n",
       "      <td>Down</td>\n",
       "      <td>0</td>\n",
       "    </tr>\n",
       "    <tr>\n",
       "      <th>3</th>\n",
       "      <td>1687PT</td>\n",
       "      <td>45.4</td>\n",
       "      <td>3</td>\n",
       "      <td>NaN</td>\n",
       "      <td>0.0</td>\n",
       "      <td>0</td>\n",
       "      <td>0</td>\n",
       "      <td>0</td>\n",
       "      <td>0</td>\n",
       "      <td>0</td>\n",
       "      <td>...</td>\n",
       "      <td>0</td>\n",
       "      <td>45.7</td>\n",
       "      <td>16.6</td>\n",
       "      <td>20.1</td>\n",
       "      <td>0</td>\n",
       "      <td>NaN</td>\n",
       "      <td>1851.2</td>\n",
       "      <td>5</td>\n",
       "      <td>Middle</td>\n",
       "      <td>0</td>\n",
       "    </tr>\n",
       "    <tr>\n",
       "      <th>4</th>\n",
       "      <td>1674PT</td>\n",
       "      <td>52.2</td>\n",
       "      <td>1</td>\n",
       "      <td>31.0</td>\n",
       "      <td>0.0</td>\n",
       "      <td>1</td>\n",
       "      <td>0</td>\n",
       "      <td>1</td>\n",
       "      <td>0</td>\n",
       "      <td>0</td>\n",
       "      <td>...</td>\n",
       "      <td>0</td>\n",
       "      <td>54.5</td>\n",
       "      <td>16.7</td>\n",
       "      <td>2.9</td>\n",
       "      <td>0</td>\n",
       "      <td>NaN</td>\n",
       "      <td>2419.1</td>\n",
       "      <td>2</td>\n",
       "      <td>Up</td>\n",
       "      <td>0</td>\n",
       "    </tr>\n",
       "  </tbody>\n",
       "</table>\n",
       "<p>5 rows × 51 columns</p>\n",
       "</div>"
      ],
      "text/plain": [
       "     환자ID  Large Lymphocyte  Location of herniation   ODI  가족력  간질성폐질환  고혈압여부  \\\n",
       "0  1052PT              10.5                       2  44.0  0.0       0      0   \n",
       "1  1056PT              46.7                       3  21.0  1.0       0      0   \n",
       "2  1093PT              30.1                       3  13.0  0.0       0      0   \n",
       "3  1687PT              45.4                       3   NaN  0.0       0      0   \n",
       "4  1674PT              52.2                       1  31.0  0.0       1      0   \n",
       "\n",
       "   과거수술횟수  당뇨여부  말초동맥질환여부  ...  Modic change    PI    PT  Seg Angle(raw)  \\\n",
       "0       0     0         0  ...             0  49.7  27.6             1.2   \n",
       "1       0     0         0  ...             0  36.3   4.5             7.3   \n",
       "2       0     0         0  ...             0  41.3  17.4            13.4   \n",
       "3       0     0         0  ...             0  45.7  16.6            20.1   \n",
       "4       1     0         0  ...             0  54.5  16.7             2.9   \n",
       "\n",
       "   Vaccum disc  골밀도  디스크단면적  디스크위치  척추이동척도  척추전방위증  \n",
       "0            0  NaN  2155.3      4  Middle       0  \n",
       "1            0  NaN  2143.1      4  Middle       0  \n",
       "2            0  NaN  1868.7      4    Down       0  \n",
       "3            0  NaN  1851.2      5  Middle       0  \n",
       "4            0  NaN  2419.1      2      Up       0  \n",
       "\n",
       "[5 rows x 51 columns]"
      ]
     },
     "execution_count": 3,
     "metadata": {},
     "output_type": "execute_result"
    }
   ],
   "source": [
    "df = pd.read_csv(\"./merge_df.csv\")\n",
    "df.head()"
   ]
  },
  {
   "cell_type": "markdown",
   "metadata": {},
   "source": [
    "### 입원일자 월별 재발여부"
   ]
  },
  {
   "cell_type": "code",
   "execution_count": 4,
   "metadata": {},
   "outputs": [
    {
     "name": "stderr",
     "output_type": "stream",
     "text": [
      "/tmp/ipykernel_26572/3814332730.py:3: SettingWithCopyWarning: \n",
      "A value is trying to be set on a copy of a slice from a DataFrame.\n",
      "Try using .loc[row_indexer,col_indexer] = value instead\n",
      "\n",
      "See the caveats in the documentation: https://pandas.pydata.org/pandas-docs/stable/user_guide/indexing.html#returning-a-view-versus-a-copy\n",
      "  new_df['count'] = 1\n",
      "/tmp/ipykernel_26572/3814332730.py:4: SettingWithCopyWarning: \n",
      "A value is trying to be set on a copy of a slice from a DataFrame.\n",
      "Try using .loc[row_indexer,col_indexer] = value instead\n",
      "\n",
      "See the caveats in the documentation: https://pandas.pydata.org/pandas-docs/stable/user_guide/indexing.html#returning-a-view-versus-a-copy\n",
      "  new_df['month'] = pd.to_datetime(new_df['입원일자']).dt.month\n"
     ]
    }
   ],
   "source": [
    "df['입원일자'] = pd.to_datetime(df['입원일자'])\n",
    "new_df = df[['입원일자','재발여부']]\n",
    "new_df['count'] = 1\n",
    "new_df['month'] = pd.to_datetime(new_df['입원일자']).dt.month"
   ]
  },
  {
   "cell_type": "code",
   "execution_count": 5,
   "metadata": {},
   "outputs": [],
   "source": [
    "pivot_df = pd.pivot_table(new_df, index = 'month', columns='재발여부' , values = 'count' , aggfunc= 'sum')"
   ]
  },
  {
   "cell_type": "code",
   "execution_count": 6,
   "metadata": {},
   "outputs": [
    {
     "data": {
      "image/png": "[encoded data removed]",
      "text/plain": [
       "<Figure size 640x480 with 1 Axes>"
      ]
     },
     "metadata": {},
     "output_type": "display_data"
    }
   ],
   "source": [
    "sns.barplot(x='month', y='재발여부', data=new_df)\n",
    "plt.title(\"월별 X 재발여부\");"
   ]
  },
  {
   "cell_type": "code",
   "execution_count": 7,
   "metadata": {},
   "outputs": [
    {
     "name": "stdout",
     "output_type": "stream",
     "text": [
      "chi-sqauare test\n",
      "chisq :  15.962\n",
      "p :  0.143\n"
     ]
    }
   ],
   "source": [
    "chi, pval, dof, expected = stats.chi2_contingency(pivot_df)\n",
    "print('chi-sqauare test')\n",
    "print(f'chisq : {chi : 0.3f}')\n",
    "print(f'p : {pval : 0.3f}')"
   ]
  },
  {
   "cell_type": "code",
   "execution_count": 8,
   "metadata": {},
   "outputs": [],
   "source": [
    "def season(var):\n",
    "    var = str(var)\n",
    "    if var[5:7] in ['03','04','05']:\n",
    "        return '봄'\n",
    "    elif var[5:7] in ['06','07','08']:\n",
    "        return '여름'\n",
    "    elif var[5:7] in ['09','10','11']:\n",
    "        return '가을'\n",
    "    else:\n",
    "        return '겨울'"
   ]
  },
  {
   "cell_type": "code",
   "execution_count": 9,
   "metadata": {},
   "outputs": [],
   "source": [
    "df['season'] = df['입원일자'].apply(lambda x: season(x))"
   ]
  },
  {
   "cell_type": "code",
   "execution_count": 10,
   "metadata": {},
   "outputs": [
    {
     "data": {
      "text/plain": [
       "0        봄\n",
       "1        봄\n",
       "2        봄\n",
       "3       겨울\n",
       "4        봄\n",
       "        ..\n",
       "1889    겨울\n",
       "1890    겨울\n",
       "1891    겨울\n",
       "1892    겨울\n",
       "1893    겨울\n",
       "Name: season, Length: 1894, dtype: object"
      ]
     },
     "execution_count": 10,
     "metadata": {},
     "output_type": "execute_result"
    }
   ],
   "source": [
    "df.season"
   ]
  },
  {
   "cell_type": "code",
   "execution_count": 11,
   "metadata": {},
   "outputs": [],
   "source": [
    "df['count'] = 1\n",
    "pivot_df = pd.pivot_table(df, index = 'season', columns='재발여부' , values = 'count' , aggfunc= 'sum')"
   ]
  },
  {
   "cell_type": "code",
   "execution_count": 12,
   "metadata": {},
   "outputs": [
    {
     "name": "stdout",
     "output_type": "stream",
     "text": [
      "chi-sqauare test\n",
      "chisq :  2.952\n",
      "p :  0.399\n"
     ]
    }
   ],
   "source": [
    "chi, pval, dof, expected = stats.chi2_contingency(pivot_df)\n",
    "print('chi-sqauare test')\n",
    "print(f'chisq : {chi : 0.3f}')\n",
    "print(f'p : {pval : 0.3f}')"
   ]
  },
  {
   "cell_type": "code",
   "execution_count": 13,
   "metadata": {},
   "outputs": [],
   "source": [
    "def new_season(x):\n",
    "    if x in ['여름', '가을']:\n",
    "        result = 1\n",
    "    else:\n",
    "        result = 2\n",
    "    return(result)"
   ]
  },
  {
   "cell_type": "code",
   "execution_count": 14,
   "metadata": {},
   "outputs": [],
   "source": [
    "df['new_season'] = df['입원일자'].apply(lambda x: new_season(x))"
   ]
  },
  {
   "cell_type": "code",
   "execution_count": 15,
   "metadata": {},
   "outputs": [],
   "source": [
    "df['count'] = 1\n",
    "pivot_df = pd.pivot_table(df, index = 'new_season', columns='재발여부' , values = 'count' , aggfunc= 'sum')"
   ]
  },
  {
   "cell_type": "code",
   "execution_count": 16,
   "metadata": {},
   "outputs": [
    {
     "name": "stdout",
     "output_type": "stream",
     "text": [
      "chi-sqauare test\n",
      "chisq :  0.000\n",
      "p :  1.000\n"
     ]
    }
   ],
   "source": [
    "chi, pval, dof, expected = stats.chi2_contingency(pivot_df)\n",
    "print('chi-sqauare test')\n",
    "print(f'chisq : {chi : 0.3f}')\n",
    "print(f'p : {pval : 0.3f}')"
   ]
  },
  {
   "cell_type": "code",
   "execution_count": 17,
   "metadata": {},
   "outputs": [],
   "source": [
    "def neww_season(x):\n",
    "    if x in ['여름', '겨울']:\n",
    "        result = 1\n",
    "    else:\n",
    "        result = 2\n",
    "    return(result)"
   ]
  },
  {
   "cell_type": "code",
   "execution_count": 18,
   "metadata": {},
   "outputs": [],
   "source": [
    "df['neww_season'] = df['입원일자'].apply(lambda x: neww_season(x))"
   ]
  },
  {
   "cell_type": "code",
   "execution_count": 19,
   "metadata": {},
   "outputs": [],
   "source": [
    "df['count'] = 1\n",
    "pivot_df = pd.pivot_table(df, index = 'neww_season', columns='재발여부' , values = 'count' , aggfunc= 'sum')"
   ]
  },
  {
   "cell_type": "code",
   "execution_count": 20,
   "metadata": {},
   "outputs": [
    {
     "name": "stdout",
     "output_type": "stream",
     "text": [
      "chi-sqauare test\n",
      "chisq :  0.000\n",
      "p :  1.000\n"
     ]
    }
   ],
   "source": [
    "chi, pval, dof, expected = stats.chi2_contingency(pivot_df)\n",
    "print('chi-sqauare test')\n",
    "print(f'chisq : {chi : 0.3f}')\n",
    "print(f'p : {pval : 0.3f}')"
   ]
  },
  {
   "cell_type": "markdown",
   "metadata": {},
   "source": [
    "### 당뇨여부 - 재발여부\n",
    "$H_0 :$ 당뇨 여부에 따라 재발여부에 차이가 없다. \\\n",
    "$H_1 :$ 당뇨 여부에 따라 재발여부에 차이가 있다."
   ]
  },
  {
   "cell_type": "code",
   "execution_count": 21,
   "metadata": {},
   "outputs": [
    {
     "data": {
      "image/png": "[encoded data removed]",
      "text/plain": [
       "<Figure size 640x480 with 1 Axes>"
      ]
     },
     "metadata": {},
     "output_type": "display_data"
    }
   ],
   "source": [
    "sns.barplot(x='당뇨여부', y='재발여부', data=df)\n",
    "plt.title(\"당뇨여부 X 재발여부\");"
   ]
  },
  {
   "cell_type": "code",
   "execution_count": 22,
   "metadata": {},
   "outputs": [
    {
     "data": {
      "text/html": [
       "<div>\n",
       "<style scoped>\n",
       "    .dataframe tbody tr th:only-of-type {\n",
       "        vertical-align: middle;\n",
       "    }\n",
       "\n",
       "    .dataframe tbody tr th {\n",
       "        vertical-align: top;\n",
       "    }\n",
       "\n",
       "    .dataframe thead th {\n",
       "        text-align: right;\n",
       "    }\n",
       "</style>\n",
       "<table border=\"1\" class=\"dataframe\">\n",
       "  <thead>\n",
       "    <tr style=\"text-align: right;\">\n",
       "      <th>재발여부</th>\n",
       "      <th>0</th>\n",
       "      <th>1</th>\n",
       "    </tr>\n",
       "  </thead>\n",
       "  <tbody>\n",
       "    <tr>\n",
       "      <th>0</th>\n",
       "      <td>1588</td>\n",
       "      <td>187</td>\n",
       "    </tr>\n",
       "    <tr>\n",
       "      <th>1</th>\n",
       "      <td>79</td>\n",
       "      <td>40</td>\n",
       "    </tr>\n",
       "  </tbody>\n",
       "</table>\n",
       "</div>"
      ],
      "text/plain": [
       "재발여부     0    1\n",
       "0     1588  187\n",
       "1       79   40"
      ]
     },
     "execution_count": 22,
     "metadata": {},
     "output_type": "execute_result"
    }
   ],
   "source": [
    "df['count'] = 1\n",
    "new_df = df.pivot_table(index = '당뇨여부', columns = '재발여부', values = 'count', aggfunc = 'sum').reset_index(drop=True)\n",
    "new_df.head()"
   ]
  },
  {
   "cell_type": "code",
   "execution_count": 23,
   "metadata": {},
   "outputs": [
    {
     "name": "stdout",
     "output_type": "stream",
     "text": [
      "chi-sqauare test\n",
      "chisq :  54.141\n",
      "p :  0.000\n"
     ]
    }
   ],
   "source": [
    "chi, pval, dof, expected = stats.chi2_contingency(new_df)\n",
    "print('chi-sqauare test')\n",
    "print(f'chisq : {chi : 0.3f}')\n",
    "print(f'p : {pval : 0.3f}')"
   ]
  },
  {
   "cell_type": "markdown",
   "metadata": {},
   "source": [
    "- 수술 전 당뇨 환자를 위한 care 활동이 필요하다."
   ]
  },
  {
   "cell_type": "markdown",
   "metadata": {},
   "source": [
    "###  간질성폐질환 - 재발여부\n",
    "$H_0 :$ 간질성폐질환에 따라 재발여부에 차이가 없다. \\\n",
    "$H_1 :$ 간질성폐질환에 따라 재발여부에 차이가 있다."
   ]
  },
  {
   "cell_type": "code",
   "execution_count": 24,
   "metadata": {},
   "outputs": [
    {
     "data": {
      "image/png": "[encoded data removed]",
      "text/plain": [
       "<Figure size 640x480 with 1 Axes>"
      ]
     },
     "metadata": {},
     "output_type": "display_data"
    }
   ],
   "source": [
    "sns.barplot(x='간질성폐질환', y='재발여부', data=df)\n",
    "plt.title(\"간질성폐질환 X 재발여부\");"
   ]
  },
  {
   "cell_type": "code",
   "execution_count": 25,
   "metadata": {},
   "outputs": [
    {
     "data": {
      "text/html": [
       "<div>\n",
       "<style scoped>\n",
       "    .dataframe tbody tr th:only-of-type {\n",
       "        vertical-align: middle;\n",
       "    }\n",
       "\n",
       "    .dataframe tbody tr th {\n",
       "        vertical-align: top;\n",
       "    }\n",
       "\n",
       "    .dataframe thead th {\n",
       "        text-align: right;\n",
       "    }\n",
       "</style>\n",
       "<table border=\"1\" class=\"dataframe\">\n",
       "  <thead>\n",
       "    <tr style=\"text-align: right;\">\n",
       "      <th>재발여부</th>\n",
       "      <th>0</th>\n",
       "      <th>1</th>\n",
       "    </tr>\n",
       "  </thead>\n",
       "  <tbody>\n",
       "    <tr>\n",
       "      <th>0</th>\n",
       "      <td>1636</td>\n",
       "      <td>220</td>\n",
       "    </tr>\n",
       "    <tr>\n",
       "      <th>1</th>\n",
       "      <td>31</td>\n",
       "      <td>7</td>\n",
       "    </tr>\n",
       "  </tbody>\n",
       "</table>\n",
       "</div>"
      ],
      "text/plain": [
       "재발여부     0    1\n",
       "0     1636  220\n",
       "1       31    7"
      ]
     },
     "execution_count": 25,
     "metadata": {},
     "output_type": "execute_result"
    }
   ],
   "source": [
    "df['count'] = 1\n",
    "new_df = df.pivot_table(index = '간질성폐질환', columns = '재발여부', values = 'count', aggfunc = 'sum').reset_index(drop=True)\n",
    "new_df.head()"
   ]
  },
  {
   "cell_type": "code",
   "execution_count": 26,
   "metadata": {},
   "outputs": [
    {
     "name": "stdout",
     "output_type": "stream",
     "text": [
      "chi-sqauare test\n",
      "chisq :  0.964\n",
      "p :  0.326\n"
     ]
    }
   ],
   "source": [
    "chi, pval, dof, expected = stats.chi2_contingency(new_df)\n",
    "print('chi-sqauare test')\n",
    "print(f'chisq : {chi : 0.3f}')\n",
    "print(f'p : {pval : 0.3f}')"
   ]
  },
  {
   "cell_type": "markdown",
   "metadata": {},
   "source": [
    "### 암발병여부 - 재발여부\n",
    "$H_0 :$ 암발병 여부에 따라 재발여부에 차이가 없다. \\\n",
    "$H_1 :$ 암발병 여부에 따라 재발여부에 차이가 있다."
   ]
  },
  {
   "cell_type": "code",
   "execution_count": 27,
   "metadata": {},
   "outputs": [
    {
     "data": {
      "image/png": "[encoded data removed]",
      "text/plain": [
       "<Figure size 640x480 with 1 Axes>"
      ]
     },
     "metadata": {},
     "output_type": "display_data"
    }
   ],
   "source": [
    "sns.barplot(x='암발병여부', y='재발여부', data=df)\n",
    "plt.title(\"암발병여부 X 재발여부\");"
   ]
  },
  {
   "cell_type": "code",
   "execution_count": 28,
   "metadata": {},
   "outputs": [
    {
     "data": {
      "text/plain": [
       "암발병여부\n",
       "0        1868\n",
       "1          26\n",
       "dtype: int64"
      ]
     },
     "execution_count": 28,
     "metadata": {},
     "output_type": "execute_result"
    }
   ],
   "source": [
    "df[['암발병여부']].value_counts()"
   ]
  },
  {
   "cell_type": "code",
   "execution_count": 29,
   "metadata": {},
   "outputs": [
    {
     "data": {
      "text/html": [
       "<div>\n",
       "<style scoped>\n",
       "    .dataframe tbody tr th:only-of-type {\n",
       "        vertical-align: middle;\n",
       "    }\n",
       "\n",
       "    .dataframe tbody tr th {\n",
       "        vertical-align: top;\n",
       "    }\n",
       "\n",
       "    .dataframe thead th {\n",
       "        text-align: right;\n",
       "    }\n",
       "</style>\n",
       "<table border=\"1\" class=\"dataframe\">\n",
       "  <thead>\n",
       "    <tr style=\"text-align: right;\">\n",
       "      <th>재발여부</th>\n",
       "      <th>0</th>\n",
       "      <th>1</th>\n",
       "    </tr>\n",
       "  </thead>\n",
       "  <tbody>\n",
       "    <tr>\n",
       "      <th>0</th>\n",
       "      <td>1644</td>\n",
       "      <td>224</td>\n",
       "    </tr>\n",
       "    <tr>\n",
       "      <th>1</th>\n",
       "      <td>23</td>\n",
       "      <td>3</td>\n",
       "    </tr>\n",
       "  </tbody>\n",
       "</table>\n",
       "</div>"
      ],
      "text/plain": [
       "재발여부     0    1\n",
       "0     1644  224\n",
       "1       23    3"
      ]
     },
     "execution_count": 29,
     "metadata": {},
     "output_type": "execute_result"
    }
   ],
   "source": [
    "df['count'] = 1\n",
    "new_df = df.pivot_table(index = '암발병여부', columns = '재발여부', values = 'count', aggfunc = 'sum').reset_index(drop=True)\n",
    "new_df.head()"
   ]
  },
  {
   "cell_type": "code",
   "execution_count": 30,
   "metadata": {},
   "outputs": [
    {
     "name": "stdout",
     "output_type": "stream",
     "text": [
      "chi-sqauare test\n",
      "chisq :  0.000\n",
      "p :  1.000\n"
     ]
    }
   ],
   "source": [
    "chi, pval, dof, expected = stats.chi2_contingency(new_df)\n",
    "print('chi-sqauare test')\n",
    "print(f'chisq : {chi : 0.3f}')\n",
    "print(f'p : {pval : 0.3f}')"
   ]
  },
  {
   "cell_type": "markdown",
   "metadata": {},
   "source": [
    "- 암환자 여부에 따른 재발여부는 무의미\n",
    "- 암환자 표본이 너무 적다 -> 데이터 불균형 \n",
    "-> 안하면 됨 !"
   ]
  },
  {
   "cell_type": "markdown",
   "metadata": {},
   "source": [
    "### 심혈관질환 - 재발여부\n",
    "$H_0 :$ 심혈관질환 여부에 따라 재발여부에 차이가 없다. \\\n",
    "$H_1 :$ 심혈관질환 여부에 따라 재발여부에 차이가 있다."
   ]
  },
  {
   "cell_type": "code",
   "execution_count": 31,
   "metadata": {},
   "outputs": [
    {
     "data": {
      "image/png": "[encoded data removed]",
      "text/plain": [
       "<Figure size 640x480 with 1 Axes>"
      ]
     },
     "metadata": {},
     "output_type": "display_data"
    }
   ],
   "source": [
    "sns.barplot(x='심혈관질환', y='재발여부', data=df)\n",
    "plt.title(\"심혈관질환 X 재발여부\");"
   ]
  },
  {
   "cell_type": "code",
   "execution_count": 32,
   "metadata": {},
   "outputs": [
    {
     "data": {
      "text/html": [
       "<div>\n",
       "<style scoped>\n",
       "    .dataframe tbody tr th:only-of-type {\n",
       "        vertical-align: middle;\n",
       "    }\n",
       "\n",
       "    .dataframe tbody tr th {\n",
       "        vertical-align: top;\n",
       "    }\n",
       "\n",
       "    .dataframe thead th {\n",
       "        text-align: right;\n",
       "    }\n",
       "</style>\n",
       "<table border=\"1\" class=\"dataframe\">\n",
       "  <thead>\n",
       "    <tr style=\"text-align: right;\">\n",
       "      <th>재발여부</th>\n",
       "      <th>0</th>\n",
       "      <th>1</th>\n",
       "    </tr>\n",
       "  </thead>\n",
       "  <tbody>\n",
       "    <tr>\n",
       "      <th>0</th>\n",
       "      <td>1613</td>\n",
       "      <td>213</td>\n",
       "    </tr>\n",
       "    <tr>\n",
       "      <th>1</th>\n",
       "      <td>54</td>\n",
       "      <td>14</td>\n",
       "    </tr>\n",
       "  </tbody>\n",
       "</table>\n",
       "</div>"
      ],
      "text/plain": [
       "재발여부     0    1\n",
       "0     1613  213\n",
       "1       54   14"
      ]
     },
     "execution_count": 32,
     "metadata": {},
     "output_type": "execute_result"
    }
   ],
   "source": [
    "df['count'] = 1\n",
    "new_df = df.pivot_table(index = '심혈관질환', columns = '재발여부', values = 'count', aggfunc = 'sum').reset_index(drop=True)\n",
    "new_df.head()"
   ]
  },
  {
   "cell_type": "code",
   "execution_count": 33,
   "metadata": {},
   "outputs": [
    {
     "data": {
      "text/plain": [
       "심혈관질환\n",
       "0        1826\n",
       "1          68\n",
       "dtype: int64"
      ]
     },
     "execution_count": 33,
     "metadata": {},
     "output_type": "execute_result"
    }
   ],
   "source": [
    "df[['심혈관질환']].value_counts()"
   ]
  },
  {
   "cell_type": "code",
   "execution_count": 34,
   "metadata": {},
   "outputs": [
    {
     "name": "stdout",
     "output_type": "stream",
     "text": [
      "chi-sqauare test\n",
      "chisq :  4.139\n",
      "p :  0.042\n"
     ]
    }
   ],
   "source": [
    "chi, pval, dof, expected = stats.chi2_contingency(new_df)\n",
    "print('chi-sqauare test')\n",
    "print(f'chisq : {chi : 0.3f}')\n",
    "print(f'p : {pval : 0.3f}')"
   ]
  },
  {
   "cell_type": "markdown",
   "metadata": {},
   "source": [
    "- 암환자 표본이 너무 적다 -> 데이터 불균형 \n",
    "-> 안하면 됨 !"
   ]
  },
  {
   "cell_type": "markdown",
   "metadata": {},
   "source": [
    "### 신부전여부 - 재발여부\n",
    "$H_0 :$ 신부전 여부에 따라 재발여부에 차이가 없다. \\\n",
    "$H_1 :$ 신부전 여부에 따라 재발여부에 차이가 있다."
   ]
  },
  {
   "cell_type": "code",
   "execution_count": 35,
   "metadata": {},
   "outputs": [
    {
     "data": {
      "image/png": "[encoded data removed]",
      "text/plain": [
       "<Figure size 640x480 with 1 Axes>"
      ]
     },
     "metadata": {},
     "output_type": "display_data"
    }
   ],
   "source": [
    "sns.barplot(x='신부전여부', y='재발여부', data=df)\n",
    "plt.title(\"신부전여부 X 재발여부\");"
   ]
  },
  {
   "cell_type": "code",
   "execution_count": 36,
   "metadata": {},
   "outputs": [
    {
     "data": {
      "text/plain": [
       "신부전여부\n",
       "0        1846\n",
       "1          48\n",
       "dtype: int64"
      ]
     },
     "execution_count": 36,
     "metadata": {},
     "output_type": "execute_result"
    }
   ],
   "source": [
    "df[['신부전여부']].value_counts()"
   ]
  },
  {
   "cell_type": "markdown",
   "metadata": {},
   "source": [
    "### 스테로이드치료 - 재발여부\n",
    "$H_0 :$ 스테로이드치료 여부에 따라 재발여부에 차이가 없다. \\\n",
    "$H_1 :$ 스테로이드치료 여부에 따라 재발여부에 차이가 있다."
   ]
  },
  {
   "cell_type": "code",
   "execution_count": 37,
   "metadata": {},
   "outputs": [
    {
     "data": {
      "text/plain": [
       "스테로이드치료\n",
       "1          1134\n",
       "0           760\n",
       "dtype: int64"
      ]
     },
     "execution_count": 37,
     "metadata": {},
     "output_type": "execute_result"
    }
   ],
   "source": [
    "df[['스테로이드치료']].value_counts()"
   ]
  },
  {
   "cell_type": "code",
   "execution_count": 38,
   "metadata": {},
   "outputs": [
    {
     "data": {
      "image/png": "[encoded data removed]",
      "text/plain": [
       "<Figure size 640x480 with 1 Axes>"
      ]
     },
     "metadata": {},
     "output_type": "display_data"
    }
   ],
   "source": [
    "sns.barplot(x='스테로이드치료', y='재발여부', data=df)\n",
    "plt.title(\"스테로이드치료 X 재발여부\");"
   ]
  },
  {
   "cell_type": "code",
   "execution_count": 39,
   "metadata": {},
   "outputs": [
    {
     "data": {
      "text/html": [
       "<div>\n",
       "<style scoped>\n",
       "    .dataframe tbody tr th:only-of-type {\n",
       "        vertical-align: middle;\n",
       "    }\n",
       "\n",
       "    .dataframe tbody tr th {\n",
       "        vertical-align: top;\n",
       "    }\n",
       "\n",
       "    .dataframe thead th {\n",
       "        text-align: right;\n",
       "    }\n",
       "</style>\n",
       "<table border=\"1\" class=\"dataframe\">\n",
       "  <thead>\n",
       "    <tr style=\"text-align: right;\">\n",
       "      <th>재발여부</th>\n",
       "      <th>0</th>\n",
       "      <th>1</th>\n",
       "    </tr>\n",
       "  </thead>\n",
       "  <tbody>\n",
       "    <tr>\n",
       "      <th>0</th>\n",
       "      <td>665</td>\n",
       "      <td>95</td>\n",
       "    </tr>\n",
       "    <tr>\n",
       "      <th>1</th>\n",
       "      <td>1002</td>\n",
       "      <td>132</td>\n",
       "    </tr>\n",
       "  </tbody>\n",
       "</table>\n",
       "</div>"
      ],
      "text/plain": [
       "재발여부     0    1\n",
       "0      665   95\n",
       "1     1002  132"
      ]
     },
     "execution_count": 39,
     "metadata": {},
     "output_type": "execute_result"
    }
   ],
   "source": [
    "df['count'] = 1\n",
    "new_df = df.pivot_table(index = '스테로이드치료', columns = '재발여부', values = 'count', aggfunc = 'sum').reset_index(drop=True)\n",
    "new_df.head()"
   ]
  },
  {
   "cell_type": "code",
   "execution_count": 40,
   "metadata": {},
   "outputs": [
    {
     "name": "stdout",
     "output_type": "stream",
     "text": [
      "chi-sqauare test\n",
      "chisq :  0.243\n",
      "p :  0.622\n"
     ]
    }
   ],
   "source": [
    "chi, pval, dof, expected = stats.chi2_contingency(new_df)\n",
    "print('chi-sqauare test')\n",
    "print(f'chisq : {chi : 0.3f}')\n",
    "print(f'p : {pval : 0.3f}')"
   ]
  },
  {
   "cell_type": "markdown",
   "metadata": {},
   "source": [
    "- 무의미하다 ! 스테로이드치료와 재발여부는 상관없다"
   ]
  },
  {
   "cell_type": "markdown",
   "metadata": {},
   "source": [
    "### 흡연여부 - 재발여부\n",
    "$H_0 :$ 흡연 여부에 따라 재발여부에 차이가 없다. \\\n",
    "$H_1 :$ 흡연 여부에 따라 재발여부에 차이가 있다."
   ]
  },
  {
   "cell_type": "code",
   "execution_count": 41,
   "metadata": {},
   "outputs": [
    {
     "data": {
      "text/plain": [
       "흡연여부\n",
       "0       1483\n",
       "1        411\n",
       "dtype: int64"
      ]
     },
     "execution_count": 41,
     "metadata": {},
     "output_type": "execute_result"
    }
   ],
   "source": [
    "df[['흡연여부']].value_counts()"
   ]
  },
  {
   "cell_type": "code",
   "execution_count": 42,
   "metadata": {},
   "outputs": [
    {
     "data": {
      "image/png": "[encoded data removed]",
      "text/plain": [
       "<Figure size 640x480 with 1 Axes>"
      ]
     },
     "metadata": {},
     "output_type": "display_data"
    }
   ],
   "source": [
    "sns.barplot(x='흡연여부', y='재발여부', data=df)\n",
    "plt.title(\"흡연여부 X 재발여부\");"
   ]
  },
  {
   "cell_type": "code",
   "execution_count": 43,
   "metadata": {},
   "outputs": [
    {
     "data": {
      "text/html": [
       "<div>\n",
       "<style scoped>\n",
       "    .dataframe tbody tr th:only-of-type {\n",
       "        vertical-align: middle;\n",
       "    }\n",
       "\n",
       "    .dataframe tbody tr th {\n",
       "        vertical-align: top;\n",
       "    }\n",
       "\n",
       "    .dataframe thead th {\n",
       "        text-align: right;\n",
       "    }\n",
       "</style>\n",
       "<table border=\"1\" class=\"dataframe\">\n",
       "  <thead>\n",
       "    <tr style=\"text-align: right;\">\n",
       "      <th>재발여부</th>\n",
       "      <th>0</th>\n",
       "      <th>1</th>\n",
       "    </tr>\n",
       "  </thead>\n",
       "  <tbody>\n",
       "    <tr>\n",
       "      <th>0</th>\n",
       "      <td>1351</td>\n",
       "      <td>132</td>\n",
       "    </tr>\n",
       "    <tr>\n",
       "      <th>1</th>\n",
       "      <td>316</td>\n",
       "      <td>95</td>\n",
       "    </tr>\n",
       "  </tbody>\n",
       "</table>\n",
       "</div>"
      ],
      "text/plain": [
       "재발여부     0    1\n",
       "0     1351  132\n",
       "1      316   95"
      ]
     },
     "execution_count": 43,
     "metadata": {},
     "output_type": "execute_result"
    }
   ],
   "source": [
    "df['count'] = 1\n",
    "new_df = df.pivot_table(index = '흡연여부', columns = '재발여부', values = 'count', aggfunc = 'sum').reset_index(drop=True)\n",
    "new_df.head()"
   ]
  },
  {
   "cell_type": "code",
   "execution_count": 44,
   "metadata": {},
   "outputs": [
    {
     "name": "stdout",
     "output_type": "stream",
     "text": [
      "chi-sqauare test\n",
      "chisq :  60.291\n",
      "p :  0.000\n"
     ]
    }
   ],
   "source": [
    "chi, pval, dof, expected = stats.chi2_contingency(new_df)\n",
    "print('chi-sqauare test')\n",
    "print(f'chisq : {chi : 0.3f}')\n",
    "print(f'p : {pval : 0.3f}')"
   ]
  },
  {
   "cell_type": "markdown",
   "metadata": {},
   "source": [
    "### 혈전합병증여부 - 재발여부\n",
    "$H_0 :$ 혈전합병증 여부에 따라 재발여부에 차이가 없다. \\\n",
    "$H_1 :$ 혈전합병증 여부에 따라 재발여부에 차이가 있다."
   ]
  },
  {
   "cell_type": "code",
   "execution_count": 45,
   "metadata": {},
   "outputs": [
    {
     "data": {
      "text/plain": [
       "혈전합병증여부\n",
       "0          1890\n",
       "1             4\n",
       "dtype: int64"
      ]
     },
     "execution_count": 45,
     "metadata": {},
     "output_type": "execute_result"
    }
   ],
   "source": [
    "df[['혈전합병증여부']].value_counts()"
   ]
  },
  {
   "cell_type": "markdown",
   "metadata": {},
   "source": [
    "### 척추전방위증 - 재발여부\n",
    "$H_0 :$ 척추전방위증 여부에 따라 재발여부에 차이가 없다. \\\n",
    "$H_1 :$ 척추전방위증 여부에 따라 재발여부에 차이가 있다."
   ]
  },
  {
   "cell_type": "code",
   "execution_count": 46,
   "metadata": {},
   "outputs": [
    {
     "data": {
      "image/png": "[encoded data removed]",
      "text/plain": [
       "<Figure size 640x480 with 1 Axes>"
      ]
     },
     "metadata": {},
     "output_type": "display_data"
    }
   ],
   "source": [
    "sns.barplot(x='척추전방위증', y='재발여부', data=df)\n",
    "plt.title(\"척추전방위증 X 재발여부\");"
   ]
  },
  {
   "cell_type": "code",
   "execution_count": 47,
   "metadata": {},
   "outputs": [
    {
     "data": {
      "text/plain": [
       "척추전방위증\n",
       "0         1833\n",
       "1           61\n",
       "dtype: int64"
      ]
     },
     "execution_count": 47,
     "metadata": {},
     "output_type": "execute_result"
    }
   ],
   "source": [
    "df[['척추전방위증']].value_counts()"
   ]
  },
  {
   "cell_type": "markdown",
   "metadata": {},
   "source": [
    "### 척추이동척도 - 재발여부\n",
    "$H_0 :$ 척추이동척도 여부에 따라 재발여부에 차이가 없다. \\\n",
    "$H_1 :$ 척추이동척도 여부에 따라 재발여부에 차이가 있다. "
   ]
  },
  {
   "cell_type": "code",
   "execution_count": 48,
   "metadata": {},
   "outputs": [
    {
     "data": {
      "text/plain": [
       "척추이동척도        \n",
       "Middle            1260\n",
       "Down               513\n",
       "Up                  65\n",
       "Extremely down      40\n",
       "Extremely up        16\n",
       "dtype: int64"
      ]
     },
     "execution_count": 48,
     "metadata": {},
     "output_type": "execute_result"
    }
   ],
   "source": [
    "df[['척추이동척도']].value_counts()"
   ]
  },
  {
   "cell_type": "code",
   "execution_count": 49,
   "metadata": {},
   "outputs": [
    {
     "data": {
      "image/png": "[encoded data removed]",
      "text/plain": [
       "<Figure size 640x480 with 1 Axes>"
      ]
     },
     "metadata": {},
     "output_type": "display_data"
    }
   ],
   "source": [
    "sns.barplot(x='척추이동척도', y='재발여부', data=df)\n",
    "plt.title(\"척추이동척도 X 재발여부\");"
   ]
  },
  {
   "cell_type": "code",
   "execution_count": 50,
   "metadata": {},
   "outputs": [
    {
     "data": {
      "text/html": [
       "<div>\n",
       "<style scoped>\n",
       "    .dataframe tbody tr th:only-of-type {\n",
       "        vertical-align: middle;\n",
       "    }\n",
       "\n",
       "    .dataframe tbody tr th {\n",
       "        vertical-align: top;\n",
       "    }\n",
       "\n",
       "    .dataframe thead th {\n",
       "        text-align: right;\n",
       "    }\n",
       "</style>\n",
       "<table border=\"1\" class=\"dataframe\">\n",
       "  <thead>\n",
       "    <tr style=\"text-align: right;\">\n",
       "      <th>재발여부</th>\n",
       "      <th>0</th>\n",
       "      <th>1</th>\n",
       "    </tr>\n",
       "  </thead>\n",
       "  <tbody>\n",
       "    <tr>\n",
       "      <th>0</th>\n",
       "      <td>454.0</td>\n",
       "      <td>59.0</td>\n",
       "    </tr>\n",
       "    <tr>\n",
       "      <th>1</th>\n",
       "      <td>34.0</td>\n",
       "      <td>6.0</td>\n",
       "    </tr>\n",
       "    <tr>\n",
       "      <th>2</th>\n",
       "      <td>16.0</td>\n",
       "      <td>NaN</td>\n",
       "    </tr>\n",
       "    <tr>\n",
       "      <th>3</th>\n",
       "      <td>1110.0</td>\n",
       "      <td>150.0</td>\n",
       "    </tr>\n",
       "    <tr>\n",
       "      <th>4</th>\n",
       "      <td>53.0</td>\n",
       "      <td>12.0</td>\n",
       "    </tr>\n",
       "  </tbody>\n",
       "</table>\n",
       "</div>"
      ],
      "text/plain": [
       "재발여부       0      1\n",
       "0      454.0   59.0\n",
       "1       34.0    6.0\n",
       "2       16.0    NaN\n",
       "3     1110.0  150.0\n",
       "4       53.0   12.0"
      ]
     },
     "execution_count": 50,
     "metadata": {},
     "output_type": "execute_result"
    }
   ],
   "source": [
    "df['count'] = 1\n",
    "new_df = df.pivot_table(index = '척추이동척도', columns = '재발여부', values = 'count', aggfunc = 'sum').reset_index(drop=True)\n",
    "new_df.head()"
   ]
  },
  {
   "cell_type": "code",
   "execution_count": 51,
   "metadata": {},
   "outputs": [],
   "source": [
    "new_df.fillna(0, inplace = True)"
   ]
  },
  {
   "cell_type": "code",
   "execution_count": 52,
   "metadata": {},
   "outputs": [
    {
     "name": "stdout",
     "output_type": "stream",
     "text": [
      "chi-sqauare test\n",
      "chisq :  5.230\n",
      "p :  0.265\n"
     ]
    }
   ],
   "source": [
    "chi, pval, dof, expected = stats.chi2_contingency(new_df)\n",
    "print('chi-sqauare test')\n",
    "print(f'chisq : {chi : 0.3f}')\n",
    "print(f'p : {pval : 0.3f}')"
   ]
  },
  {
   "cell_type": "markdown",
   "metadata": {},
   "source": [
    "### 디스크위치 - 재발여부\n",
    "$H_0 :$ 디스크위치 여부에 따라 재발여부에 차이가 없다. \\\n",
    "$H_1 :$ 디스크위치 여부에 따라 재발여부에 차이가 있다."
   ]
  },
  {
   "cell_type": "code",
   "execution_count": 53,
   "metadata": {},
   "outputs": [
    {
     "data": {
      "text/plain": [
       "디스크위치\n",
       "4        1458\n",
       "5         271\n",
       "3         112\n",
       "2          27\n",
       "45          9\n",
       "34          8\n",
       "10          2\n",
       "11          2\n",
       "1           1\n",
       "12          1\n",
       "23          1\n",
       "25          1\n",
       "35          1\n",
       "dtype: int64"
      ]
     },
     "execution_count": 53,
     "metadata": {},
     "output_type": "execute_result"
    }
   ],
   "source": [
    "df[['디스크위치']].value_counts()"
   ]
  },
  {
   "cell_type": "code",
   "execution_count": 54,
   "metadata": {},
   "outputs": [],
   "source": [
    "df = df[df['디스크위치'] < 7]"
   ]
  },
  {
   "cell_type": "code",
   "execution_count": 55,
   "metadata": {},
   "outputs": [
    {
     "data": {
      "image/png": "[encoded data removed]",
      "text/plain": [
       "<Figure size 640x480 with 1 Axes>"
      ]
     },
     "metadata": {},
     "output_type": "display_data"
    }
   ],
   "source": [
    "sns.barplot(x='디스크위치', y='재발여부', data=df)\n",
    "plt.title(\"디스크위치 X 재발여부\");"
   ]
  },
  {
   "cell_type": "code",
   "execution_count": 56,
   "metadata": {},
   "outputs": [
    {
     "data": {
      "text/html": [
       "<div>\n",
       "<style scoped>\n",
       "    .dataframe tbody tr th:only-of-type {\n",
       "        vertical-align: middle;\n",
       "    }\n",
       "\n",
       "    .dataframe tbody tr th {\n",
       "        vertical-align: top;\n",
       "    }\n",
       "\n",
       "    .dataframe thead th {\n",
       "        text-align: right;\n",
       "    }\n",
       "</style>\n",
       "<table border=\"1\" class=\"dataframe\">\n",
       "  <thead>\n",
       "    <tr style=\"text-align: right;\">\n",
       "      <th>재발여부</th>\n",
       "      <th>0</th>\n",
       "      <th>1</th>\n",
       "    </tr>\n",
       "  </thead>\n",
       "  <tbody>\n",
       "    <tr>\n",
       "      <th>0</th>\n",
       "      <td>1.0</td>\n",
       "      <td>NaN</td>\n",
       "    </tr>\n",
       "    <tr>\n",
       "      <th>1</th>\n",
       "      <td>23.0</td>\n",
       "      <td>4.0</td>\n",
       "    </tr>\n",
       "    <tr>\n",
       "      <th>2</th>\n",
       "      <td>103.0</td>\n",
       "      <td>9.0</td>\n",
       "    </tr>\n",
       "    <tr>\n",
       "      <th>3</th>\n",
       "      <td>1279.0</td>\n",
       "      <td>179.0</td>\n",
       "    </tr>\n",
       "    <tr>\n",
       "      <th>4</th>\n",
       "      <td>240.0</td>\n",
       "      <td>31.0</td>\n",
       "    </tr>\n",
       "  </tbody>\n",
       "</table>\n",
       "</div>"
      ],
      "text/plain": [
       "재발여부       0      1\n",
       "0        1.0    NaN\n",
       "1       23.0    4.0\n",
       "2      103.0    9.0\n",
       "3     1279.0  179.0\n",
       "4      240.0   31.0"
      ]
     },
     "execution_count": 56,
     "metadata": {},
     "output_type": "execute_result"
    }
   ],
   "source": [
    "df['count'] = 1\n",
    "new_df = df.pivot_table(index = '디스크위치', columns = '재발여부', values = 'count', aggfunc = 'sum').reset_index(drop=True)\n",
    "new_df.head()"
   ]
  },
  {
   "cell_type": "code",
   "execution_count": 57,
   "metadata": {},
   "outputs": [],
   "source": [
    "new_df.fillna(0, inplace = True)"
   ]
  },
  {
   "cell_type": "code",
   "execution_count": 58,
   "metadata": {},
   "outputs": [
    {
     "name": "stdout",
     "output_type": "stream",
     "text": [
      "chi-sqauare test\n",
      "chisq :  2.195\n",
      "p :  0.700\n"
     ]
    }
   ],
   "source": [
    "chi, pval, dof, expected = stats.chi2_contingency(new_df)\n",
    "print('chi-sqauare test')\n",
    "print(f'chisq : {chi : 0.3f}')\n",
    "print(f'p : {pval : 0.3f}')"
   ]
  },
  {
   "cell_type": "markdown",
   "metadata": {},
   "source": [
    "### Vaccum disc - 재발여부\n",
    "$H_0 :$ 진공디스크 여부에 따라 재발여부에 차이가 없다. \\\n",
    "$H_1 :$ 진공디스크 여부에 따라 재발여부에 차이가 있다."
   ]
  },
  {
   "cell_type": "code",
   "execution_count": 59,
   "metadata": {},
   "outputs": [
    {
     "data": {
      "text/plain": [
       "Vaccum disc\n",
       "0              1764\n",
       "1               105\n",
       "dtype: int64"
      ]
     },
     "execution_count": 59,
     "metadata": {},
     "output_type": "execute_result"
    }
   ],
   "source": [
    "df[['Vaccum disc']].value_counts()"
   ]
  },
  {
   "cell_type": "code",
   "execution_count": 60,
   "metadata": {},
   "outputs": [
    {
     "data": {
      "image/png": "[encoded data removed]",
      "text/plain": [
       "<Figure size 640x480 with 1 Axes>"
      ]
     },
     "metadata": {},
     "output_type": "display_data"
    }
   ],
   "source": [
    "sns.barplot(x='Vaccum disc', y='재발여부', data=df)\n",
    "plt.title(\"진공디스크 X 재발여부\");"
   ]
  },
  {
   "cell_type": "code",
   "execution_count": 61,
   "metadata": {},
   "outputs": [
    {
     "data": {
      "text/html": [
       "<div>\n",
       "<style scoped>\n",
       "    .dataframe tbody tr th:only-of-type {\n",
       "        vertical-align: middle;\n",
       "    }\n",
       "\n",
       "    .dataframe tbody tr th {\n",
       "        vertical-align: top;\n",
       "    }\n",
       "\n",
       "    .dataframe thead th {\n",
       "        text-align: right;\n",
       "    }\n",
       "</style>\n",
       "<table border=\"1\" class=\"dataframe\">\n",
       "  <thead>\n",
       "    <tr style=\"text-align: right;\">\n",
       "      <th>재발여부</th>\n",
       "      <th>0</th>\n",
       "      <th>1</th>\n",
       "    </tr>\n",
       "  </thead>\n",
       "  <tbody>\n",
       "    <tr>\n",
       "      <th>0</th>\n",
       "      <td>1558</td>\n",
       "      <td>206</td>\n",
       "    </tr>\n",
       "    <tr>\n",
       "      <th>1</th>\n",
       "      <td>88</td>\n",
       "      <td>17</td>\n",
       "    </tr>\n",
       "  </tbody>\n",
       "</table>\n",
       "</div>"
      ],
      "text/plain": [
       "재발여부     0    1\n",
       "0     1558  206\n",
       "1       88   17"
      ]
     },
     "execution_count": 61,
     "metadata": {},
     "output_type": "execute_result"
    }
   ],
   "source": [
    "df['count'] = 1\n",
    "new_df = df.pivot_table(index = 'Vaccum disc', columns = '재발여부', values = 'count', aggfunc = 'sum').reset_index(drop=True)\n",
    "new_df.head()"
   ]
  },
  {
   "cell_type": "code",
   "execution_count": 62,
   "metadata": {},
   "outputs": [
    {
     "name": "stdout",
     "output_type": "stream",
     "text": [
      "chi-sqauare test\n",
      "chisq :  1.515\n",
      "p :  0.218\n"
     ]
    }
   ],
   "source": [
    "chi, pval, dof, expected = stats.chi2_contingency(new_df)\n",
    "print('chi-sqauare test')\n",
    "print(f'chisq : {chi : 0.3f}')\n",
    "print(f'p : {pval : 0.3f}')"
   ]
  },
  {
   "cell_type": "markdown",
   "metadata": {},
   "source": [
    "### Modic Change - 재발여부\n",
    "$H_0 :$ Modic Change 여부에 따라 재발여부에 차이가 없다. \\\n",
    "$H_1 :$ Modic Change 여부에 따라 재발여부에 차이가 있다."
   ]
  },
  {
   "cell_type": "code",
   "execution_count": 63,
   "metadata": {},
   "outputs": [
    {
     "data": {
      "text/plain": [
       "Modic change\n",
       "0               1618\n",
       "2                172\n",
       "1                 57\n",
       "3                 22\n",
       "dtype: int64"
      ]
     },
     "execution_count": 63,
     "metadata": {},
     "output_type": "execute_result"
    }
   ],
   "source": [
    "df[['Modic change']].value_counts()"
   ]
  },
  {
   "cell_type": "code",
   "execution_count": 64,
   "metadata": {},
   "outputs": [
    {
     "data": {
      "image/png": "[encoded data removed]",
      "text/plain": [
       "<Figure size 640x480 with 1 Axes>"
      ]
     },
     "metadata": {},
     "output_type": "display_data"
    }
   ],
   "source": [
    "sns.barplot(x='Modic change', y='재발여부', data=df)\n",
    "plt.title(\"Modic change X 재발여부\");"
   ]
  },
  {
   "cell_type": "code",
   "execution_count": 65,
   "metadata": {},
   "outputs": [
    {
     "data": {
      "text/html": [
       "<div>\n",
       "<style scoped>\n",
       "    .dataframe tbody tr th:only-of-type {\n",
       "        vertical-align: middle;\n",
       "    }\n",
       "\n",
       "    .dataframe tbody tr th {\n",
       "        vertical-align: top;\n",
       "    }\n",
       "\n",
       "    .dataframe thead th {\n",
       "        text-align: right;\n",
       "    }\n",
       "</style>\n",
       "<table border=\"1\" class=\"dataframe\">\n",
       "  <thead>\n",
       "    <tr style=\"text-align: right;\">\n",
       "      <th>재발여부</th>\n",
       "      <th>0</th>\n",
       "      <th>1</th>\n",
       "    </tr>\n",
       "  </thead>\n",
       "  <tbody>\n",
       "    <tr>\n",
       "      <th>0</th>\n",
       "      <td>1432</td>\n",
       "      <td>186</td>\n",
       "    </tr>\n",
       "    <tr>\n",
       "      <th>1</th>\n",
       "      <td>47</td>\n",
       "      <td>10</td>\n",
       "    </tr>\n",
       "    <tr>\n",
       "      <th>2</th>\n",
       "      <td>148</td>\n",
       "      <td>24</td>\n",
       "    </tr>\n",
       "    <tr>\n",
       "      <th>3</th>\n",
       "      <td>19</td>\n",
       "      <td>3</td>\n",
       "    </tr>\n",
       "  </tbody>\n",
       "</table>\n",
       "</div>"
      ],
      "text/plain": [
       "재발여부     0    1\n",
       "0     1432  186\n",
       "1       47   10\n",
       "2      148   24\n",
       "3       19    3"
      ]
     },
     "execution_count": 65,
     "metadata": {},
     "output_type": "execute_result"
    }
   ],
   "source": [
    "df['count'] = 1\n",
    "new_df = df.pivot_table(index = 'Modic change', columns = '재발여부', values = 'count', aggfunc = 'sum').reset_index(drop=True)\n",
    "new_df.head()"
   ]
  },
  {
   "cell_type": "code",
   "execution_count": 66,
   "metadata": {},
   "outputs": [
    {
     "name": "stdout",
     "output_type": "stream",
     "text": [
      "chi-sqauare test\n",
      "chisq :  2.731\n",
      "p :  0.435\n"
     ]
    }
   ],
   "source": [
    "chi, pval, dof, expected = stats.chi2_contingency(new_df)\n",
    "print('chi-sqauare test')\n",
    "print(f'chisq : {chi : 0.3f}')\n",
    "print(f'p : {pval : 0.3f}')"
   ]
  },
  {
   "cell_type": "markdown",
   "metadata": {},
   "source": [
    "###  연령 - 재발여부\n",
    "$H_0 :$ 연령에 따라 재발여부에 차이가 없다. \\\n",
    "$H_1 :$ 연령에 따라 재발여부에 차이가 있다."
   ]
  },
  {
   "cell_type": "code",
   "execution_count": 67,
   "metadata": {},
   "outputs": [],
   "source": [
    "def age(x):\n",
    "    if x <= 18:\n",
    "        result = \"청소년\"\n",
    "    elif x <= 29:\n",
    "        result = \"청년\"\n",
    "    elif x<= 49:\n",
    "        result = \"중년\"\n",
    "    elif x<= 64:\n",
    "        result = \"장년\"\n",
    "    else:\n",
    "        result = \"노년\"\n",
    "    return result\n"
   ]
  },
  {
   "cell_type": "code",
   "execution_count": 68,
   "metadata": {},
   "outputs": [],
   "source": [
    "df['new_연령'] = df[\"연령\"].apply(lambda x: age(x))"
   ]
  },
  {
   "cell_type": "code",
   "execution_count": 69,
   "metadata": {},
   "outputs": [
    {
     "data": {
      "text/plain": [
       "new_연령\n",
       "중년        1042\n",
       "장년         355\n",
       "청년         343\n",
       "노년          92\n",
       "청소년         37\n",
       "dtype: int64"
      ]
     },
     "execution_count": 69,
     "metadata": {},
     "output_type": "execute_result"
    }
   ],
   "source": [
    "df[['new_연령']].value_counts()"
   ]
  },
  {
   "cell_type": "code",
   "execution_count": 70,
   "metadata": {},
   "outputs": [
    {
     "data": {
      "image/png": "[encoded data removed]",
      "text/plain": [
       "<Figure size 640x480 with 1 Axes>"
      ]
     },
     "metadata": {},
     "output_type": "display_data"
    }
   ],
   "source": [
    "sns.barplot(x='new_연령', y='재발여부', data=df)\n",
    "plt.title(\"연령 X 재발여부\");"
   ]
  },
  {
   "cell_type": "code",
   "execution_count": 71,
   "metadata": {},
   "outputs": [
    {
     "data": {
      "text/html": [
       "<div>\n",
       "<style scoped>\n",
       "    .dataframe tbody tr th:only-of-type {\n",
       "        vertical-align: middle;\n",
       "    }\n",
       "\n",
       "    .dataframe tbody tr th {\n",
       "        vertical-align: top;\n",
       "    }\n",
       "\n",
       "    .dataframe thead th {\n",
       "        text-align: right;\n",
       "    }\n",
       "</style>\n",
       "<table border=\"1\" class=\"dataframe\">\n",
       "  <thead>\n",
       "    <tr style=\"text-align: right;\">\n",
       "      <th>재발여부</th>\n",
       "      <th>0</th>\n",
       "      <th>1</th>\n",
       "    </tr>\n",
       "  </thead>\n",
       "  <tbody>\n",
       "    <tr>\n",
       "      <th>0</th>\n",
       "      <td>78</td>\n",
       "      <td>14</td>\n",
       "    </tr>\n",
       "    <tr>\n",
       "      <th>1</th>\n",
       "      <td>313</td>\n",
       "      <td>42</td>\n",
       "    </tr>\n",
       "    <tr>\n",
       "      <th>2</th>\n",
       "      <td>907</td>\n",
       "      <td>135</td>\n",
       "    </tr>\n",
       "    <tr>\n",
       "      <th>3</th>\n",
       "      <td>314</td>\n",
       "      <td>29</td>\n",
       "    </tr>\n",
       "    <tr>\n",
       "      <th>4</th>\n",
       "      <td>34</td>\n",
       "      <td>3</td>\n",
       "    </tr>\n",
       "  </tbody>\n",
       "</table>\n",
       "</div>"
      ],
      "text/plain": [
       "재발여부    0    1\n",
       "0      78   14\n",
       "1     313   42\n",
       "2     907  135\n",
       "3     314   29\n",
       "4      34    3"
      ]
     },
     "execution_count": 71,
     "metadata": {},
     "output_type": "execute_result"
    }
   ],
   "source": [
    "df['count'] = 1\n",
    "new_df = df.pivot_table(index = 'new_연령', columns = '재발여부', values = 'count', aggfunc = 'sum').reset_index(drop=True)\n",
    "new_df.head()"
   ]
  },
  {
   "cell_type": "code",
   "execution_count": 72,
   "metadata": {
    "scrolled": true
   },
   "outputs": [
    {
     "name": "stdout",
     "output_type": "stream",
     "text": [
      "chi-sqauare test\n",
      "chisq :  6.450\n",
      "p :  0.168\n"
     ]
    }
   ],
   "source": [
    "chi, pval, dof, expected = stats.chi2_contingency(new_df)\n",
    "print('chi-sqauare test')\n",
    "print(f'chisq : {chi : 0.3f}')\n",
    "print(f'p : {pval : 0.3f}')"
   ]
  },
  {
   "cell_type": "markdown",
   "metadata": {},
   "source": [
    "###  Instability - 재발여부\n",
    "$H_0 :$ 척추 불안정 여부에 따라 재발여부에 차이가 없다. \\\n",
    "$H_1 :$ 척추 불안정 여부에 따라 재발여부에 차이가 있다."
   ]
  },
  {
   "cell_type": "code",
   "execution_count": 73,
   "metadata": {},
   "outputs": [
    {
     "data": {
      "text/plain": [
       "Instability\n",
       "0              1792\n",
       "1                77\n",
       "dtype: int64"
      ]
     },
     "execution_count": 73,
     "metadata": {},
     "output_type": "execute_result"
    }
   ],
   "source": [
    "df[['Instability']].value_counts()"
   ]
  },
  {
   "cell_type": "code",
   "execution_count": 74,
   "metadata": {
    "scrolled": true
   },
   "outputs": [
    {
     "data": {
      "image/png": "[encoded data removed]",
      "text/plain": [
       "<Figure size 640x480 with 1 Axes>"
      ]
     },
     "metadata": {},
     "output_type": "display_data"
    }
   ],
   "source": [
    "sns.barplot(x='Instability', y='재발여부', data=df)\n",
    "plt.title(\"척추불안정여부 X 재발여부\");"
   ]
  },
  {
   "cell_type": "code",
   "execution_count": 75,
   "metadata": {
    "scrolled": true
   },
   "outputs": [
    {
     "data": {
      "text/html": [
       "<div>\n",
       "<style scoped>\n",
       "    .dataframe tbody tr th:only-of-type {\n",
       "        vertical-align: middle;\n",
       "    }\n",
       "\n",
       "    .dataframe tbody tr th {\n",
       "        vertical-align: top;\n",
       "    }\n",
       "\n",
       "    .dataframe thead th {\n",
       "        text-align: right;\n",
       "    }\n",
       "</style>\n",
       "<table border=\"1\" class=\"dataframe\">\n",
       "  <thead>\n",
       "    <tr style=\"text-align: right;\">\n",
       "      <th>재발여부</th>\n",
       "      <th>0</th>\n",
       "      <th>1</th>\n",
       "    </tr>\n",
       "  </thead>\n",
       "  <tbody>\n",
       "    <tr>\n",
       "      <th>0</th>\n",
       "      <td>1578</td>\n",
       "      <td>214</td>\n",
       "    </tr>\n",
       "    <tr>\n",
       "      <th>1</th>\n",
       "      <td>68</td>\n",
       "      <td>9</td>\n",
       "    </tr>\n",
       "  </tbody>\n",
       "</table>\n",
       "</div>"
      ],
      "text/plain": [
       "재발여부     0    1\n",
       "0     1578  214\n",
       "1       68    9"
      ]
     },
     "execution_count": 75,
     "metadata": {},
     "output_type": "execute_result"
    }
   ],
   "source": [
    "df['count'] = 1\n",
    "new_df = df.pivot_table(index = 'Instability', columns = '재발여부', values = 'count', aggfunc = 'sum').reset_index(drop=True)\n",
    "new_df.head()"
   ]
  },
  {
   "cell_type": "code",
   "execution_count": 76,
   "metadata": {},
   "outputs": [
    {
     "name": "stdout",
     "output_type": "stream",
     "text": [
      "chi-sqauare test\n",
      "chisq :  0.000\n",
      "p :  1.000\n"
     ]
    }
   ],
   "source": [
    "chi, pval, dof, expected = stats.chi2_contingency(new_df)\n",
    "print('chi-sqauare test')\n",
    "print(f'chisq : {chi : 0.3f}')\n",
    "print(f'p : {pval : 0.3f}')"
   ]
  },
  {
   "cell_type": "markdown",
   "metadata": {},
   "source": [
    "## 연속형"
   ]
  },
  {
   "cell_type": "code",
   "execution_count": 9,
   "metadata": {},
   "outputs": [],
   "source": [
    "# 정규성 검정\n",
    "def  ttest1(df):\n",
    "    statistic , p = stats.shapiro(df)\n",
    "    print(f'statistic : {statistic}, p-value = {p}')\n"
   ]
  },
  {
   "cell_type": "code",
   "execution_count": 10,
   "metadata": {},
   "outputs": [],
   "source": [
    "# 등분산성 검정\n",
    "def ttest2(df1, df2):\n",
    "    result = stats.bartlett(df1, df2)\n",
    "    print(result)"
   ]
  },
  {
   "cell_type": "code",
   "execution_count": 11,
   "metadata": {},
   "outputs": [],
   "source": [
    "# t-test\n",
    "def ttest(df1, df2, right = True):\n",
    "    t_result = stats.ttest_ind(df1,df2, equal_var = right)\n",
    "    t,p = t_result.statistic.round(3), t_result.pvalue.round(3)\n",
    "    print(\"2-Sample t-test\")\n",
    "    print(\"t:{}\".format(t))\n",
    "    print(\"p:{}\".format(p))\n"
   ]
  },
  {
   "cell_type": "code",
   "execution_count": 80,
   "metadata": {},
   "outputs": [],
   "source": [
    "# 정규성 검정 불통\n",
    "def man(df1, df2):\n",
    "    res = stats.mannwhitneyu(df1, df1)\n",
    "    print(res)\n"
   ]
  },
  {
   "cell_type": "markdown",
   "metadata": {},
   "source": [
    "###  체중 - 재발여부\n",
    "$H_0 :$ 체중에 따라 재발여부에 차이가 없다. \\\n",
    "$H_1 :$ 체중에 따라 재발여부에 차이가 있다."
   ]
  },
  {
   "cell_type": "code",
   "execution_count": 81,
   "metadata": {},
   "outputs": [
    {
     "data": {
      "image/png": "[encoded data removed]",
      "text/plain": [
       "<Figure size 640x480 with 1 Axes>"
      ]
     },
     "metadata": {},
     "output_type": "display_data"
    }
   ],
   "source": [
    "sns.boxplot(x='재발여부', y='체중', data=df)\n",
    "plt.title(\"체중 X 재발여부\");"
   ]
  },
  {
   "cell_type": "code",
   "execution_count": 82,
   "metadata": {},
   "outputs": [],
   "source": [
    "df1 = df[df['재발여부'] == 0]['체중']\n",
    "df2 = df[df['재발여부'] == 1]['체중']"
   ]
  },
  {
   "cell_type": "code",
   "execution_count": 83,
   "metadata": {
    "scrolled": true
   },
   "outputs": [
    {
     "name": "stdout",
     "output_type": "stream",
     "text": [
      "등분산성 : \n",
      "BartlettResult(statistic=56.80357633281346, pvalue=4.815897579837815e-14)\n"
     ]
    }
   ],
   "source": [
    "print('등분산성 : ')\n",
    "ttest2(df1, df2)"
   ]
  },
  {
   "cell_type": "code",
   "execution_count": 84,
   "metadata": {},
   "outputs": [
    {
     "name": "stdout",
     "output_type": "stream",
     "text": [
      "2-Sample t-test\n",
      "t:-6.219\n",
      "p:0.0\n"
     ]
    }
   ],
   "source": [
    "ttest(df1, df2, False)"
   ]
  },
  {
   "cell_type": "markdown",
   "metadata": {},
   "source": [
    "- t가 유의미함"
   ]
  },
  {
   "cell_type": "markdown",
   "metadata": {},
   "source": [
    "###  신장 - 재발여부\n",
    "$H_0 :$ 신장에 따라 재발여부에 차이가 없다. \\\n",
    "$H_1 :$ 신장에 따라 재발여부에 차이가 있다."
   ]
  },
  {
   "cell_type": "code",
   "execution_count": 85,
   "metadata": {},
   "outputs": [
    {
     "data": {
      "image/png": "[encoded data removed]",
      "text/plain": [
       "<Figure size 640x480 with 1 Axes>"
      ]
     },
     "metadata": {},
     "output_type": "display_data"
    }
   ],
   "source": [
    "sns.boxplot(x='재발여부', y='신장', data=df)\n",
    "plt.title(\"신장 X 재발여부\");"
   ]
  },
  {
   "cell_type": "code",
   "execution_count": 86,
   "metadata": {},
   "outputs": [],
   "source": [
    "df1 = df[df['재발여부'] == 0]['신장']\n",
    "df2 = df[df['재발여부'] == 1]['신장']"
   ]
  },
  {
   "cell_type": "code",
   "execution_count": 87,
   "metadata": {},
   "outputs": [
    {
     "name": "stdout",
     "output_type": "stream",
     "text": [
      "등분산성 : \n",
      "BartlettResult(statistic=0.9043985699864794, pvalue=0.34160502442901675)\n"
     ]
    }
   ],
   "source": [
    "print('등분산성 : ')\n",
    "ttest2(df1, df2)"
   ]
  },
  {
   "cell_type": "code",
   "execution_count": 88,
   "metadata": {},
   "outputs": [
    {
     "name": "stdout",
     "output_type": "stream",
     "text": [
      "2-Sample t-test\n",
      "t:-2.712\n",
      "p:0.007\n"
     ]
    }
   ],
   "source": [
    "ttest(df1, df2)"
   ]
  },
  {
   "cell_type": "markdown",
   "metadata": {},
   "source": [
    "###  과거수술횟수 - 재발여부\n",
    "$H_0 :$ 과거수술횟수에 따라 재발여부에 차이가 없다. \\\n",
    "$H_1 :$ 과거수술횟수에 따라 재발여부에 차이가 있다."
   ]
  },
  {
   "cell_type": "code",
   "execution_count": 89,
   "metadata": {},
   "outputs": [
    {
     "data": {
      "image/png": "[encoded data removed]",
      "text/plain": [
       "<Figure size 640x480 with 1 Axes>"
      ]
     },
     "metadata": {},
     "output_type": "display_data"
    }
   ],
   "source": [
    "sns.boxplot(x='재발여부', y='과거수술횟수', data=df)\n",
    "plt.title(\"과거수술횟수 X 재발여부\");"
   ]
  },
  {
   "cell_type": "code",
   "execution_count": 90,
   "metadata": {},
   "outputs": [],
   "source": [
    "df1 = df[df['재발여부'] == 0]['과거수술횟수']\n",
    "df2 = df[df['재발여부'] == 1]['과거수술횟수']"
   ]
  },
  {
   "cell_type": "code",
   "execution_count": 91,
   "metadata": {},
   "outputs": [
    {
     "name": "stdout",
     "output_type": "stream",
     "text": [
      "등분산성 : \n",
      "BartlettResult(statistic=4.878324251680115, pvalue=0.02719600979096736)\n"
     ]
    }
   ],
   "source": [
    "print('등분산성 : ')\n",
    "ttest2(df1, df2)"
   ]
  },
  {
   "cell_type": "code",
   "execution_count": 92,
   "metadata": {},
   "outputs": [
    {
     "name": "stdout",
     "output_type": "stream",
     "text": [
      "2-Sample t-test\n",
      "t:-2.042\n",
      "p:0.041\n"
     ]
    }
   ],
   "source": [
    "ttest(df1, df2)"
   ]
  },
  {
   "cell_type": "markdown",
   "metadata": {},
   "source": [
    "###  Large Lymphocyte - 재발여부\n",
    "$H_0 :$ 림프구에 따라 재발여부에 차이가 없다. \\\n",
    "$H_1 :$ 림프구에 따라 재발여부에 차이가 있다."
   ]
  },
  {
   "cell_type": "code",
   "execution_count": 93,
   "metadata": {},
   "outputs": [
    {
     "data": {
      "image/png": "[encoded data removed]",
      "text/plain": [
       "<Figure size 640x480 with 1 Axes>"
      ]
     },
     "metadata": {},
     "output_type": "display_data"
    }
   ],
   "source": [
    "sns.boxplot(x='재발여부', y='Large Lymphocyte', data=df)\n",
    "plt.title(\"Large Lymphocyte X 재발여부\");"
   ]
  },
  {
   "cell_type": "code",
   "execution_count": 94,
   "metadata": {},
   "outputs": [],
   "source": [
    "df1 = df[df['재발여부'] == 0]['Large Lymphocyte']\n",
    "df2 = df[df['재발여부'] == 1]['Large Lymphocyte']"
   ]
  },
  {
   "cell_type": "code",
   "execution_count": 95,
   "metadata": {},
   "outputs": [
    {
     "name": "stdout",
     "output_type": "stream",
     "text": [
      "등분산성 : \n",
      "BartlettResult(statistic=3.9218686843742754, pvalue=0.04766187348608558)\n"
     ]
    }
   ],
   "source": [
    "print('등분산성 : ')\n",
    "ttest2(df1, df2)"
   ]
  },
  {
   "cell_type": "code",
   "execution_count": 96,
   "metadata": {},
   "outputs": [
    {
     "name": "stdout",
     "output_type": "stream",
     "text": [
      "2-Sample t-test\n",
      "t:1.822\n",
      "p:0.069\n"
     ]
    }
   ],
   "source": [
    "ttest(df1, df2, False)"
   ]
  },
  {
   "cell_type": "markdown",
   "metadata": {},
   "source": [
    "###  입원기간 - 재발여부\n",
    "$H_0 :$ 입원기간에 따라 재발여부에 차이가 없다. \\\n",
    "$H_1 :$ 입원기간에 따라 재발여부에 차이가 있다."
   ]
  },
  {
   "cell_type": "code",
   "execution_count": 97,
   "metadata": {},
   "outputs": [
    {
     "data": {
      "image/png": "[encoded data removed]",
      "text/plain": [
       "<Figure size 640x480 with 1 Axes>"
      ]
     },
     "metadata": {},
     "output_type": "display_data"
    }
   ],
   "source": [
    "sns.boxplot(x='재발여부', y='입원기간', data=df)\n",
    "plt.title(\"입원기간 X 재발여부\");"
   ]
  },
  {
   "cell_type": "code",
   "execution_count": 98,
   "metadata": {},
   "outputs": [],
   "source": [
    "df1 = df[df['재발여부'] == 0]['입원기간']\n",
    "df2 = df[df['재발여부'] == 1]['입원기간']"
   ]
  },
  {
   "cell_type": "code",
   "execution_count": 99,
   "metadata": {},
   "outputs": [
    {
     "name": "stdout",
     "output_type": "stream",
     "text": [
      "등분산성 : \n",
      "BartlettResult(statistic=149.81000765324987, pvalue=1.9076017279273337e-34)\n"
     ]
    }
   ],
   "source": [
    "print('등분산성 : ')\n",
    "ttest2(df1, df2)"
   ]
  },
  {
   "cell_type": "code",
   "execution_count": 100,
   "metadata": {},
   "outputs": [
    {
     "name": "stdout",
     "output_type": "stream",
     "text": [
      "2-Sample t-test\n",
      "t:-0.361\n",
      "p:0.718\n"
     ]
    }
   ],
   "source": [
    "ttest(df1, df2, False)"
   ]
  },
  {
   "cell_type": "markdown",
   "metadata": {},
   "source": [
    "###  입원일자 - 재발여부\n",
    "$H_0 :$ 입원일자에 따라 재발여부에 차이가 없다. \\\n",
    "$H_1 :$ 입원일자에 따라 재발여부에 차이가 있다."
   ]
  },
  {
   "cell_type": "code",
   "execution_count": 101,
   "metadata": {},
   "outputs": [
    {
     "name": "stdout",
     "output_type": "stream",
     "text": [
      "등분산성 검사 결과:\n",
      "BartlettResult(statistic=1.154067809925672, pvalue=0.28269923073787473)\n"
     ]
    }
   ],
   "source": [
    "df['입원일자'] = pd.to_datetime(df['입원일자'])\n",
    "\n",
    "df1 = df[df['재발여부'] == 0]['입원일자']\n",
    "df2 = df[df['재발여부'] == 1]['입원일자']\n",
    "\n",
    "df1_month = pd.to_datetime(df1).dt.month\n",
    "df2_month = pd.to_datetime(df2).dt.month\n",
    "\n",
    "result = bartlett(df1_month, df2_month)\n",
    "\n",
    "print('등분산성 검사 결과:')\n",
    "print(result)"
   ]
  },
  {
   "cell_type": "code",
   "execution_count": 102,
   "metadata": {},
   "outputs": [
    {
     "name": "stdout",
     "output_type": "stream",
     "text": [
      "2-Sample t-test\n",
      "t:-0.695\n",
      "p:0.487\n"
     ]
    }
   ],
   "source": [
    "ttest(df1_month, df2_month)"
   ]
  },
  {
   "cell_type": "markdown",
   "metadata": {},
   "source": [
    "###  퇴원일자 - 재발여부\n",
    "$H_0 :$ 퇴원일자에 따라 재발여부에 차이가 없다. \\\n",
    "$H_1 :$ 퇴원일자에 따라 재발여부에 차이가 있다."
   ]
  },
  {
   "cell_type": "code",
   "execution_count": 103,
   "metadata": {},
   "outputs": [
    {
     "name": "stdout",
     "output_type": "stream",
     "text": [
      "등분산성 검사 결과:\n",
      "BartlettResult(statistic=0.47363207424470904, pvalue=0.4913209728800261)\n"
     ]
    }
   ],
   "source": [
    "df['퇴원일자'] = pd.to_datetime(df['퇴원일자'])\n",
    "\n",
    "df1 = df[df['재발여부'] == 0]['퇴원일자']\n",
    "df2 = df[df['재발여부'] == 1]['퇴원일자']\n",
    "\n",
    "df1_month = pd.to_datetime(df1).dt.month\n",
    "df2_month = pd.to_datetime(df2).dt.month\n",
    "\n",
    "result = bartlett(df1_month, df2_month)\n",
    "\n",
    "print('등분산성 검사 결과:')\n",
    "print(result)"
   ]
  },
  {
   "cell_type": "code",
   "execution_count": 104,
   "metadata": {},
   "outputs": [
    {
     "name": "stdout",
     "output_type": "stream",
     "text": [
      "2-Sample t-test\n",
      "t:0.56\n",
      "p:0.575\n"
     ]
    }
   ],
   "source": [
    "ttest(df1_month, df2_month)"
   ]
  },
  {
   "cell_type": "markdown",
   "metadata": {},
   "source": [
    "###  헤모글로빈수치 - 재발여부\n",
    "$H_0 :$ 헤모글로빈수치에 따라 재발여부에 차이가 없다. \\\n",
    "$H_1 :$ 헤모글로빈수치에 따라 재발여부에 차이가 있다."
   ]
  },
  {
   "cell_type": "code",
   "execution_count": 105,
   "metadata": {
    "scrolled": true
   },
   "outputs": [
    {
     "name": "stdout",
     "output_type": "stream",
     "text": [
      "14.999792027729638\n",
      "13.929859943977592\n"
     ]
    }
   ],
   "source": [
    "헤모글로빈수치_1 = df[df['성별'] == 1]['헤모글로빈수치'].mean()\n",
    "헤모글로빈수치_2 = df[df['성별'] == 2]['헤모글로빈수치'].mean()\n",
    "print(헤모글로빈수치_1)\n",
    "print(헤모글로빈수치_2)"
   ]
  },
  {
   "cell_type": "code",
   "execution_count": 106,
   "metadata": {},
   "outputs": [],
   "source": [
    "df.헤모글로빈수치.fillna(14.976942003514937, inplace=True)"
   ]
  },
  {
   "cell_type": "code",
   "execution_count": 107,
   "metadata": {
    "scrolled": true
   },
   "outputs": [
    {
     "data": {
      "image/png": "[encoded data removed]",
      "text/plain": [
       "<Figure size 640x480 with 1 Axes>"
      ]
     },
     "metadata": {},
     "output_type": "display_data"
    }
   ],
   "source": [
    "sns.boxplot(x='재발여부', y='헤모글로빈수치', data=df)\n",
    "plt.title(\"헤모글로빈수치 X 재발여부\");"
   ]
  },
  {
   "cell_type": "code",
   "execution_count": 108,
   "metadata": {},
   "outputs": [],
   "source": [
    "df1 = df[df['재발여부'] == 0]['헤모글로빈수치']\n",
    "df2 = df[df['재발여부'] == 1]['헤모글로빈수치']"
   ]
  },
  {
   "cell_type": "code",
   "execution_count": 109,
   "metadata": {},
   "outputs": [
    {
     "name": "stdout",
     "output_type": "stream",
     "text": [
      "등분산성 : \n",
      "BartlettResult(statistic=0.6793078932306335, pvalue=0.40982515048952783)\n"
     ]
    }
   ],
   "source": [
    "print('등분산성 : ')\n",
    "ttest2(df1, df2)"
   ]
  },
  {
   "cell_type": "code",
   "execution_count": 110,
   "metadata": {},
   "outputs": [
    {
     "name": "stdout",
     "output_type": "stream",
     "text": [
      "2-Sample t-test\n",
      "t:-1.967\n",
      "p:0.049\n"
     ]
    }
   ],
   "source": [
    "ttest(df1, df2)"
   ]
  },
  {
   "cell_type": "markdown",
   "metadata": {},
   "source": [
    "###  통증기간 - 재발여부\n",
    "$H_0 :$ 통증기간에 따라 재발여부에 차이가 없다. \\\n",
    "$H_1 :$ 통증기간에 따라 재발여부에 차이가 있다."
   ]
  },
  {
   "cell_type": "code",
   "execution_count": 111,
   "metadata": {},
   "outputs": [],
   "source": [
    "df['통증기간(월)'].fillna(df['통증기간(월)'].mean(skipna= True), inplace = True)\n",
    "#결측치 평균으로 채움"
   ]
  },
  {
   "cell_type": "code",
   "execution_count": 112,
   "metadata": {},
   "outputs": [
    {
     "data": {
      "image/png": "[encoded data removed]",
      "text/plain": [
       "<Figure size 640x480 with 1 Axes>"
      ]
     },
     "metadata": {},
     "output_type": "display_data"
    }
   ],
   "source": [
    "sns.boxplot(x='재발여부', y='통증기간(월)', data=df)\n",
    "plt.title(\"통증기간 X 재발여부\");"
   ]
  },
  {
   "cell_type": "code",
   "execution_count": 113,
   "metadata": {},
   "outputs": [],
   "source": [
    "df1 = df[df['재발여부'] == 0]['통증기간(월)']\n",
    "df2 = df[df['재발여부'] == 1]['통증기간(월)']"
   ]
  },
  {
   "cell_type": "code",
   "execution_count": 114,
   "metadata": {},
   "outputs": [
    {
     "name": "stdout",
     "output_type": "stream",
     "text": [
      "등분산성 : \n",
      "BartlettResult(statistic=574.5027708504006, pvalue=5.886399067014631e-127)\n"
     ]
    }
   ],
   "source": [
    "print('등분산성 : ')\n",
    "ttest2(df1, df2)"
   ]
  },
  {
   "cell_type": "code",
   "execution_count": 115,
   "metadata": {},
   "outputs": [
    {
     "name": "stdout",
     "output_type": "stream",
     "text": [
      "2-Sample t-test\n",
      "t:-1.655\n",
      "p:0.099\n"
     ]
    }
   ],
   "source": [
    "ttest(df1, df2, False)"
   ]
  },
  {
   "cell_type": "markdown",
   "metadata": {},
   "source": [
    "###  수술시간 - 재발여부\n",
    "$H_0 :$ 수술시간에 따라 재발여부에 차이가 없다. \\\n",
    "$H_1 :$ 수술시간에 따라 재발여부에 차이가 있다."
   ]
  },
  {
   "cell_type": "code",
   "execution_count": 116,
   "metadata": {
    "scrolled": true
   },
   "outputs": [],
   "source": [
    "df['수술시간'].fillna(df['수술시간'].mean(skipna= True), inplace = True)"
   ]
  },
  {
   "cell_type": "code",
   "execution_count": 117,
   "metadata": {
    "scrolled": true
   },
   "outputs": [
    {
     "data": {
      "image/png": "[encoded data removed]",
      "text/plain": [
       "<Figure size 640x480 with 1 Axes>"
      ]
     },
     "metadata": {},
     "output_type": "display_data"
    }
   ],
   "source": [
    "sns.boxplot(x='재발여부', y='수술시간', data=df)\n",
    "plt.title(\"수술시간 X 재발여부\");"
   ]
  },
  {
   "cell_type": "code",
   "execution_count": 118,
   "metadata": {},
   "outputs": [],
   "source": [
    "df1 = df[df['재발여부'] == 0]['수술시간']\n",
    "df2 = df[df['재발여부'] == 1]['수술시간']"
   ]
  },
  {
   "cell_type": "code",
   "execution_count": 119,
   "metadata": {},
   "outputs": [
    {
     "name": "stdout",
     "output_type": "stream",
     "text": [
      "등분산성 : \n",
      "BartlettResult(statistic=2.7012637636576007, pvalue=0.10026873889118258)\n"
     ]
    }
   ],
   "source": [
    "print('등분산성 : ')\n",
    "ttest2(df1, df2)"
   ]
  },
  {
   "cell_type": "code",
   "execution_count": 120,
   "metadata": {},
   "outputs": [
    {
     "name": "stdout",
     "output_type": "stream",
     "text": [
      "2-Sample t-test\n",
      "t:-1.006\n",
      "p:0.315\n"
     ]
    }
   ],
   "source": [
    "ttest(df1, df2)"
   ]
  },
  {
   "cell_type": "markdown",
   "metadata": {},
   "source": [
    "###  수술일자 - 재발여부\n",
    "$H_0 :$ 수술일자에 따라 재발여부에 차이가 없다. \\\n",
    "$H_1 :$ 수술일자에 따라 재발여부에 차이가 있다."
   ]
  },
  {
   "cell_type": "code",
   "execution_count": 121,
   "metadata": {},
   "outputs": [
    {
     "name": "stdout",
     "output_type": "stream",
     "text": [
      "등분산성 검사 결과:\n",
      "BartlettResult(statistic=0.9725116928029062, pvalue=0.3240545678429808)\n"
     ]
    }
   ],
   "source": [
    "df['수술일자'] = pd.to_datetime(df['수술일자'])\n",
    "\n",
    "df1 = df[df['재발여부'] == 0]['수술일자']\n",
    "df2 = df[df['재발여부'] == 1]['수술일자']\n",
    "\n",
    "df1_month = pd.to_datetime(df1).dt.month\n",
    "df2_month = pd.to_datetime(df2).dt.month\n",
    "\n",
    "result = bartlett(df1_month, df2_month)\n",
    "\n",
    "print('등분산성 검사 결과:')\n",
    "print(result)"
   ]
  },
  {
   "cell_type": "code",
   "execution_count": 122,
   "metadata": {},
   "outputs": [
    {
     "name": "stdout",
     "output_type": "stream",
     "text": [
      "2-Sample t-test\n",
      "t:-0.49\n",
      "p:0.625\n"
     ]
    }
   ],
   "source": [
    "ttest(df1_month, df2_month)"
   ]
  },
  {
   "cell_type": "markdown",
   "metadata": {},
   "source": [
    "###  전방디스크높이(mm) - 재발여부\n",
    "$H_0 :$ 전방디스크높이에 따라 재발여부에 차이가 없다. \\\n",
    "$H_1 :$ 전방디스크높이에 따라 재발여부에 차이가 있다."
   ]
  },
  {
   "cell_type": "code",
   "execution_count": 123,
   "metadata": {},
   "outputs": [
    {
     "data": {
      "image/png": "[encoded data removed]",
      "text/plain": [
       "<Figure size 640x480 with 1 Axes>"
      ]
     },
     "metadata": {},
     "output_type": "display_data"
    }
   ],
   "source": [
    "sns.boxplot(x='재발여부', y='전방디스크높이(mm)', data=df)\n",
    "plt.title(\"전방디스크높이 X 재발여부\");"
   ]
  },
  {
   "cell_type": "code",
   "execution_count": 124,
   "metadata": {},
   "outputs": [],
   "source": [
    "df1 = df[df['재발여부'] == 0]['전방디스크높이(mm)']\n",
    "df2 = df[df['재발여부'] == 1]['전방디스크높이(mm)']"
   ]
  },
  {
   "cell_type": "code",
   "execution_count": 125,
   "metadata": {},
   "outputs": [
    {
     "name": "stdout",
     "output_type": "stream",
     "text": [
      "등분산성 : \n",
      "BartlettResult(statistic=0.0682208838418703, pvalue=0.7939450036775098)\n"
     ]
    }
   ],
   "source": [
    "print('등분산성 : ')\n",
    "ttest2(df1, df2)"
   ]
  },
  {
   "cell_type": "code",
   "execution_count": 126,
   "metadata": {},
   "outputs": [
    {
     "name": "stdout",
     "output_type": "stream",
     "text": [
      "2-Sample t-test\n",
      "t:-0.126\n",
      "p:0.899\n"
     ]
    }
   ],
   "source": [
    "ttest(df1, df2)"
   ]
  },
  {
   "cell_type": "markdown",
   "metadata": {},
   "source": [
    "###  후방디스크높이(mm) - 재발여부\n",
    "$H_0 :$ 후방디스크높이에 따라 재발여부에 차이가 없다. \\\n",
    "$H_1 :$ 후방디스크높이에 따라 재발여부에 차이가 있다."
   ]
  },
  {
   "cell_type": "code",
   "execution_count": 127,
   "metadata": {},
   "outputs": [],
   "source": [
    "df = df[df['후방디스크높이(mm)'] < 100]"
   ]
  },
  {
   "cell_type": "code",
   "execution_count": 128,
   "metadata": {},
   "outputs": [
    {
     "data": {
      "image/png": "[encoded data removed]",
      "text/plain": [
       "<Figure size 640x480 with 1 Axes>"
      ]
     },
     "metadata": {},
     "output_type": "display_data"
    }
   ],
   "source": [
    "sns.boxplot(x='재발여부', y='후방디스크높이(mm)', data=df)\n",
    "plt.title(\"후방디스크높이 X 재발여부\");"
   ]
  },
  {
   "cell_type": "code",
   "execution_count": 129,
   "metadata": {},
   "outputs": [],
   "source": [
    "df1 = df[df['재발여부'] == 0]['후방디스크높이(mm)']\n",
    "df2 = df[df['재발여부'] == 1]['후방디스크높이(mm)']"
   ]
  },
  {
   "cell_type": "code",
   "execution_count": 130,
   "metadata": {},
   "outputs": [
    {
     "name": "stdout",
     "output_type": "stream",
     "text": [
      "등분산성 : \n",
      "BartlettResult(statistic=0.4710614031683782, pvalue=0.4924992783228659)\n"
     ]
    }
   ],
   "source": [
    "print('등분산성 : ')\n",
    "ttest2(df1, df2)"
   ]
  },
  {
   "cell_type": "code",
   "execution_count": 131,
   "metadata": {},
   "outputs": [
    {
     "name": "stdout",
     "output_type": "stream",
     "text": [
      "2-Sample t-test\n",
      "t:0.465\n",
      "p:0.642\n"
     ]
    }
   ],
   "source": [
    "ttest(df1, df2)"
   ]
  },
  {
   "cell_type": "markdown",
   "metadata": {},
   "source": [
    "###  지방축적도 - 재발여부\n",
    "$H_0 :$ 지방축적도에 따라 재발여부에 차이가 없다. \\\n",
    "$H_1 :$ 지방축적도에 따라 재발여부에 차이가 있다."
   ]
  },
  {
   "cell_type": "code",
   "execution_count": 132,
   "metadata": {},
   "outputs": [
    {
     "data": {
      "text/plain": [
       "2"
      ]
     },
     "execution_count": 132,
     "metadata": {},
     "output_type": "execute_result"
    }
   ],
   "source": [
    "df['지방축적도'].isnull().sum()"
   ]
  },
  {
   "cell_type": "code",
   "execution_count": 133,
   "metadata": {},
   "outputs": [],
   "source": [
    "df.dropna(subset=['지방축적도'],inplace = True)"
   ]
  },
  {
   "cell_type": "code",
   "execution_count": 134,
   "metadata": {},
   "outputs": [],
   "source": [
    "df = df[df['지방축적도'] < 12000]"
   ]
  },
  {
   "cell_type": "code",
   "execution_count": 135,
   "metadata": {},
   "outputs": [
    {
     "data": {
      "image/png": "[encoded data removed]",
      "text/plain": [
       "<Figure size 640x480 with 1 Axes>"
      ]
     },
     "metadata": {},
     "output_type": "display_data"
    }
   ],
   "source": [
    "sns.boxplot(x='재발여부', y='지방축적도', data=df)\n",
    "plt.title(\"지방축적도 X 재발여부\");"
   ]
  },
  {
   "cell_type": "code",
   "execution_count": 136,
   "metadata": {},
   "outputs": [],
   "source": [
    "df1 = df[df['재발여부'] == 0]['지방축적도']\n",
    "df2 = df[df['재발여부'] == 1]['지방축적도']"
   ]
  },
  {
   "cell_type": "code",
   "execution_count": 137,
   "metadata": {},
   "outputs": [
    {
     "name": "stdout",
     "output_type": "stream",
     "text": [
      "등분산성 : \n",
      "BartlettResult(statistic=1.742916047816216, pvalue=0.1867697679822536)\n"
     ]
    }
   ],
   "source": [
    "print('등분산성 : ')\n",
    "ttest2(df1, df2)"
   ]
  },
  {
   "cell_type": "code",
   "execution_count": 138,
   "metadata": {
    "scrolled": true
   },
   "outputs": [
    {
     "name": "stdout",
     "output_type": "stream",
     "text": [
      "2-Sample t-test\n",
      "t:-0.104\n",
      "p:0.917\n"
     ]
    }
   ],
   "source": [
    "ttest(df1, df2)"
   ]
  },
  {
   "cell_type": "markdown",
   "metadata": {},
   "source": [
    "###  MF+ES - 재발여부\n",
    "$H_0 :$ 척추 기립근 및 다열근 근육량에 따라 재발여부에 차이가 없다. \\\n",
    "$H_1 :$ 척추 기립근 및 다열근 근육량에 따라 재발여부에 차이가 있다."
   ]
  },
  {
   "cell_type": "code",
   "execution_count": 139,
   "metadata": {},
   "outputs": [
    {
     "data": {
      "image/png": "[encoded data removed]",
      "text/plain": [
       "<Figure size 640x480 with 1 Axes>"
      ]
     },
     "metadata": {},
     "output_type": "display_data"
    }
   ],
   "source": [
    "sns.barplot(x='재발여부', y='MF + ES', data=df)\n",
    "plt.title(\"MF + ES X 재발여부\");"
   ]
  },
  {
   "cell_type": "code",
   "execution_count": 140,
   "metadata": {},
   "outputs": [
    {
     "data": {
      "image/png": "[encoded data removed]",
      "text/plain": [
       "<Figure size 640x480 with 1 Axes>"
      ]
     },
     "metadata": {},
     "output_type": "display_data"
    }
   ],
   "source": [
    "sns.boxplot(x='재발여부', y='MF + ES', data=df)\n",
    "plt.title(\"MF + ES X 재발여부\");"
   ]
  },
  {
   "cell_type": "code",
   "execution_count": 141,
   "metadata": {},
   "outputs": [],
   "source": [
    "df1 = df[df['재발여부'] == 0]['MF + ES']\n",
    "df2 = df[df['재발여부'] == 1]['MF + ES']"
   ]
  },
  {
   "cell_type": "code",
   "execution_count": 142,
   "metadata": {},
   "outputs": [
    {
     "name": "stdout",
     "output_type": "stream",
     "text": [
      "등분산성 : \n",
      "BartlettResult(statistic=0.08854260977025417, pvalue=0.7660381660326863)\n"
     ]
    }
   ],
   "source": [
    "print('등분산성 : ')\n",
    "ttest2(df1, df2)"
   ]
  },
  {
   "cell_type": "code",
   "execution_count": 143,
   "metadata": {},
   "outputs": [
    {
     "name": "stdout",
     "output_type": "stream",
     "text": [
      "2-Sample t-test\n",
      "t:-2.422\n",
      "p:0.016\n"
     ]
    }
   ],
   "source": [
    "ttest(df1, df2)"
   ]
  },
  {
   "cell_type": "code",
   "execution_count": 144,
   "metadata": {},
   "outputs": [
    {
     "data": {
      "image/png": "[encoded data removed]",
      "text/plain": [
       "<Figure size 640x480 with 1 Axes>"
      ]
     },
     "metadata": {},
     "output_type": "display_data"
    }
   ],
   "source": [
    "sns.barplot(x='재발여부', y='MF + ES', data=df, errorbar = (\"ci\" , False))\n",
    "plt.title(\"MF + ES X 재발여부\");"
   ]
  },
  {
   "cell_type": "code",
   "execution_count": 145,
   "metadata": {},
   "outputs": [
    {
     "data": {
      "image/png": "[encoded data removed]",
      "text/plain": [
       "<Figure size 640x480 with 1 Axes>"
      ]
     },
     "metadata": {},
     "output_type": "display_data"
    }
   ],
   "source": [
    "sns.barplot(x='재발여부', y='MF + ES', data=df, errorbar = (\"ci\" , False), hue = \"성별\")\n",
    "plt.title(\"MF + ES X 재발여부\");"
   ]
  },
  {
   "cell_type": "markdown",
   "metadata": {},
   "source": [
    "# 8/16 !!!!!!!!!!!!!!!!!!!!!!!!"
   ]
  },
  {
   "cell_type": "code",
   "execution_count": 146,
   "metadata": {},
   "outputs": [],
   "source": [
    "def ttest(df1, df2, rihgt = True):\n",
    "    t_result = stats.ttest_ind(df1,df2, equal_var = rihgt)\n",
    "    t,p = t_result.statistic, t_result.pvalue\n",
    "    print(\"2-Sample t-test\")\n",
    "    print(\"t:{}\".format(t))\n",
    "    print(\"p:{}\".format(p))"
   ]
  },
  {
   "cell_type": "code",
   "execution_count": 147,
   "metadata": {},
   "outputs": [],
   "source": [
    "def chi2(df):\n",
    "    chi, pval, dof, expected = stats.chi2_contingency(df)\n",
    "    \n",
    "    print('chi-sqauare test')\n",
    "    print(f'chisq : {chi}')\n",
    "    print(f'p : {pval}')"
   ]
  },
  {
   "cell_type": "code",
   "execution_count": 148,
   "metadata": {},
   "outputs": [
    {
     "data": {
      "text/plain": [
       "사무직      441\n",
       "자영업      170\n",
       "무직       161\n",
       "학생       129\n",
       "주부       112\n",
       "군인        89\n",
       "공무원       50\n",
       "운수업       49\n",
       "노동직       42\n",
       "의료직       40\n",
       "농업        39\n",
       "사업가       37\n",
       "교사        29\n",
       "특수전문직     23\n",
       "건설업       17\n",
       "운동선수      14\n",
       "예술가       10\n",
       "Name: 직업, dtype: int64"
      ]
     },
     "execution_count": 148,
     "metadata": {},
     "output_type": "execute_result"
    }
   ],
   "source": [
    "df['직업'].value_counts()"
   ]
  },
  {
   "cell_type": "code",
   "execution_count": 149,
   "metadata": {},
   "outputs": [
    {
     "name": "stdout",
     "output_type": "stream",
     "text": [
      "<class 'pandas.core.series.Series'>\n",
      "Int64Index: 1863 entries, 0 to 1893\n",
      "Series name: MF + ES\n",
      "Non-Null Count  Dtype  \n",
      "--------------  -----  \n",
      "1863 non-null   float64\n",
      "dtypes: float64(1)\n",
      "memory usage: 29.1 KB\n"
     ]
    }
   ],
   "source": [
    "df['MF + ES'].info()"
   ]
  },
  {
   "cell_type": "code",
   "execution_count": 150,
   "metadata": {},
   "outputs": [],
   "source": [
    "def detect_outliers(df, columns):\n",
    "    \n",
    "    q1 = df[df[columns]!=0][columns].quantile(0.25)\n",
    "    q3 = df[df[columns]!=0][columns].quantile(0.75)\n",
    "    \n",
    "#     print(q1, q3)\n",
    "    iqr = q3 - q1\n",
    "#     print(iqr)\n",
    "    boundary = 1.5*iqr\n",
    "    index1 = df[df[columns] > (q3 + boundary)].index\n",
    "#     print(q3 + boundary)\n",
    "    index2 = df[(df[columns] < (q1 - boundary)) & (df[columns] == 0)].index\n",
    "#     print(q1 - boundary)\n",
    "#     print(index1)\n",
    "#     print(index2)\n",
    "    \n",
    "    df.drop(index1, inplace = True)\n",
    "    df.drop(index2, inplace = True)\n",
    "    return df"
   ]
  },
  {
   "cell_type": "code",
   "execution_count": 151,
   "metadata": {},
   "outputs": [],
   "source": [
    "df = detect_outliers(df, \"MF + ES\")\n"
   ]
  },
  {
   "cell_type": "code",
   "execution_count": 152,
   "metadata": {},
   "outputs": [
    {
     "name": "stdout",
     "output_type": "stream",
     "text": [
      "<class 'pandas.core.series.Series'>\n",
      "Int64Index: 1838 entries, 0 to 1893\n",
      "Series name: MF + ES\n",
      "Non-Null Count  Dtype  \n",
      "--------------  -----  \n",
      "1838 non-null   float64\n",
      "dtypes: float64(1)\n",
      "memory usage: 28.7 KB\n"
     ]
    }
   ],
   "source": [
    "df['MF + ES'].info()"
   ]
  },
  {
   "cell_type": "markdown",
   "metadata": {},
   "source": [
    "## MF + ES - 직업"
   ]
  },
  {
   "cell_type": "code",
   "execution_count": 153,
   "metadata": {},
   "outputs": [],
   "source": [
    "df_office = df[df['직업'] == '사무직']"
   ]
  },
  {
   "cell_type": "code",
   "execution_count": 154,
   "metadata": {},
   "outputs": [
    {
     "name": "stdout",
     "output_type": "stream",
     "text": [
      "2-Sample t-test\n",
      "t:2.2698142395530274\n",
      "p:0.023710866733073835\n"
     ]
    }
   ],
   "source": [
    "\n",
    "df1 = df_office[df_office['재발여부'] == 1]['MF + ES']\n",
    "df2 = df_office[df_office['재발여부'] == 0]['MF + ES']\n",
    "\n",
    "\n",
    "ttest(df1, df2)\n"
   ]
  },
  {
   "cell_type": "code",
   "execution_count": 155,
   "metadata": {},
   "outputs": [],
   "source": [
    "df_athlete = df[df['직업'] == '운동선수']"
   ]
  },
  {
   "cell_type": "code",
   "execution_count": 156,
   "metadata": {},
   "outputs": [
    {
     "name": "stdout",
     "output_type": "stream",
     "text": [
      "2-Sample t-test\n",
      "t:0.4200517311020123\n",
      "p:0.6818708928787667\n"
     ]
    }
   ],
   "source": [
    "df1 = df_athlete[df_athlete['재발여부'] == 1]['MF + ES']\n",
    "df2 = df_athlete[df_athlete['재발여부'] == 0]['MF + ES']\n",
    "\n",
    "ttest(df1, df2)"
   ]
  },
  {
   "cell_type": "code",
   "execution_count": null,
   "metadata": {},
   "outputs": [],
   "source": [
    "df_teacher = df[df['직업'] == '교사']\n",
    "df1 = df_teacher[df_teacher['재발여부'] == 1]['MF + ES']\n",
    "df2 = df_teacher[df_teacher['재발여부'] == 0]['MF + ES']\n",
    "\n",
    "ttest(df1, df2)"
   ]
  },
  {
   "cell_type": "code",
   "execution_count": null,
   "metadata": {},
   "outputs": [],
   "source": [
    "df_gong = df[df['직업'] == '공무원']\n",
    "df1 = df_gong[df_gong['재발여부'] == 1]['MF + ES']\n",
    "df2 = df_gong[df_gong['재발여부'] == 0]['MF + ES']\n",
    "\n",
    "ttest(df1, df2)"
   ]
  },
  {
   "cell_type": "code",
   "execution_count": null,
   "metadata": {},
   "outputs": [],
   "source": [
    "df_ja = df[df['직업'] == '자영업']\n",
    "df1 = df_ja[df_ja['재발여부'] == 1]['MF + ES']\n",
    "df2 = df_ja[df_ja['재발여부'] == 0]['MF + ES']\n",
    "\n",
    "ttest(df1, df2)"
   ]
  },
  {
   "cell_type": "code",
   "execution_count": null,
   "metadata": {},
   "outputs": [],
   "source": [
    "df_doc = df[df['직업'] == '의료직']\n",
    "df1 = df_doc[df_doc['재발여부'] == 1]['MF + ES']\n",
    "df2 = df_doc[df_doc['재발여부'] == 0]['MF + ES']\n",
    "\n",
    "ttest(df1, df2)"
   ]
  },
  {
   "cell_type": "code",
   "execution_count": null,
   "metadata": {},
   "outputs": [],
   "source": [
    "df_gunsul = df[df['직업'] == '건설업']\n",
    "df1 = df_gunsul[df_gunsul['재발여부'] == 1]['MF + ES']\n",
    "df2 = df_gunsul[df_gunsul['재발여부'] == 0]['MF + ES']\n",
    "\n",
    "ttest(df1, df2)"
   ]
  },
  {
   "cell_type": "code",
   "execution_count": null,
   "metadata": {},
   "outputs": [],
   "source": [
    "df_saup = df[df['직업'] == '사업가']\n",
    "df1 = df_saup[df_saup['재발여부'] == 1]['MF + ES']\n",
    "df2 = df_saup[df_saup['재발여부'] == 0]['MF + ES']\n",
    "\n",
    "ttest(df1, df2)"
   ]
  },
  {
   "cell_type": "code",
   "execution_count": null,
   "metadata": {},
   "outputs": [],
   "source": [
    "df_nongup = df[df['직업'] == '농업']\n",
    "df1 = df_nongup[df_nongup['재발여부'] == 1]['MF + ES']\n",
    "df2 = df_nongup[df_nongup['재발여부'] == 0]['MF + ES']\n",
    "\n",
    "ttest(df1, df2)"
   ]
  },
  {
   "cell_type": "code",
   "execution_count": null,
   "metadata": {},
   "outputs": [],
   "source": [
    "df_jubu = df[df['직업'] == '주부']\n",
    "df1 = df_jubu[df_jubu['재발여부'] == 1]['MF + ES']\n",
    "df2 = df_jubu[df_jubu['재발여부'] == 0]['MF + ES']\n",
    "\n",
    "ttest(df1, df2)"
   ]
  },
  {
   "cell_type": "code",
   "execution_count": null,
   "metadata": {},
   "outputs": [],
   "source": [
    "df_student = df[df['직업'] == '학생']\n",
    "df1 = df_student[df_student['재발여부'] == 1]['MF + ES']\n",
    "df2 = df_student[df_student['재발여부'] == 0]['MF + ES']\n",
    "\n",
    "ttest(df1, df2)"
   ]
  },
  {
   "cell_type": "code",
   "execution_count": null,
   "metadata": {},
   "outputs": [],
   "source": [
    "df_nodong = df[df['직업'] == '노동직']\n",
    "df1 = df_nodong[df_nodong['재발여부'] == 1]['MF + ES']\n",
    "df2 = df_nodong[df_nodong['재발여부'] == 0]['MF + ES']\n",
    "\n",
    "ttest(df1, df2)"
   ]
  },
  {
   "cell_type": "code",
   "execution_count": null,
   "metadata": {},
   "outputs": [],
   "source": [
    "df_teuksu = df[df['직업'] == '특수전문직']\n",
    "df1 = df_teuksu[df_teuksu['재발여부'] == 1]['MF + ES']\n",
    "df2 = df_teuksu[df_teuksu['재발여부'] == 0]['MF + ES']\n",
    "\n",
    "ttest(df1, df2)"
   ]
  },
  {
   "cell_type": "code",
   "execution_count": null,
   "metadata": {},
   "outputs": [],
   "source": [
    "df_soldier = df[df['직업'] == '군인']\n",
    "df1 = df_soldier[df_soldier['재발여부'] == 1]['MF + ES']\n",
    "df2 = df_soldier[df_soldier['재발여부'] == 0]['MF + ES']\n",
    "\n",
    "ttest(df1, df2)"
   ]
  },
  {
   "cell_type": "code",
   "execution_count": null,
   "metadata": {},
   "outputs": [],
   "source": [
    "df_unsu = df[df['직업'] == '운수업']\n",
    "df1 = df_unsu[df_unsu['재발여부'] == 1]['MF + ES']\n",
    "df2 = df_unsu[df_unsu['재발여부'] == 0]['MF + ES']\n",
    "\n",
    "ttest(df1, df2)"
   ]
  },
  {
   "cell_type": "code",
   "execution_count": null,
   "metadata": {},
   "outputs": [],
   "source": [
    "df['직업'].fillna(\"기타\", inplace = True)"
   ]
  },
  {
   "cell_type": "code",
   "execution_count": null,
   "metadata": {},
   "outputs": [],
   "source": [
    "df_etc = df[df['직업'] == '기타']\n",
    "df1 = df_etc[df_etc['재발여부'] == 1]['MF + ES']\n",
    "df2 = df_etc[df_etc['재발여부'] == 0]['MF + ES']\n",
    "\n",
    "ttest(df1, df2)"
   ]
  },
  {
   "cell_type": "code",
   "execution_count": null,
   "metadata": {},
   "outputs": [],
   "source": [
    "df_artist = df[df['직업'] == '예술가']\n",
    "df1 = df_artist[df_artist['재발여부'] == 1]['MF + ES']\n",
    "df2 = df_artist[df_artist['재발여부'] == 0]['MF + ES']\n",
    "\n",
    "ttest(df1, df2)"
   ]
  },
  {
   "cell_type": "code",
   "execution_count": null,
   "metadata": {},
   "outputs": [],
   "source": [
    "sns.boxplot(x='재발여부', y='MF + ES', data=df_office)\n",
    "plt.title(\"MF + ES X 사무직 X 재발여부\");"
   ]
  },
  {
   "cell_type": "markdown",
   "metadata": {},
   "source": [
    "## MF+ES - 통증정도"
   ]
  },
  {
   "cell_type": "code",
   "execution_count": 4,
   "metadata": {},
   "outputs": [],
   "source": [
    "df1 = df[df['환자통증정도'] == 1]['MF + ES']\n",
    "df2 = df[df['환자통증정도'] == 2]['MF + ES']\n",
    "df3 = df[df['환자통증정도'] == 3]['MF + ES']\n",
    "df4 = df[df['환자통증정도'] == 4]['MF + ES']\n",
    "df5 = df[df['환자통증정도'] == 5]['MF + ES']\n",
    "df6 = df[df['환자통증정도'] == 6]['MF + ES']\n",
    "df7 = df[df['환자통증정도'] == 7]['MF + ES']\n",
    "df8 = df[df['환자통증정도'] == 8]['MF + ES']\n",
    "df9 = df[df['환자통증정도'] == 9]['MF + ES']\n",
    "df10 = df[df['환자통증정도'] == 10]['MF + ES']"
   ]
  },
  {
   "cell_type": "code",
   "execution_count": 5,
   "metadata": {},
   "outputs": [
    {
     "data": {
      "image/png": "[encoded data removed]",
      "text/plain": [
       "<Figure size 640x480 with 1 Axes>"
      ]
     },
     "metadata": {},
     "output_type": "display_data"
    }
   ],
   "source": [
    "sns.boxplot(x='환자통증정도', y='MF + ES', data=df)\n",
    "plt.title(\"환자통증정도 X MF + ES\");"
   ]
  },
  {
   "cell_type": "code",
   "execution_count": 12,
   "metadata": {},
   "outputs": [
    {
     "name": "stdout",
     "output_type": "stream",
     "text": [
      "One-way ANOVA\n",
      " F 통계량: 6.736\n",
      " p-value: 0.0\n"
     ]
    }
   ],
   "source": [
    "f_result = stats.f_oneway(df1, df2, df3, df4, df5, df6, df7, df8, df9, df10)\n",
    "\n",
    "f,p = f_result.statistic.round(3), f_result.pvalue.round(3)\n",
    "\n",
    "print(\"One-way ANOVA\")\n",
    "print(\" F 통계량: {}\".format(f))\n",
    "print(\" p-value: {}\".format(p))"
   ]
  },
  {
   "cell_type": "code",
   "execution_count": 13,
   "metadata": {},
   "outputs": [
    {
     "name": "stdout",
     "output_type": "stream",
     "text": [
      "One-way ANOVA\n",
      " F 통계량: 25.98037144497072\n",
      " p-value: 9.803031519721798e-07\n"
     ]
    }
   ],
   "source": [
    "f_result = stats.f_oneway(df1, df10)\n",
    "\n",
    "f,p = f_result.statistic, f_result.pvalue\n",
    "\n",
    "print(\"One-way ANOVA\")\n",
    "print(\" F 통계량: {}\".format(f))\n",
    "print(\" p-value: {}\".format(p))"
   ]
  },
  {
   "cell_type": "code",
   "execution_count": 14,
   "metadata": {},
   "outputs": [
    {
     "name": "stdout",
     "output_type": "stream",
     "text": [
      "2-Sample t-test\n",
      "t:5.097\n",
      "p:0.0\n"
     ]
    }
   ],
   "source": [
    "ttest(df1, df10)"
   ]
  },
  {
   "cell_type": "code",
   "execution_count": null,
   "metadata": {},
   "outputs": [],
   "source": [
    "df_office = df[df['직업'] == '사무직']"
   ]
  },
  {
   "cell_type": "code",
   "execution_count": null,
   "metadata": {},
   "outputs": [],
   "source": [
    "df1 = df_office[df_office['환자통증정도'] == 1]['MF + ES']\n",
    "df2 = df_office[df_office['환자통증정도'] == 2]['MF + ES']\n",
    "df3 = df_office[df_office['환자통증정도'] == 3]['MF + ES']\n",
    "df4 = df_office[df_office['환자통증정도'] == 4]['MF + ES']\n",
    "df5 = df_office[df_office['환자통증정도'] == 5]['MF + ES']\n",
    "df6 = df_office[df_office['환자통증정도'] == 6]['MF + ES']\n",
    "df7 = df_office[df_office['환자통증정도'] == 7]['MF + ES']\n",
    "df8 = df_office[df_office['환자통증정도'] == 8]['MF + ES']\n",
    "df9 = df_office[df_office['환자통증정도'] == 9]['MF + ES']\n",
    "df10 = df_office[df_office['환자통증정도'] == 10]['MF + ES']"
   ]
  },
  {
   "cell_type": "code",
   "execution_count": null,
   "metadata": {},
   "outputs": [],
   "source": [
    "sns.boxplot(x='환자통증정도', y='MF + ES', data=df_office)\n",
    "plt.title(\"환자통증정도 X MF + ES\");"
   ]
  },
  {
   "cell_type": "code",
   "execution_count": null,
   "metadata": {},
   "outputs": [],
   "source": [
    "df4"
   ]
  },
  {
   "cell_type": "code",
   "execution_count": null,
   "metadata": {},
   "outputs": [],
   "source": [
    "f_result = stats.f_oneway(df1, df2, df3, df5, df6, df7, df8, df9, df10)\n",
    "\n",
    "f,p = f_result.statistic, f_result.pvalue\n",
    "\n",
    "print(\"One-way ANOVA\")\n",
    "print(\" F 통계량: {}\".format(f))\n",
    "print(\" p-value: {}\".format(p))"
   ]
  },
  {
   "cell_type": "code",
   "execution_count": null,
   "metadata": {},
   "outputs": [],
   "source": [
    "f_result = stats.f_oneway(df1, df10)\n",
    "\n",
    "f,p = f_result.statistic, f_result.pvalue\n",
    "\n",
    "print(\"One-way ANOVA\")\n",
    "print(\" F 통계량: {}\".format(f))\n",
    "print(\" p-value: {}\".format(p))"
   ]
  },
  {
   "cell_type": "markdown",
   "metadata": {},
   "source": [
    "### -환자 통증정도 4가 없었음"
   ]
  },
  {
   "cell_type": "code",
   "execution_count": 15,
   "metadata": {},
   "outputs": [],
   "source": [
    "# 교사\n",
    "df_teacher = df[df['직업'] == '교사']\n",
    "df1 = df_teacher[df_teacher['환자통증정도'] == 1]['MF + ES']\n",
    "df2 = df_teacher[df_teacher['환자통증정도'] == 2]['MF + ES']\n",
    "df3 = df_teacher[df_teacher['환자통증정도'] == 3]['MF + ES']\n",
    "df4 = df_teacher[df_teacher['환자통증정도'] == 4]['MF + ES']\n",
    "df5 = df_teacher[df_teacher['환자통증정도'] == 5]['MF + ES']\n",
    "df6 = df_teacher[df_teacher['환자통증정도'] == 6]['MF + ES']\n",
    "df7 = df_teacher[df_teacher['환자통증정도'] == 7]['MF + ES']\n",
    "df8 = df_teacher[df_teacher['환자통증정도'] == 8]['MF + ES']\n",
    "df9 = df_teacher[df_teacher['환자통증정도'] == 9]['MF + ES']\n",
    "df10 = df_teacher[df_teacher['환자통증정도'] == 10]['MF + ES']"
   ]
  },
  {
   "cell_type": "code",
   "execution_count": 16,
   "metadata": {},
   "outputs": [
    {
     "data": {
      "image/png": "[encoded data removed]",
      "text/plain": [
       "<Figure size 640x480 with 1 Axes>"
      ]
     },
     "metadata": {},
     "output_type": "display_data"
    }
   ],
   "source": [
    "sns.boxplot(x='환자통증정도', y='MF + ES', data=df_teacher)\n",
    "plt.title(\"환자통증정도 X MF + ES\");"
   ]
  },
  {
   "cell_type": "code",
   "execution_count": 17,
   "metadata": {},
   "outputs": [
    {
     "name": "stdout",
     "output_type": "stream",
     "text": [
      "One-way ANOVA\n",
      " F 통계량: 7.332019519366494\n",
      " p-value: 0.02037190329498326\n"
     ]
    }
   ],
   "source": [
    "f_result = stats.f_oneway(df5, df7)\n",
    "\n",
    "f,p = f_result.statistic, f_result.pvalue\n",
    "\n",
    "print(\"One-way ANOVA\")\n",
    "print(\" F 통계량: {}\".format(f))\n",
    "print(\" p-value: {}\".format(p))"
   ]
  },
  {
   "cell_type": "code",
   "execution_count": 29,
   "metadata": {},
   "outputs": [
    {
     "data": {
      "text/plain": [
       "사무직      449\n",
       "자영업      171\n",
       "무직       164\n",
       "학생       135\n",
       "주부       114\n",
       "군인        90\n",
       "공무원       51\n",
       "운수업       50\n",
       "노동직       42\n",
       "의료직       40\n",
       "농업        40\n",
       "사업가       39\n",
       "교사        30\n",
       "특수전문직     23\n",
       "건설업       17\n",
       "운동선수      14\n",
       "예술가       10\n",
       "Name: 직업, dtype: int64"
      ]
     },
     "execution_count": 29,
     "metadata": {},
     "output_type": "execute_result"
    }
   ],
   "source": [
    "df['직업'].value_counts()"
   ]
  },
  {
   "cell_type": "code",
   "execution_count": 30,
   "metadata": {},
   "outputs": [],
   "source": [
    "# 교사\n",
    "df_doc = df[df['직업'] == '의료직']\n",
    "df1 = df_doc[df_doc['환자통증정도'] == 1]['MF + ES']\n",
    "df2 = df_doc[df_doc['환자통증정도'] == 2]['MF + ES']\n",
    "df3 = df_doc[df_doc['환자통증정도'] == 3]['MF + ES']\n",
    "df4 = df_doc[df_doc['환자통증정도'] == 4]['MF + ES']\n",
    "df5 = df_doc[df_doc['환자통증정도'] == 5]['MF + ES']\n",
    "df6 = df_doc[df_doc['환자통증정도'] == 6]['MF + ES']\n",
    "df7 = df_doc[df_doc['환자통증정도'] == 7]['MF + ES']\n",
    "df8 = df_doc[df_doc['환자통증정도'] == 8]['MF + ES']\n",
    "df9 = df_doc[df_doc['환자통증정도'] == 9]['MF + ES']\n",
    "df10 = df_doc[df_doc['환자통증정도'] == 10]['MF + ES']"
   ]
  },
  {
   "cell_type": "code",
   "execution_count": 31,
   "metadata": {},
   "outputs": [
    {
     "data": {
      "image/png": "[encoded data removed]",
      "text/plain": [
       "<Figure size 640x480 with 1 Axes>"
      ]
     },
     "metadata": {},
     "output_type": "display_data"
    }
   ],
   "source": [
    "sns.boxplot(x='환자통증정도', y='MF + ES', data=df_doc)\n",
    "plt.title(\"환자통증정도 X MF + ES\");"
   ]
  },
  {
   "cell_type": "code",
   "execution_count": 33,
   "metadata": {},
   "outputs": [
    {
     "name": "stdout",
     "output_type": "stream",
     "text": [
      "One-way ANOVA\n",
      " F 통계량: 1.2682723755703054\n",
      " p-value: 0.34204525076833997\n"
     ]
    }
   ],
   "source": [
    "f_result = stats.f_oneway(df2, df10)\n",
    "\n",
    "f,p = f_result.statistic, f_result.pvalue\n",
    "\n",
    "print(\"One-way ANOVA\")\n",
    "print(\" F 통계량: {}\".format(f))\n",
    "print(\" p-value: {}\".format(p))"
   ]
  },
  {
   "cell_type": "code",
   "execution_count": null,
   "metadata": {},
   "outputs": [],
   "source": [
    "sns.lmplot(data = df, x = '환자통증정도', y = 'MF + ES')"
   ]
  },
  {
   "cell_type": "markdown",
   "metadata": {},
   "source": [
    "## 직업"
   ]
  },
  {
   "cell_type": "code",
   "execution_count": null,
   "metadata": {},
   "outputs": [],
   "source": [
    "df['직업'].value_counts()"
   ]
  },
  {
   "cell_type": "code",
   "execution_count": null,
   "metadata": {},
   "outputs": [],
   "source": [
    "df = df[df['직업'] != '기타']"
   ]
  },
  {
   "cell_type": "code",
   "execution_count": null,
   "metadata": {},
   "outputs": [],
   "source": [
    "df['직업'].value_counts()"
   ]
  },
  {
   "cell_type": "code",
   "execution_count": null,
   "metadata": {},
   "outputs": [],
   "source": [
    "def twosplit(x):\n",
    "    if x in ['사무직' , '기타', '무직' ,'학생', '주부', '공무원', '운수업', '의료직', '사업가', '교사','특수전문직', '예술가']:\n",
    "        result = 0\n",
    "    else:\n",
    "        result = 1\n",
    "\n",
    "    return result"
   ]
  },
  {
   "cell_type": "code",
   "execution_count": null,
   "metadata": {},
   "outputs": [],
   "source": [
    "def threesplit(x):\n",
    "    if  x in ['사무직', '공무원', '운수업']:\n",
    "        result = 0\n",
    "    elif x in ['무직', '학생', '주부', '의료직', '사업가', '교사', '예술가']:\n",
    "        result = 1\n",
    "    else:\n",
    "        result = 3\n",
    "\n",
    "    return result"
   ]
  },
  {
   "cell_type": "code",
   "execution_count": null,
   "metadata": {},
   "outputs": [],
   "source": [
    "df['new_job_two'] = df['직업'].apply(lambda x : twosplit(x))"
   ]
  },
  {
   "cell_type": "code",
   "execution_count": null,
   "metadata": {},
   "outputs": [],
   "source": [
    "df['new_job_three'] = df['직업'].apply(lambda x : threesplit(x))"
   ]
  },
  {
   "cell_type": "code",
   "execution_count": null,
   "metadata": {},
   "outputs": [],
   "source": [
    "df['count'] = 1\n",
    "new_df = df.pivot_table(index = '직업', columns = '재발여부', values = 'count', aggfunc = 'sum').reset_index(drop=True).fillna(0)\n",
    "new_df"
   ]
  },
  {
   "cell_type": "code",
   "execution_count": null,
   "metadata": {},
   "outputs": [],
   "source": [
    "chi, pval, dof, expected = stats.chi2_contingency(new_df)\n",
    "print('chi-sqauare test')\n",
    "print(f'chisq : {chi : 0.3f}')\n",
    "print(f'p : {pval : 0.3f}')"
   ]
  },
  {
   "cell_type": "code",
   "execution_count": null,
   "metadata": {},
   "outputs": [],
   "source": [
    "df.reset_index(inplace= True)"
   ]
  },
  {
   "cell_type": "code",
   "execution_count": 161,
   "metadata": {},
   "outputs": [
    {
     "data": {
      "image/png": "[encoded data removed]",
      "text/plain": [
       "<Figure size 640x480 with 1 Axes>"
      ]
     },
     "metadata": {},
     "output_type": "display_data"
    }
   ],
   "source": [
    "sns.barplot(data = df , x = '직업', y = '재발여부', errorbar = ('ci',False))\n",
    "plt.xticks(rotation = 90);"
   ]
  },
  {
   "cell_type": "code",
   "execution_count": null,
   "metadata": {},
   "outputs": [],
   "source": [
    "df['count'] = 1\n",
    "new_job_two = df.pivot_table(index = 'new_job_two', columns = '재발여부', values = 'count', aggfunc = 'sum').reset_index(drop=True).fillna(0)\n",
    "new_job_two"
   ]
  },
  {
   "cell_type": "code",
   "execution_count": null,
   "metadata": {},
   "outputs": [],
   "source": [
    "chi, pval, dof, expected = stats.chi2_contingency(new_job_two)\n",
    "print('chi-sqauare test')\n",
    "print(f'chisq : {chi : 0.3f}')\n",
    "print(f'p : {pval : 0.3f}')"
   ]
  },
  {
   "cell_type": "code",
   "execution_count": null,
   "metadata": {},
   "outputs": [],
   "source": [
    "df['count'] = 1\n",
    "new_job_three = df.pivot_table(index = 'new_job_three', columns = '재발여부', values = 'count', aggfunc = 'sum').reset_index(drop=True).fillna(0)\n",
    "new_job_three"
   ]
  },
  {
   "cell_type": "code",
   "execution_count": null,
   "metadata": {},
   "outputs": [],
   "source": [
    "chi, pval, dof, expected = stats.chi2_contingency(new_job_three)\n",
    "print('chi-sqauare test')\n",
    "print(f'chisq : {chi : 0.3f}')\n",
    "print(f'p : {pval : 0.3f}')"
   ]
  },
  {
   "cell_type": "markdown",
   "metadata": {},
   "source": [
    "###  PI - 재발여부\n",
    "$H_0 :$ 척추 휘어짐 정도(종방향)에 따라 재발여부에 차이가 없다. \\\n",
    "$H_1 :$ 척추 휘어짐 정도(종방향)에 따라 재발여부에 차이가 있다."
   ]
  },
  {
   "cell_type": "code",
   "execution_count": null,
   "metadata": {},
   "outputs": [],
   "source": [
    "df.dropna(subset=['PI'],inplace = True)"
   ]
  },
  {
   "cell_type": "code",
   "execution_count": null,
   "metadata": {},
   "outputs": [],
   "source": [
    "df = df[df['PI'] <= 500]"
   ]
  },
  {
   "cell_type": "code",
   "execution_count": null,
   "metadata": {},
   "outputs": [],
   "source": [
    "sns.boxplot(x='재발여부', y='PI', data=df)\n",
    "plt.title(\"PI X 재발여부\");"
   ]
  },
  {
   "cell_type": "code",
   "execution_count": null,
   "metadata": {},
   "outputs": [],
   "source": [
    "df1 = df[df['재발여부'] == 0]['PI']\n",
    "df2 = df[df['재발여부'] == 1]['PI']"
   ]
  },
  {
   "cell_type": "code",
   "execution_count": null,
   "metadata": {},
   "outputs": [],
   "source": [
    "print('등분산성 : ')\n",
    "ttest2(df1, df2)"
   ]
  },
  {
   "cell_type": "code",
   "execution_count": null,
   "metadata": {},
   "outputs": [],
   "source": [
    "ttest(df1, df2)"
   ]
  },
  {
   "cell_type": "markdown",
   "metadata": {},
   "source": [
    "###  PT - 재발여부\n",
    "$H_0 :$ 척추 휘어짐 정도(횡방향)에 따라 재발여부에 차이가 없다. \\\n",
    "$H_1 :$ 척추 휘어짐 정도(횡방향)에 따라 재발여부에 차이가 있다."
   ]
  },
  {
   "cell_type": "code",
   "execution_count": null,
   "metadata": {},
   "outputs": [],
   "source": [
    "df['PT'].isnull().sum()"
   ]
  },
  {
   "cell_type": "code",
   "execution_count": null,
   "metadata": {},
   "outputs": [],
   "source": [
    "sns.boxplot(x='재발여부', y='PT', data=df)\n",
    "plt.title(\"PT X 재발여부\");"
   ]
  },
  {
   "cell_type": "code",
   "execution_count": null,
   "metadata": {},
   "outputs": [],
   "source": [
    "df1 = df[df['재발여부'] == 0]['PT']\n",
    "df2 = df[df['재발여부'] == 1]['PT']"
   ]
  },
  {
   "cell_type": "code",
   "execution_count": null,
   "metadata": {},
   "outputs": [],
   "source": [
    "print('등분산성 : ')\n",
    "ttest2(df1, df2)"
   ]
  },
  {
   "cell_type": "code",
   "execution_count": null,
   "metadata": {},
   "outputs": [],
   "source": [
    "ttest(df1, df2)"
   ]
  },
  {
   "cell_type": "markdown",
   "metadata": {},
   "source": [
    "###  SegAngle - 재발여부\n",
    "$H_0 :$ 척추 각도에 따라 재발여부에 차이가 없다. \\\n",
    "$H_1 :$ 척추 각도에 따라 재발여부에 차이가 있다."
   ]
  },
  {
   "cell_type": "code",
   "execution_count": null,
   "metadata": {},
   "outputs": [],
   "source": [
    "df['Seg Angle(raw)'].isnull().sum()"
   ]
  },
  {
   "cell_type": "code",
   "execution_count": null,
   "metadata": {},
   "outputs": [],
   "source": [
    "sns.boxplot(x='재발여부', y='Seg Angle(raw)', data=df)\n",
    "plt.title(\"척추 각도 X 재발여부\");"
   ]
  },
  {
   "cell_type": "code",
   "execution_count": null,
   "metadata": {},
   "outputs": [],
   "source": [
    "df1 = df[df['재발여부'] == 0]['Seg Angle(raw)']\n",
    "df2 = df[df['재발여부'] == 1]['Seg Angle(raw)']"
   ]
  },
  {
   "cell_type": "code",
   "execution_count": null,
   "metadata": {},
   "outputs": [],
   "source": [
    "print('등분산성 : ')\n",
    "ttest2(df1, df2)"
   ]
  },
  {
   "cell_type": "code",
   "execution_count": null,
   "metadata": {},
   "outputs": [],
   "source": [
    "ttest(df1, df2, False)"
   ]
  },
  {
   "cell_type": "markdown",
   "metadata": {},
   "source": [
    "###  골밀도 - 재발여부\n",
    "$H_0 :$ 골밀도에 따라 재발여부에 차이가 없다. \\\n",
    "$H_1 :$ 골밀도에 따라 재발여부에 차이가 있다."
   ]
  },
  {
   "cell_type": "markdown",
   "metadata": {},
   "source": [
    "###  디스크단면적 - 재발여부\n",
    "$H_0 :$ 디스크단면적에 따라 재발여부에 차이가 없다. \\\n",
    "$H_1 :$ 디스크단면적에 따라 재발여부에 차이가 있다."
   ]
  },
  {
   "cell_type": "code",
   "execution_count": null,
   "metadata": {},
   "outputs": [],
   "source": [
    "df['디스크단면적'].isnull().sum()"
   ]
  },
  {
   "cell_type": "code",
   "execution_count": null,
   "metadata": {},
   "outputs": [],
   "source": [
    "df.dropna(subset=['디스크단면적'],inplace = True)"
   ]
  },
  {
   "cell_type": "code",
   "execution_count": null,
   "metadata": {},
   "outputs": [],
   "source": [
    "sns.boxplot(x='재발여부', y='디스크단면적', data=df)\n",
    "plt.title(\"디스크단면적 X 재발여부\");"
   ]
  },
  {
   "cell_type": "code",
   "execution_count": null,
   "metadata": {},
   "outputs": [],
   "source": [
    "df1 = df[df['재발여부'] == 0]['디스크단면적']\n",
    "df2 = df[df['재발여부'] == 1]['디스크단면적']"
   ]
  },
  {
   "cell_type": "code",
   "execution_count": null,
   "metadata": {},
   "outputs": [],
   "source": [
    "print('등분산성 : ')\n",
    "ttest2(df1, df2)"
   ]
  },
  {
   "cell_type": "code",
   "execution_count": null,
   "metadata": {},
   "outputs": [],
   "source": [
    "ttest(df1, df2)"
   ]
  },
  {
   "cell_type": "code",
   "execution_count": null,
   "metadata": {},
   "outputs": [],
   "source": [
    "sns.barplot(data = df , x = '재발여부', y = '디스크단면적')\n",
    "plt.title('디스크단면적 X 재발여부');"
   ]
  },
  {
   "cell_type": "code",
   "execution_count": null,
   "metadata": {},
   "outputs": [],
   "source": [
    "def chi2(df):\n",
    "    chi, pval, dof, expected = stats.chi2_contingency(df)\n",
    "    \n",
    "    print('chi-sqauare test')\n",
    "    print(f'chisq : {chi}')\n",
    "    print(f'p : {pval}')"
   ]
  },
  {
   "cell_type": "markdown",
   "metadata": {},
   "source": [
    "## 당뇨 X 재발여부"
   ]
  },
  {
   "cell_type": "code",
   "execution_count": null,
   "metadata": {},
   "outputs": [],
   "source": [
    "df['당뇨여부'].value_counts()"
   ]
  },
  {
   "cell_type": "code",
   "execution_count": null,
   "metadata": {},
   "outputs": [],
   "source": [
    "sns.barplot(data = df , x = '당뇨여부', y = '재발여부')\n",
    "plt.title('당뇨여부 X 재발여부');"
   ]
  },
  {
   "cell_type": "code",
   "execution_count": null,
   "metadata": {},
   "outputs": [],
   "source": [
    "new_df = df.pivot_table(index = '당뇨여부', columns='재발여부', values= 'count', aggfunc='sum').reset_index(drop=True)"
   ]
  },
  {
   "cell_type": "code",
   "execution_count": null,
   "metadata": {},
   "outputs": [],
   "source": [
    "chi, pval, dof, expected = stats.chi2_contingency(new_df)\n",
    "\n",
    "print('chi-sqauare test')\n",
    "print(f'chisq : {chi : 0.3f}')\n",
    "print(f'p : {pval : 0.3f}')"
   ]
  },
  {
   "cell_type": "code",
   "execution_count": null,
   "metadata": {},
   "outputs": [],
   "source": [
    "df.columns"
   ]
  },
  {
   "cell_type": "code",
   "execution_count": null,
   "metadata": {},
   "outputs": [],
   "source": [
    "df_true = df[df['당뇨여부'] == 1]"
   ]
  },
  {
   "cell_type": "code",
   "execution_count": null,
   "metadata": {},
   "outputs": [],
   "source": [
    "df1 = df_true[df_true['재발여부'] == 1]['Large Lymphocyte']\n",
    "df2 = df_true[df_true['재발여부'] == 0]['Large Lymphocyte']\n",
    "\n",
    "ttest(df1, df2)"
   ]
  },
  {
   "cell_type": "code",
   "execution_count": null,
   "metadata": {},
   "outputs": [],
   "source": [
    "df.isnull().sum()"
   ]
  },
  {
   "cell_type": "code",
   "execution_count": null,
   "metadata": {},
   "outputs": [],
   "source": [
    "df['count'] = 1\n",
    "pivot_df = pd.pivot_table(df_true, index = 'Location of herniation', columns = '재발여부', values = 'count', aggfunc = 'sum').fillna(0)\n",
    "chi2(pivot_df)"
   ]
  },
  {
   "cell_type": "code",
   "execution_count": null,
   "metadata": {},
   "outputs": [],
   "source": [
    "### 가족력\n",
    "# chi2\n",
    "pivot_df = pd.pivot_table(df_true, index = '가족력', columns = '재발여부', values = 'count', aggfunc = 'sum')\n",
    "chi2(pivot_df)"
   ]
  },
  {
   "cell_type": "code",
   "execution_count": null,
   "metadata": {},
   "outputs": [],
   "source": [
    "pivot_df = pd.pivot_table(df_true, index = '간질성폐질환', columns = '재발여부', values = 'count', aggfunc = 'sum').fillna(0)\n",
    "chi2(pivot_df)"
   ]
  },
  {
   "cell_type": "code",
   "execution_count": null,
   "metadata": {},
   "outputs": [],
   "source": [
    "pivot_df = pd.pivot_table(df_true, index = '고혈압여부', columns = '재발여부', values = 'count', aggfunc = 'sum').fillna(0)\n",
    "chi2(pivot_df)"
   ]
  },
  {
   "cell_type": "code",
   "execution_count": null,
   "metadata": {},
   "outputs": [],
   "source": [
    "df1 = df_true[df_true['재발여부'] == 1]['과거수술횟수']\n",
    "df2 = df_true[df_true['재발여부'] == 0]['과거수술횟수']\n",
    "\n",
    "ttest(df1, df2)"
   ]
  },
  {
   "cell_type": "code",
   "execution_count": null,
   "metadata": {},
   "outputs": [],
   "source": [
    "pivot_df = pd.pivot_table(df_true, index = '스테로이드치료', columns = '재발여부', values = 'count', aggfunc = 'sum').fillna(0)\n",
    "chi2(pivot_df)"
   ]
  },
  {
   "cell_type": "code",
   "execution_count": null,
   "metadata": {},
   "outputs": [],
   "source": [
    "pivot_df = pd.pivot_table(df_true, index = '성별', columns = '재발여부', values = 'count', aggfunc = 'sum').fillna(0)\n",
    "chi2(pivot_df)"
   ]
  },
  {
   "cell_type": "code",
   "execution_count": null,
   "metadata": {},
   "outputs": [],
   "source": [
    "df1 = df_true[df_true['재발여부'] == 1]['신장']\n",
    "df2 = df_true[df_true['재발여부'] == 0]['신장']\n",
    "\n",
    "ttest(df1, df2)"
   ]
  },
  {
   "cell_type": "code",
   "execution_count": null,
   "metadata": {},
   "outputs": [],
   "source": [
    "df1 = df_true[df_true['재발여부'] == 1]['체중']\n",
    "df2 = df_true[df_true['재발여부'] == 0]['체중']\n",
    "\n",
    "ttest(df1, df2)"
   ]
  },
  {
   "cell_type": "code",
   "execution_count": null,
   "metadata": {},
   "outputs": [],
   "source": [
    "df['new_연령']"
   ]
  },
  {
   "cell_type": "code",
   "execution_count": null,
   "metadata": {},
   "outputs": [],
   "source": [
    "pivot_df = pd.pivot_table(df_true, index = 'new_연령', columns = '재발여부', values = 'count', aggfunc = 'sum').fillna(0)\n",
    "chi2(pivot_df)"
   ]
  },
  {
   "cell_type": "code",
   "execution_count": null,
   "metadata": {},
   "outputs": [],
   "source": [
    "pivot_df = pd.pivot_table(df_true, index = '우울증여부', columns = '재발여부', values = 'count', aggfunc = 'sum').fillna(0)\n",
    "chi2(pivot_df)"
   ]
  },
  {
   "cell_type": "code",
   "execution_count": null,
   "metadata": {},
   "outputs": [],
   "source": [
    "df['우울증여부'].isnull().sum()"
   ]
  },
  {
   "cell_type": "code",
   "execution_count": null,
   "metadata": {},
   "outputs": [],
   "source": [
    "df1 = df_true[df_true['재발여부'] == 1]['입원기간']\n",
    "df2 = df_true[df_true['재발여부'] == 0]['입원기간']\n",
    "\n",
    "ttest(df1, df2)"
   ]
  },
  {
   "cell_type": "code",
   "execution_count": null,
   "metadata": {},
   "outputs": [],
   "source": [
    "### 헤모글로빈수치\n",
    "df1 = df_true[df_true['재발여부'] == 1]['헤모글로빈수치']\n",
    "df2 = df_true[df_true['재발여부'] == 0]['헤모글로빈수치']\n",
    "\n",
    "ttest(df1, df2)"
   ]
  },
  {
   "cell_type": "code",
   "execution_count": null,
   "metadata": {},
   "outputs": [],
   "source": [
    "pivot_df = pd.pivot_table(df_true, index = '흡연여부', columns = '재발여부', values = 'count', aggfunc = 'sum').fillna(0)\n",
    "chi2(pivot_df)"
   ]
  },
  {
   "cell_type": "code",
   "execution_count": null,
   "metadata": {},
   "outputs": [],
   "source": [
    "### 통증기간\n",
    "df1 = df_true[df_true['재발여부'] == 1]['통증기간(월)']\n",
    "df2 = df_true[df_true['재발여부'] == 0]['통증기간(월)']\n",
    "\n",
    "ttest(df1, df2)"
   ]
  },
  {
   "cell_type": "code",
   "execution_count": null,
   "metadata": {},
   "outputs": [],
   "source": [
    "pivot_df = pd.pivot_table(df_true, index = '수술기법', columns = '재발여부', values = 'count', aggfunc = 'sum').fillna(0)\n",
    "chi2(pivot_df)"
   ]
  },
  {
   "cell_type": "code",
   "execution_count": null,
   "metadata": {},
   "outputs": [],
   "source": [
    "df1 = df_true[df_true['재발여부'] == 1]['수술시간']\n",
    "df2 = df_true[df_true['재발여부'] == 0]['수술시간']\n",
    "\n",
    "ttest(df1, df2)"
   ]
  },
  {
   "cell_type": "code",
   "execution_count": null,
   "metadata": {},
   "outputs": [],
   "source": [
    "pivot_df = pd.pivot_table(df_true, index = '수술실패여부', columns = '재발여부', values = 'count', aggfunc = 'sum').fillna(0)\n",
    "chi2(pivot_df)"
   ]
  },
  {
   "cell_type": "code",
   "execution_count": null,
   "metadata": {},
   "outputs": [],
   "source": [
    "df1 = df_true[df_true['재발여부'] == 1]['전방디스크높이(mm)']\n",
    "df2 = df_true[df_true['재발여부'] == 0]['전방디스크높이(mm)']\n",
    "\n",
    "ttest(df1, df2)"
   ]
  },
  {
   "cell_type": "code",
   "execution_count": null,
   "metadata": {},
   "outputs": [],
   "source": [
    "df1 = df_true[df_true['재발여부'] == 1]['후방디스크높이(mm)']\n",
    "df2 = df_true[df_true['재발여부'] == 0]['후방디스크높이(mm)']\n",
    "\n",
    "ttest(df1, df2)"
   ]
  },
  {
   "cell_type": "code",
   "execution_count": null,
   "metadata": {},
   "outputs": [],
   "source": [
    "df1 = df_true[df_true['재발여부'] == 1]['지방축적도']\n",
    "df2 = df_true[df_true['재발여부'] == 0]['지방축적도']\n",
    "\n",
    "ttest(df1, df2)"
   ]
  },
  {
   "cell_type": "code",
   "execution_count": null,
   "metadata": {},
   "outputs": [],
   "source": [
    "pivot_df = pd.pivot_table(df_true, index = 'Instability', columns = '재발여부', values = 'count', aggfunc = 'sum').fillna(0)\n",
    "chi2(pivot_df)"
   ]
  },
  {
   "cell_type": "code",
   "execution_count": null,
   "metadata": {},
   "outputs": [],
   "source": [
    "df_true = df_true[df_true['MF + ES'] <= 5000]"
   ]
  },
  {
   "cell_type": "code",
   "execution_count": null,
   "metadata": {},
   "outputs": [],
   "source": [
    "df_true"
   ]
  },
  {
   "cell_type": "code",
   "execution_count": null,
   "metadata": {},
   "outputs": [],
   "source": [
    "sns.barplot(x='재발여부', y='MF + ES', data=df_true, errorbar = (\"ci\" , False))\n",
    "plt.title(\"MF + ES X 재발여부, 당뇨인 경우\");"
   ]
  },
  {
   "cell_type": "code",
   "execution_count": null,
   "metadata": {},
   "outputs": [],
   "source": [
    "sns.barplot(x='재발여부', y='MF + ES', data=df[df['당뇨여부'] != 1], errorbar = (\"ci\" , False))\n",
    "plt.title(\"MF + ES X 재발여부, 당뇨가 아닌 경우\");"
   ]
  },
  {
   "cell_type": "code",
   "execution_count": null,
   "metadata": {},
   "outputs": [],
   "source": [
    "df1 = df_true[df_true['재발여부'] == 1]['MF + ES']\n",
    "df2 = df_true[df_true['재발여부'] == 0]['MF + ES']\n",
    "\n",
    "ttest(df1, df2)"
   ]
  },
  {
   "cell_type": "code",
   "execution_count": null,
   "metadata": {},
   "outputs": [],
   "source": [
    "pivot_df = pd.pivot_table(df_true, index = 'Modic change', columns = '재발여부', values = 'count', aggfunc = 'sum').fillna(0)\n",
    "chi2(pivot_df)"
   ]
  },
  {
   "cell_type": "code",
   "execution_count": null,
   "metadata": {},
   "outputs": [],
   "source": [
    "df1 = df_true[df_true['재발여부'] == 1]['PI']\n",
    "df2 = df_true[df_true['재발여부'] == 0]['PI']\n",
    "\n",
    "ttest(df1, df2)"
   ]
  },
  {
   "cell_type": "code",
   "execution_count": null,
   "metadata": {},
   "outputs": [],
   "source": [
    "df1 = df_true[df_true['재발여부'] == 1]['PT']\n",
    "df2 = df_true[df_true['재발여부'] == 0]['PT']\n",
    "\n",
    "ttest(df1, df2)"
   ]
  },
  {
   "cell_type": "code",
   "execution_count": null,
   "metadata": {},
   "outputs": [],
   "source": [
    "sns.barplot(x='재발여부', y='PT', data=df_true, errorbar = (\"ci\" , False))\n",
    "plt.title(\"PT X 재발여부, 당뇨인 경우\");"
   ]
  },
  {
   "cell_type": "code",
   "execution_count": null,
   "metadata": {},
   "outputs": [],
   "source": [
    "sns.barplot(x='재발여부', y='PT', data=df[df['당뇨여부'] != 1], errorbar = (\"ci\" , False))\n",
    "plt.title(\"MF + ES X 재발여부, 당뇨가 아닌 경우\");"
   ]
  },
  {
   "cell_type": "code",
   "execution_count": null,
   "metadata": {},
   "outputs": [],
   "source": [
    "df1 = df_true[df_true['재발여부'] == 1]['Seg Angle(raw)']\n",
    "df2 = df_true[df_true['재발여부'] == 0]['Seg Angle(raw)']\n",
    "\n",
    "ttest(df1, df2) "
   ]
  },
  {
   "cell_type": "code",
   "execution_count": null,
   "metadata": {},
   "outputs": [],
   "source": [
    "pivot_df = pd.pivot_table(df_true, index = 'Vaccum disc', columns = '재발여부', values = 'count', aggfunc = 'sum').fillna(0)\n",
    "chi2(pivot_df)"
   ]
  },
  {
   "cell_type": "code",
   "execution_count": null,
   "metadata": {},
   "outputs": [],
   "source": [
    "df1 = df_true[df_true['재발여부'] == 1]['디스크단면적']\n",
    "df2 = df_true[df_true['재발여부'] == 0]['디스크단면적']\n",
    "\n",
    "ttest(df1, df2)"
   ]
  },
  {
   "cell_type": "code",
   "execution_count": null,
   "metadata": {},
   "outputs": [],
   "source": [
    "sns.barplot(x='재발여부', y='디스크단면적', data=df_true, errorbar = (\"ci\" , False))\n",
    "plt.title(\"디스크단면적 X 재발여부, 당뇨인 경우\");"
   ]
  },
  {
   "cell_type": "code",
   "execution_count": null,
   "metadata": {},
   "outputs": [],
   "source": [
    "sns.barplot(x='재발여부', y='디스크단면적', data=df[df['당뇨여부'] != 1], errorbar = (\"ci\" , False))\n",
    "plt.title(\"디스크단면적 X 재발여부, 당뇨가 아닌 경우\");"
   ]
  },
  {
   "cell_type": "code",
   "execution_count": null,
   "metadata": {},
   "outputs": [],
   "source": [
    "df['중년'] = df['new_연령'] == \"중년\"\n",
    "df_true['중년'] = df['new_연령'] == \"중년\""
   ]
  },
  {
   "cell_type": "code",
   "execution_count": null,
   "metadata": {},
   "outputs": [],
   "source": [
    "df_중년 = df[df['new_연령'] == \"중년\"]\n",
    "df['중년'] = df['new_연령'] == \"중년\""
   ]
  },
  {
   "cell_type": "code",
   "execution_count": null,
   "metadata": {},
   "outputs": [],
   "source": [
    "pivot_df = pd.pivot_table(df_중년, index = '당뇨여부', columns = '재발여부', values = 'count', aggfunc = 'sum').fillna(0)\n",
    "chi2(pivot_df)"
   ]
  },
  {
   "cell_type": "code",
   "execution_count": null,
   "metadata": {},
   "outputs": [],
   "source": [
    "pivot_df = pd.pivot_table(df_중년, index = '성별', columns = '재발여부', values = 'count', aggfunc = 'sum').fillna(0)\n",
    "chi2(pivot_df)"
   ]
  },
  {
   "cell_type": "code",
   "execution_count": null,
   "metadata": {},
   "outputs": [],
   "source": [
    "pivot_df = pd.pivot_table(df, index = '중년', columns = '재발여부', values = 'count', aggfunc = 'sum').fillna(0)\n",
    "chi2(pivot_df)"
   ]
  },
  {
   "cell_type": "code",
   "execution_count": null,
   "metadata": {},
   "outputs": [],
   "source": [
    "pivot_df = pd.pivot_table(df_true, index = '중년', columns = '재발여부', values = 'count', aggfunc = 'sum').fillna(0)\n",
    "chi2(pivot_df)"
   ]
  },
  {
   "cell_type": "code",
   "execution_count": null,
   "metadata": {},
   "outputs": [],
   "source": [
    "pivot_df = pd.pivot_table(df_true, index = '디스크위치', columns = '재발여부', values = 'count', aggfunc = 'sum').fillna(0)\n",
    "chi2(pivot_df)"
   ]
  },
  {
   "cell_type": "code",
   "execution_count": null,
   "metadata": {},
   "outputs": [],
   "source": [
    "pivot_df = pd.pivot_table(df_true, index = '척추이동척도', columns = '재발여부', values = 'count', aggfunc = 'sum').fillna(0)\n",
    "chi2(pivot_df)"
   ]
  },
  {
   "cell_type": "code",
   "execution_count": null,
   "metadata": {},
   "outputs": [],
   "source": [
    "pivot_df = pd.pivot_table(df_true, index = '척추전방위증', columns = '재발여부', values = 'count', aggfunc = 'sum').fillna(0)\n",
    "chi2(pivot_df)"
   ]
  },
  {
   "cell_type": "code",
   "execution_count": null,
   "metadata": {},
   "outputs": [],
   "source": []
  }
 ],
 "metadata": {
  "kernelspec": {
   "display_name": "Python 3 (ipykernel)",
   "language": "python",
   "name": "python3"
  },
  "language_info": {
   "codemirror_mode": {
    "name": "ipython",
    "version": 3
   },
   "file_extension": ".py",
   "mimetype": "text/x-python",
   "name": "python",
   "nbconvert_exporter": "python",
   "pygments_lexer": "ipython3",
   "version": "3.10.9"
  }
 },
 "nbformat": 4,
 "nbformat_minor": 2
}
