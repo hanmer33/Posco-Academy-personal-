{
 "cells": [
  {
   "cell_type": "markdown",
   "id": "1e799491",
   "metadata": {},
   "source": [
    "# 모듈 불러오기"
   ]
  },
  {
   "cell_type": "code",
   "execution_count": 1,
   "id": "bcc032e0",
   "metadata": {},
   "outputs": [],
   "source": [
    "import pandas as pd\n",
    "import numpy as np\n",
    "\n",
    "import matplotlib.pyplot as plt\n",
    "import matplotlib\n",
    "import seaborn as sns\n",
    " \n",
    "from scipy import stats\n",
    "\n",
    "%matplotlib inline\n",
    "\n",
    "from sklearn.model_selection import train_test_split\n",
    "\n",
    "from sklearn.tree import DecisionTreeRegressor\n",
    "from sklearn.model_selection import GridSearchCV\n",
    "\n",
    "from sklearn.ensemble import RandomForestRegressor\n",
    "from sklearn.ensemble import GradientBoostingRegressor\n",
    "\n",
    "import statsmodels.formula.api as smf\n",
    "from statsmodels.api import qqplot\n",
    "\n",
    "from sklearn.metrics import mean_squared_error\n",
    "from sklearn.metrics import mean_absolute_error\n",
    "\n",
    "from sklearn.preprocessing import StandardScaler, MinMaxScaler, RobustScaler\n",
    "\n",
    "import seaborn as sns\n",
    "from statsmodels.api import qqplot, add_constant\n",
    "from statsmodels.stats.outliers_influence import variance_inflation_factor\n",
    "from sklearn.model_selection import train_test_split\n",
    "from sklearn.linear_model import LinearRegression\n",
    "from sklearn.feature_selection import RFE\n",
    "from sklearn.preprocessing import StandardScaler\n",
    "from sklearn.metrics import r2_score\n",
    "\n",
    "import warnings\n",
    "warnings.filterwarnings('ignore')"
   ]
  },
  {
   "cell_type": "code",
   "execution_count": 2,
   "id": "b85e4b8f",
   "metadata": {},
   "outputs": [],
   "source": [
    "# 한국어 패치\n",
    "matplotlib.rc('font',family='Noto Sans CJK JP')\n",
    "matplotlib.rc('axes',unicode_minus=False)\n",
    "\n"
   ]
  },
  {
   "cell_type": "code",
   "execution_count": 3,
   "id": "7d4f2d2c",
   "metadata": {},
   "outputs": [
    {
     "data": {
      "text/html": [
       "<div>\n",
       "<style scoped>\n",
       "    .dataframe tbody tr th:only-of-type {\n",
       "        vertical-align: middle;\n",
       "    }\n",
       "\n",
       "    .dataframe tbody tr th {\n",
       "        vertical-align: top;\n",
       "    }\n",
       "\n",
       "    .dataframe thead th {\n",
       "        text-align: right;\n",
       "    }\n",
       "</style>\n",
       "<table border=\"1\" class=\"dataframe\">\n",
       "  <thead>\n",
       "    <tr style=\"text-align: right;\">\n",
       "      <th></th>\n",
       "      <th>환자ID</th>\n",
       "      <th>Large Lymphocyte</th>\n",
       "      <th>Location of herniation</th>\n",
       "      <th>ODI</th>\n",
       "      <th>가족력</th>\n",
       "      <th>간질성폐질환</th>\n",
       "      <th>고혈압여부</th>\n",
       "      <th>과거수술횟수</th>\n",
       "      <th>당뇨여부</th>\n",
       "      <th>말초동맥질환여부</th>\n",
       "      <th>...</th>\n",
       "      <th>Modic change</th>\n",
       "      <th>PI</th>\n",
       "      <th>PT</th>\n",
       "      <th>Seg Angle(raw)</th>\n",
       "      <th>Vaccum disc</th>\n",
       "      <th>골밀도</th>\n",
       "      <th>디스크단면적</th>\n",
       "      <th>디스크위치</th>\n",
       "      <th>척추이동척도</th>\n",
       "      <th>척추전방위증</th>\n",
       "    </tr>\n",
       "  </thead>\n",
       "  <tbody>\n",
       "    <tr>\n",
       "      <th>0</th>\n",
       "      <td>1052PT</td>\n",
       "      <td>10.5</td>\n",
       "      <td>2</td>\n",
       "      <td>44.0</td>\n",
       "      <td>0.0</td>\n",
       "      <td>0</td>\n",
       "      <td>0</td>\n",
       "      <td>0</td>\n",
       "      <td>0</td>\n",
       "      <td>0</td>\n",
       "      <td>...</td>\n",
       "      <td>0</td>\n",
       "      <td>49.7</td>\n",
       "      <td>27.6</td>\n",
       "      <td>1.2</td>\n",
       "      <td>0</td>\n",
       "      <td>NaN</td>\n",
       "      <td>2155.3</td>\n",
       "      <td>4</td>\n",
       "      <td>Middle</td>\n",
       "      <td>0</td>\n",
       "    </tr>\n",
       "    <tr>\n",
       "      <th>1</th>\n",
       "      <td>1056PT</td>\n",
       "      <td>46.7</td>\n",
       "      <td>3</td>\n",
       "      <td>21.0</td>\n",
       "      <td>1.0</td>\n",
       "      <td>0</td>\n",
       "      <td>0</td>\n",
       "      <td>0</td>\n",
       "      <td>0</td>\n",
       "      <td>0</td>\n",
       "      <td>...</td>\n",
       "      <td>0</td>\n",
       "      <td>36.3</td>\n",
       "      <td>4.5</td>\n",
       "      <td>7.3</td>\n",
       "      <td>0</td>\n",
       "      <td>NaN</td>\n",
       "      <td>2143.1</td>\n",
       "      <td>4</td>\n",
       "      <td>Middle</td>\n",
       "      <td>0</td>\n",
       "    </tr>\n",
       "    <tr>\n",
       "      <th>2</th>\n",
       "      <td>1093PT</td>\n",
       "      <td>30.1</td>\n",
       "      <td>3</td>\n",
       "      <td>13.0</td>\n",
       "      <td>0.0</td>\n",
       "      <td>0</td>\n",
       "      <td>0</td>\n",
       "      <td>0</td>\n",
       "      <td>0</td>\n",
       "      <td>0</td>\n",
       "      <td>...</td>\n",
       "      <td>0</td>\n",
       "      <td>41.3</td>\n",
       "      <td>17.4</td>\n",
       "      <td>13.4</td>\n",
       "      <td>0</td>\n",
       "      <td>NaN</td>\n",
       "      <td>1868.7</td>\n",
       "      <td>4</td>\n",
       "      <td>Down</td>\n",
       "      <td>0</td>\n",
       "    </tr>\n",
       "    <tr>\n",
       "      <th>3</th>\n",
       "      <td>1687PT</td>\n",
       "      <td>45.4</td>\n",
       "      <td>3</td>\n",
       "      <td>NaN</td>\n",
       "      <td>0.0</td>\n",
       "      <td>0</td>\n",
       "      <td>0</td>\n",
       "      <td>0</td>\n",
       "      <td>0</td>\n",
       "      <td>0</td>\n",
       "      <td>...</td>\n",
       "      <td>0</td>\n",
       "      <td>45.7</td>\n",
       "      <td>16.6</td>\n",
       "      <td>20.1</td>\n",
       "      <td>0</td>\n",
       "      <td>NaN</td>\n",
       "      <td>1851.2</td>\n",
       "      <td>5</td>\n",
       "      <td>Middle</td>\n",
       "      <td>0</td>\n",
       "    </tr>\n",
       "    <tr>\n",
       "      <th>4</th>\n",
       "      <td>1674PT</td>\n",
       "      <td>52.2</td>\n",
       "      <td>1</td>\n",
       "      <td>31.0</td>\n",
       "      <td>0.0</td>\n",
       "      <td>1</td>\n",
       "      <td>0</td>\n",
       "      <td>1</td>\n",
       "      <td>0</td>\n",
       "      <td>0</td>\n",
       "      <td>...</td>\n",
       "      <td>0</td>\n",
       "      <td>54.5</td>\n",
       "      <td>16.7</td>\n",
       "      <td>2.9</td>\n",
       "      <td>0</td>\n",
       "      <td>NaN</td>\n",
       "      <td>2419.1</td>\n",
       "      <td>2</td>\n",
       "      <td>Up</td>\n",
       "      <td>0</td>\n",
       "    </tr>\n",
       "  </tbody>\n",
       "</table>\n",
       "<p>5 rows × 51 columns</p>\n",
       "</div>"
      ],
      "text/plain": [
       "     환자ID  Large Lymphocyte  Location of herniation   ODI  가족력  간질성폐질환  고혈압여부  \\\n",
       "0  1052PT              10.5                       2  44.0  0.0       0      0   \n",
       "1  1056PT              46.7                       3  21.0  1.0       0      0   \n",
       "2  1093PT              30.1                       3  13.0  0.0       0      0   \n",
       "3  1687PT              45.4                       3   NaN  0.0       0      0   \n",
       "4  1674PT              52.2                       1  31.0  0.0       1      0   \n",
       "\n",
       "   과거수술횟수  당뇨여부  말초동맥질환여부  ...  Modic change    PI    PT  Seg Angle(raw)  \\\n",
       "0       0     0         0  ...             0  49.7  27.6             1.2   \n",
       "1       0     0         0  ...             0  36.3   4.5             7.3   \n",
       "2       0     0         0  ...             0  41.3  17.4            13.4   \n",
       "3       0     0         0  ...             0  45.7  16.6            20.1   \n",
       "4       1     0         0  ...             0  54.5  16.7             2.9   \n",
       "\n",
       "   Vaccum disc  골밀도  디스크단면적  디스크위치  척추이동척도  척추전방위증  \n",
       "0            0  NaN  2155.3      4  Middle       0  \n",
       "1            0  NaN  2143.1      4  Middle       0  \n",
       "2            0  NaN  1868.7      4    Down       0  \n",
       "3            0  NaN  1851.2      5  Middle       0  \n",
       "4            0  NaN  2419.1      2      Up       0  \n",
       "\n",
       "[5 rows x 51 columns]"
      ]
     },
     "execution_count": 3,
     "metadata": {},
     "output_type": "execute_result"
    }
   ],
   "source": [
    "merge = pd.read_csv(\"/home/piai/BigData/Project/빅데이터_프로젝트/B4_의료/merge_df.csv\", encoding = 'utf-8')\n",
    "merge.head()"
   ]
  },
  {
   "cell_type": "code",
   "execution_count": 4,
   "id": "a8659cbf",
   "metadata": {},
   "outputs": [
    {
     "data": {
      "text/html": [
       "<div>\n",
       "<style scoped>\n",
       "    .dataframe tbody tr th:only-of-type {\n",
       "        vertical-align: middle;\n",
       "    }\n",
       "\n",
       "    .dataframe tbody tr th {\n",
       "        vertical-align: top;\n",
       "    }\n",
       "\n",
       "    .dataframe thead th {\n",
       "        text-align: right;\n",
       "    }\n",
       "</style>\n",
       "<table border=\"1\" class=\"dataframe\">\n",
       "  <thead>\n",
       "    <tr style=\"text-align: right;\">\n",
       "      <th></th>\n",
       "      <th>Large Lymphocyte</th>\n",
       "      <th>Location of herniation</th>\n",
       "      <th>ODI</th>\n",
       "      <th>가족력</th>\n",
       "      <th>간질성폐질환</th>\n",
       "      <th>고혈압여부</th>\n",
       "      <th>과거수술횟수</th>\n",
       "      <th>당뇨여부</th>\n",
       "      <th>말초동맥질환여부</th>\n",
       "      <th>빈혈여부</th>\n",
       "      <th>...</th>\n",
       "      <th>MF + ES</th>\n",
       "      <th>Modic change</th>\n",
       "      <th>PI</th>\n",
       "      <th>PT</th>\n",
       "      <th>Seg Angle(raw)</th>\n",
       "      <th>Vaccum disc</th>\n",
       "      <th>골밀도</th>\n",
       "      <th>디스크단면적</th>\n",
       "      <th>디스크위치</th>\n",
       "      <th>척추전방위증</th>\n",
       "    </tr>\n",
       "  </thead>\n",
       "  <tbody>\n",
       "    <tr>\n",
       "      <th>count</th>\n",
       "      <td>1894.000000</td>\n",
       "      <td>1894.000000</td>\n",
       "      <td>462.000000</td>\n",
       "      <td>1843.000000</td>\n",
       "      <td>1894.000000</td>\n",
       "      <td>1894.000000</td>\n",
       "      <td>1894.000000</td>\n",
       "      <td>1894.000000</td>\n",
       "      <td>1894.000000</td>\n",
       "      <td>1894.000000</td>\n",
       "      <td>...</td>\n",
       "      <td>1894.000000</td>\n",
       "      <td>1894.000000</td>\n",
       "      <td>1890.000000</td>\n",
       "      <td>1890.000000</td>\n",
       "      <td>1893.000000</td>\n",
       "      <td>1894.000000</td>\n",
       "      <td>998.000000</td>\n",
       "      <td>1893.000000</td>\n",
       "      <td>1894.000000</td>\n",
       "      <td>1894.000000</td>\n",
       "    </tr>\n",
       "    <tr>\n",
       "      <th>mean</th>\n",
       "      <td>39.270750</td>\n",
       "      <td>2.295671</td>\n",
       "      <td>31.142857</td>\n",
       "      <td>0.049919</td>\n",
       "      <td>0.020063</td>\n",
       "      <td>0.130940</td>\n",
       "      <td>0.302534</td>\n",
       "      <td>0.062830</td>\n",
       "      <td>0.004224</td>\n",
       "      <td>0.024287</td>\n",
       "      <td>...</td>\n",
       "      <td>2096.421600</td>\n",
       "      <td>0.247096</td>\n",
       "      <td>46.593651</td>\n",
       "      <td>16.329841</td>\n",
       "      <td>15.287934</td>\n",
       "      <td>0.056494</td>\n",
       "      <td>-1.507325</td>\n",
       "      <td>1989.788774</td>\n",
       "      <td>4.430834</td>\n",
       "      <td>0.032207</td>\n",
       "    </tr>\n",
       "    <tr>\n",
       "      <th>std</th>\n",
       "      <td>13.675874</td>\n",
       "      <td>0.996143</td>\n",
       "      <td>10.131304</td>\n",
       "      <td>0.217836</td>\n",
       "      <td>0.140254</td>\n",
       "      <td>0.337424</td>\n",
       "      <td>0.638461</td>\n",
       "      <td>0.242721</td>\n",
       "      <td>0.064871</td>\n",
       "      <td>0.153980</td>\n",
       "      <td>...</td>\n",
       "      <td>472.834488</td>\n",
       "      <td>0.661506</td>\n",
       "      <td>22.736211</td>\n",
       "      <td>8.421322</td>\n",
       "      <td>10.426397</td>\n",
       "      <td>0.230935</td>\n",
       "      <td>0.495867</td>\n",
       "      <td>314.478436</td>\n",
       "      <td>3.595680</td>\n",
       "      <td>0.176596</td>\n",
       "    </tr>\n",
       "    <tr>\n",
       "      <th>min</th>\n",
       "      <td>0.000000</td>\n",
       "      <td>1.000000</td>\n",
       "      <td>4.000000</td>\n",
       "      <td>0.000000</td>\n",
       "      <td>0.000000</td>\n",
       "      <td>0.000000</td>\n",
       "      <td>0.000000</td>\n",
       "      <td>0.000000</td>\n",
       "      <td>0.000000</td>\n",
       "      <td>0.000000</td>\n",
       "      <td>...</td>\n",
       "      <td>1016.800000</td>\n",
       "      <td>0.000000</td>\n",
       "      <td>11.900000</td>\n",
       "      <td>-10.600000</td>\n",
       "      <td>-27.400000</td>\n",
       "      <td>0.000000</td>\n",
       "      <td>-2.840000</td>\n",
       "      <td>1145.800000</td>\n",
       "      <td>1.000000</td>\n",
       "      <td>0.000000</td>\n",
       "    </tr>\n",
       "    <tr>\n",
       "      <th>25%</th>\n",
       "      <td>30.700000</td>\n",
       "      <td>1.000000</td>\n",
       "      <td>24.250000</td>\n",
       "      <td>0.000000</td>\n",
       "      <td>0.000000</td>\n",
       "      <td>0.000000</td>\n",
       "      <td>0.000000</td>\n",
       "      <td>0.000000</td>\n",
       "      <td>0.000000</td>\n",
       "      <td>0.000000</td>\n",
       "      <td>...</td>\n",
       "      <td>1765.285000</td>\n",
       "      <td>0.000000</td>\n",
       "      <td>38.700000</td>\n",
       "      <td>10.500000</td>\n",
       "      <td>8.800000</td>\n",
       "      <td>0.000000</td>\n",
       "      <td>-1.820000</td>\n",
       "      <td>1777.000000</td>\n",
       "      <td>4.000000</td>\n",
       "      <td>0.000000</td>\n",
       "    </tr>\n",
       "    <tr>\n",
       "      <th>50%</th>\n",
       "      <td>40.200000</td>\n",
       "      <td>2.000000</td>\n",
       "      <td>31.500000</td>\n",
       "      <td>0.000000</td>\n",
       "      <td>0.000000</td>\n",
       "      <td>0.000000</td>\n",
       "      <td>0.000000</td>\n",
       "      <td>0.000000</td>\n",
       "      <td>0.000000</td>\n",
       "      <td>0.000000</td>\n",
       "      <td>...</td>\n",
       "      <td>2056.500000</td>\n",
       "      <td>0.000000</td>\n",
       "      <td>45.100000</td>\n",
       "      <td>15.700000</td>\n",
       "      <td>14.500000</td>\n",
       "      <td>0.000000</td>\n",
       "      <td>-1.520000</td>\n",
       "      <td>1985.500000</td>\n",
       "      <td>4.000000</td>\n",
       "      <td>0.000000</td>\n",
       "    </tr>\n",
       "    <tr>\n",
       "      <th>75%</th>\n",
       "      <td>48.600000</td>\n",
       "      <td>3.000000</td>\n",
       "      <td>38.000000</td>\n",
       "      <td>0.000000</td>\n",
       "      <td>0.000000</td>\n",
       "      <td>0.000000</td>\n",
       "      <td>0.000000</td>\n",
       "      <td>0.000000</td>\n",
       "      <td>0.000000</td>\n",
       "      <td>0.000000</td>\n",
       "      <td>...</td>\n",
       "      <td>2374.350000</td>\n",
       "      <td>0.000000</td>\n",
       "      <td>52.000000</td>\n",
       "      <td>21.400000</td>\n",
       "      <td>21.100000</td>\n",
       "      <td>0.000000</td>\n",
       "      <td>-1.202500</td>\n",
       "      <td>2178.500000</td>\n",
       "      <td>4.000000</td>\n",
       "      <td>0.000000</td>\n",
       "    </tr>\n",
       "    <tr>\n",
       "      <th>max</th>\n",
       "      <td>89.000000</td>\n",
       "      <td>5.000000</td>\n",
       "      <td>68.000000</td>\n",
       "      <td>1.000000</td>\n",
       "      <td>1.000000</td>\n",
       "      <td>1.000000</td>\n",
       "      <td>3.000000</td>\n",
       "      <td>1.000000</td>\n",
       "      <td>1.000000</td>\n",
       "      <td>1.000000</td>\n",
       "      <td>...</td>\n",
       "      <td>5569.000000</td>\n",
       "      <td>3.000000</td>\n",
       "      <td>559.000000</td>\n",
       "      <td>48.700000</td>\n",
       "      <td>165.000000</td>\n",
       "      <td>1.000000</td>\n",
       "      <td>1.700000</td>\n",
       "      <td>3214.200000</td>\n",
       "      <td>45.000000</td>\n",
       "      <td>1.000000</td>\n",
       "    </tr>\n",
       "  </tbody>\n",
       "</table>\n",
       "<p>8 rows × 43 columns</p>\n",
       "</div>"
      ],
      "text/plain": [
       "       Large Lymphocyte  Location of herniation         ODI          가족력  \\\n",
       "count       1894.000000             1894.000000  462.000000  1843.000000   \n",
       "mean          39.270750                2.295671   31.142857     0.049919   \n",
       "std           13.675874                0.996143   10.131304     0.217836   \n",
       "min            0.000000                1.000000    4.000000     0.000000   \n",
       "25%           30.700000                1.000000   24.250000     0.000000   \n",
       "50%           40.200000                2.000000   31.500000     0.000000   \n",
       "75%           48.600000                3.000000   38.000000     0.000000   \n",
       "max           89.000000                5.000000   68.000000     1.000000   \n",
       "\n",
       "            간질성폐질환        고혈압여부       과거수술횟수         당뇨여부     말초동맥질환여부  \\\n",
       "count  1894.000000  1894.000000  1894.000000  1894.000000  1894.000000   \n",
       "mean      0.020063     0.130940     0.302534     0.062830     0.004224   \n",
       "std       0.140254     0.337424     0.638461     0.242721     0.064871   \n",
       "min       0.000000     0.000000     0.000000     0.000000     0.000000   \n",
       "25%       0.000000     0.000000     0.000000     0.000000     0.000000   \n",
       "50%       0.000000     0.000000     0.000000     0.000000     0.000000   \n",
       "75%       0.000000     0.000000     0.000000     0.000000     0.000000   \n",
       "max       1.000000     1.000000     3.000000     1.000000     1.000000   \n",
       "\n",
       "              빈혈여부  ...      MF + ES  Modic change           PI           PT  \\\n",
       "count  1894.000000  ...  1894.000000   1894.000000  1890.000000  1890.000000   \n",
       "mean      0.024287  ...  2096.421600      0.247096    46.593651    16.329841   \n",
       "std       0.153980  ...   472.834488      0.661506    22.736211     8.421322   \n",
       "min       0.000000  ...  1016.800000      0.000000    11.900000   -10.600000   \n",
       "25%       0.000000  ...  1765.285000      0.000000    38.700000    10.500000   \n",
       "50%       0.000000  ...  2056.500000      0.000000    45.100000    15.700000   \n",
       "75%       0.000000  ...  2374.350000      0.000000    52.000000    21.400000   \n",
       "max       1.000000  ...  5569.000000      3.000000   559.000000    48.700000   \n",
       "\n",
       "       Seg Angle(raw)  Vaccum disc         골밀도       디스크단면적        디스크위치  \\\n",
       "count     1893.000000  1894.000000  998.000000  1893.000000  1894.000000   \n",
       "mean        15.287934     0.056494   -1.507325  1989.788774     4.430834   \n",
       "std         10.426397     0.230935    0.495867   314.478436     3.595680   \n",
       "min        -27.400000     0.000000   -2.840000  1145.800000     1.000000   \n",
       "25%          8.800000     0.000000   -1.820000  1777.000000     4.000000   \n",
       "50%         14.500000     0.000000   -1.520000  1985.500000     4.000000   \n",
       "75%         21.100000     0.000000   -1.202500  2178.500000     4.000000   \n",
       "max        165.000000     1.000000    1.700000  3214.200000    45.000000   \n",
       "\n",
       "            척추전방위증  \n",
       "count  1894.000000  \n",
       "mean      0.032207  \n",
       "std       0.176596  \n",
       "min       0.000000  \n",
       "25%       0.000000  \n",
       "50%       0.000000  \n",
       "75%       0.000000  \n",
       "max       1.000000  \n",
       "\n",
       "[8 rows x 43 columns]"
      ]
     },
     "execution_count": 4,
     "metadata": {},
     "output_type": "execute_result"
    }
   ],
   "source": [
    "merge.describe()"
   ]
  },
  {
   "cell_type": "code",
   "execution_count": 5,
   "id": "d712f14b",
   "metadata": {},
   "outputs": [
    {
     "name": "stdout",
     "output_type": "stream",
     "text": [
      "<class 'pandas.core.frame.DataFrame'>\n",
      "RangeIndex: 1894 entries, 0 to 1893\n",
      "Data columns (total 51 columns):\n",
      " #   Column                  Non-Null Count  Dtype  \n",
      "---  ------                  --------------  -----  \n",
      " 0   환자ID                    1894 non-null   object \n",
      " 1   Large Lymphocyte        1894 non-null   float64\n",
      " 2   Location of herniation  1894 non-null   int64  \n",
      " 3   ODI                     462 non-null    float64\n",
      " 4   가족력                     1843 non-null   float64\n",
      " 5   간질성폐질환                  1894 non-null   int64  \n",
      " 6   고혈압여부                   1894 non-null   int64  \n",
      " 7   과거수술횟수                  1894 non-null   int64  \n",
      " 8   당뇨여부                    1894 non-null   int64  \n",
      " 9   말초동맥질환여부                1894 non-null   int64  \n",
      " 10  빈혈여부                    1894 non-null   int64  \n",
      " 11  성별                      1894 non-null   int64  \n",
      " 12  스테로이드치료                 1894 non-null   int64  \n",
      " 13  신부전여부                   1894 non-null   int64  \n",
      " 14  신장                      1894 non-null   int64  \n",
      " 15  심혈관질환                   1894 non-null   int64  \n",
      " 16  암발병여부                   1894 non-null   int64  \n",
      " 17  연령                      1894 non-null   int64  \n",
      " 18  우울증여부                   1894 non-null   int64  \n",
      " 19  입원기간                    1894 non-null   int64  \n",
      " 20  종양진행여부                  1894 non-null   int64  \n",
      " 21  직업                      1479 non-null   object \n",
      " 22  체중                      1894 non-null   float64\n",
      " 23  혈전합병증여부                 1894 non-null   int64  \n",
      " 24  흡연여부                    1894 non-null   int64  \n",
      " 25  통증기간(월)                 1890 non-null   float64\n",
      " 26  입원일자                    1894 non-null   object \n",
      " 27  퇴원일자                    1894 non-null   object \n",
      " 28  수술기법                    1813 non-null   object \n",
      " 29  수술시간                    1840 non-null   float64\n",
      " 30  수술실패여부                  1894 non-null   int64  \n",
      " 31  재발여부                    1894 non-null   int64  \n",
      " 32  헤모글로빈수치                 1893 non-null   float64\n",
      " 33  환자통증정도                  1894 non-null   int64  \n",
      " 34  혈액형                     1894 non-null   object \n",
      " 35  수술일자                    1894 non-null   object \n",
      " 36  전방디스크높이(mm)             1894 non-null   float64\n",
      " 37  후방디스크높이(mm)             1894 non-null   float64\n",
      " 38  지방축적도                   1891 non-null   float64\n",
      " 39  Instability             1894 non-null   int64  \n",
      " 40  MF + ES                 1894 non-null   float64\n",
      " 41  Modic change            1894 non-null   int64  \n",
      " 42  PI                      1890 non-null   float64\n",
      " 43  PT                      1890 non-null   float64\n",
      " 44  Seg Angle(raw)          1893 non-null   float64\n",
      " 45  Vaccum disc             1894 non-null   int64  \n",
      " 46  골밀도                     998 non-null    float64\n",
      " 47  디스크단면적                  1893 non-null   float64\n",
      " 48  디스크위치                   1894 non-null   int64  \n",
      " 49  척추이동척도                  1894 non-null   object \n",
      " 50  척추전방위증                  1894 non-null   int64  \n",
      "dtypes: float64(16), int64(27), object(8)\n",
      "memory usage: 754.8+ KB\n"
     ]
    }
   ],
   "source": [
    "merge.info()"
   ]
  },
  {
   "cell_type": "code",
   "execution_count": 6,
   "id": "44a40f32",
   "metadata": {},
   "outputs": [
    {
     "data": {
      "text/plain": [
       "환자ID                         0\n",
       "Large Lymphocyte             0\n",
       "Location of herniation       0\n",
       "ODI                       1432\n",
       "가족력                         51\n",
       "간질성폐질환                       0\n",
       "고혈압여부                        0\n",
       "과거수술횟수                       0\n",
       "당뇨여부                         0\n",
       "말초동맥질환여부                     0\n",
       "빈혈여부                         0\n",
       "성별                           0\n",
       "스테로이드치료                      0\n",
       "신부전여부                        0\n",
       "신장                           0\n",
       "심혈관질환                        0\n",
       "암발병여부                        0\n",
       "연령                           0\n",
       "우울증여부                        0\n",
       "입원기간                         0\n",
       "종양진행여부                       0\n",
       "직업                         415\n",
       "체중                           0\n",
       "혈전합병증여부                      0\n",
       "흡연여부                         0\n",
       "통증기간(월)                      4\n",
       "입원일자                         0\n",
       "퇴원일자                         0\n",
       "수술기법                        81\n",
       "수술시간                        54\n",
       "수술실패여부                       0\n",
       "재발여부                         0\n",
       "헤모글로빈수치                      1\n",
       "환자통증정도                       0\n",
       "혈액형                          0\n",
       "수술일자                         0\n",
       "전방디스크높이(mm)                  0\n",
       "후방디스크높이(mm)                  0\n",
       "지방축적도                        3\n",
       "Instability                  0\n",
       "MF + ES                      0\n",
       "Modic change                 0\n",
       "PI                           4\n",
       "PT                           4\n",
       "Seg Angle(raw)               1\n",
       "Vaccum disc                  0\n",
       "골밀도                        896\n",
       "디스크단면적                       1\n",
       "디스크위치                        0\n",
       "척추이동척도                       0\n",
       "척추전방위증                       0\n",
       "dtype: int64"
      ]
     },
     "execution_count": 6,
     "metadata": {},
     "output_type": "execute_result"
    }
   ],
   "source": [
    "merge.isnull().sum()"
   ]
  },
  {
   "cell_type": "markdown",
   "id": "85665e47",
   "metadata": {},
   "source": [
    "# 데이터 정제"
   ]
  },
  {
   "cell_type": "markdown",
   "id": "2fc23a77",
   "metadata": {},
   "source": [
    "- 환자 ID 제거, 혈액형 삭제"
   ]
  },
  {
   "cell_type": "code",
   "execution_count": 7,
   "id": "fbd64890",
   "metadata": {},
   "outputs": [],
   "source": [
    "merge.drop(['환자ID','혈액형'], axis=1, inplace=True)"
   ]
  },
  {
   "cell_type": "code",
   "execution_count": 8,
   "id": "59d72972",
   "metadata": {},
   "outputs": [
    {
     "data": {
      "text/html": [
       "<div>\n",
       "<style scoped>\n",
       "    .dataframe tbody tr th:only-of-type {\n",
       "        vertical-align: middle;\n",
       "    }\n",
       "\n",
       "    .dataframe tbody tr th {\n",
       "        vertical-align: top;\n",
       "    }\n",
       "\n",
       "    .dataframe thead th {\n",
       "        text-align: right;\n",
       "    }\n",
       "</style>\n",
       "<table border=\"1\" class=\"dataframe\">\n",
       "  <thead>\n",
       "    <tr style=\"text-align: right;\">\n",
       "      <th></th>\n",
       "      <th>Large Lymphocyte</th>\n",
       "      <th>Location of herniation</th>\n",
       "      <th>ODI</th>\n",
       "      <th>가족력</th>\n",
       "      <th>간질성폐질환</th>\n",
       "      <th>고혈압여부</th>\n",
       "      <th>과거수술횟수</th>\n",
       "      <th>당뇨여부</th>\n",
       "      <th>말초동맥질환여부</th>\n",
       "      <th>빈혈여부</th>\n",
       "      <th>...</th>\n",
       "      <th>Modic change</th>\n",
       "      <th>PI</th>\n",
       "      <th>PT</th>\n",
       "      <th>Seg Angle(raw)</th>\n",
       "      <th>Vaccum disc</th>\n",
       "      <th>골밀도</th>\n",
       "      <th>디스크단면적</th>\n",
       "      <th>디스크위치</th>\n",
       "      <th>척추이동척도</th>\n",
       "      <th>척추전방위증</th>\n",
       "    </tr>\n",
       "  </thead>\n",
       "  <tbody>\n",
       "    <tr>\n",
       "      <th>0</th>\n",
       "      <td>10.5</td>\n",
       "      <td>2</td>\n",
       "      <td>44.0</td>\n",
       "      <td>0.0</td>\n",
       "      <td>0</td>\n",
       "      <td>0</td>\n",
       "      <td>0</td>\n",
       "      <td>0</td>\n",
       "      <td>0</td>\n",
       "      <td>0</td>\n",
       "      <td>...</td>\n",
       "      <td>0</td>\n",
       "      <td>49.7</td>\n",
       "      <td>27.6</td>\n",
       "      <td>1.2</td>\n",
       "      <td>0</td>\n",
       "      <td>NaN</td>\n",
       "      <td>2155.30</td>\n",
       "      <td>4</td>\n",
       "      <td>Middle</td>\n",
       "      <td>0</td>\n",
       "    </tr>\n",
       "    <tr>\n",
       "      <th>1</th>\n",
       "      <td>46.7</td>\n",
       "      <td>3</td>\n",
       "      <td>21.0</td>\n",
       "      <td>1.0</td>\n",
       "      <td>0</td>\n",
       "      <td>0</td>\n",
       "      <td>0</td>\n",
       "      <td>0</td>\n",
       "      <td>0</td>\n",
       "      <td>0</td>\n",
       "      <td>...</td>\n",
       "      <td>0</td>\n",
       "      <td>36.3</td>\n",
       "      <td>4.5</td>\n",
       "      <td>7.3</td>\n",
       "      <td>0</td>\n",
       "      <td>NaN</td>\n",
       "      <td>2143.10</td>\n",
       "      <td>4</td>\n",
       "      <td>Middle</td>\n",
       "      <td>0</td>\n",
       "    </tr>\n",
       "    <tr>\n",
       "      <th>2</th>\n",
       "      <td>30.1</td>\n",
       "      <td>3</td>\n",
       "      <td>13.0</td>\n",
       "      <td>0.0</td>\n",
       "      <td>0</td>\n",
       "      <td>0</td>\n",
       "      <td>0</td>\n",
       "      <td>0</td>\n",
       "      <td>0</td>\n",
       "      <td>0</td>\n",
       "      <td>...</td>\n",
       "      <td>0</td>\n",
       "      <td>41.3</td>\n",
       "      <td>17.4</td>\n",
       "      <td>13.4</td>\n",
       "      <td>0</td>\n",
       "      <td>NaN</td>\n",
       "      <td>1868.70</td>\n",
       "      <td>4</td>\n",
       "      <td>Down</td>\n",
       "      <td>0</td>\n",
       "    </tr>\n",
       "    <tr>\n",
       "      <th>3</th>\n",
       "      <td>45.4</td>\n",
       "      <td>3</td>\n",
       "      <td>NaN</td>\n",
       "      <td>0.0</td>\n",
       "      <td>0</td>\n",
       "      <td>0</td>\n",
       "      <td>0</td>\n",
       "      <td>0</td>\n",
       "      <td>0</td>\n",
       "      <td>0</td>\n",
       "      <td>...</td>\n",
       "      <td>0</td>\n",
       "      <td>45.7</td>\n",
       "      <td>16.6</td>\n",
       "      <td>20.1</td>\n",
       "      <td>0</td>\n",
       "      <td>NaN</td>\n",
       "      <td>1851.20</td>\n",
       "      <td>5</td>\n",
       "      <td>Middle</td>\n",
       "      <td>0</td>\n",
       "    </tr>\n",
       "    <tr>\n",
       "      <th>4</th>\n",
       "      <td>52.2</td>\n",
       "      <td>1</td>\n",
       "      <td>31.0</td>\n",
       "      <td>0.0</td>\n",
       "      <td>1</td>\n",
       "      <td>0</td>\n",
       "      <td>1</td>\n",
       "      <td>0</td>\n",
       "      <td>0</td>\n",
       "      <td>0</td>\n",
       "      <td>...</td>\n",
       "      <td>0</td>\n",
       "      <td>54.5</td>\n",
       "      <td>16.7</td>\n",
       "      <td>2.9</td>\n",
       "      <td>0</td>\n",
       "      <td>NaN</td>\n",
       "      <td>2419.10</td>\n",
       "      <td>2</td>\n",
       "      <td>Up</td>\n",
       "      <td>0</td>\n",
       "    </tr>\n",
       "    <tr>\n",
       "      <th>...</th>\n",
       "      <td>...</td>\n",
       "      <td>...</td>\n",
       "      <td>...</td>\n",
       "      <td>...</td>\n",
       "      <td>...</td>\n",
       "      <td>...</td>\n",
       "      <td>...</td>\n",
       "      <td>...</td>\n",
       "      <td>...</td>\n",
       "      <td>...</td>\n",
       "      <td>...</td>\n",
       "      <td>...</td>\n",
       "      <td>...</td>\n",
       "      <td>...</td>\n",
       "      <td>...</td>\n",
       "      <td>...</td>\n",
       "      <td>...</td>\n",
       "      <td>...</td>\n",
       "      <td>...</td>\n",
       "      <td>...</td>\n",
       "      <td>...</td>\n",
       "    </tr>\n",
       "    <tr>\n",
       "      <th>1889</th>\n",
       "      <td>23.5</td>\n",
       "      <td>3</td>\n",
       "      <td>55.0</td>\n",
       "      <td>0.0</td>\n",
       "      <td>0</td>\n",
       "      <td>0</td>\n",
       "      <td>0</td>\n",
       "      <td>0</td>\n",
       "      <td>0</td>\n",
       "      <td>0</td>\n",
       "      <td>...</td>\n",
       "      <td>0</td>\n",
       "      <td>27.7</td>\n",
       "      <td>9.1</td>\n",
       "      <td>10.7</td>\n",
       "      <td>0</td>\n",
       "      <td>-1.69</td>\n",
       "      <td>1777.50</td>\n",
       "      <td>4</td>\n",
       "      <td>Middle</td>\n",
       "      <td>0</td>\n",
       "    </tr>\n",
       "    <tr>\n",
       "      <th>1890</th>\n",
       "      <td>31.4</td>\n",
       "      <td>3</td>\n",
       "      <td>NaN</td>\n",
       "      <td>0.0</td>\n",
       "      <td>0</td>\n",
       "      <td>0</td>\n",
       "      <td>0</td>\n",
       "      <td>0</td>\n",
       "      <td>0</td>\n",
       "      <td>0</td>\n",
       "      <td>...</td>\n",
       "      <td>1</td>\n",
       "      <td>34.6</td>\n",
       "      <td>14.1</td>\n",
       "      <td>20.8</td>\n",
       "      <td>0</td>\n",
       "      <td>-2.06</td>\n",
       "      <td>1219.00</td>\n",
       "      <td>4</td>\n",
       "      <td>Middle</td>\n",
       "      <td>0</td>\n",
       "    </tr>\n",
       "    <tr>\n",
       "      <th>1891</th>\n",
       "      <td>24.9</td>\n",
       "      <td>1</td>\n",
       "      <td>NaN</td>\n",
       "      <td>0.0</td>\n",
       "      <td>0</td>\n",
       "      <td>1</td>\n",
       "      <td>0</td>\n",
       "      <td>0</td>\n",
       "      <td>0</td>\n",
       "      <td>0</td>\n",
       "      <td>...</td>\n",
       "      <td>0</td>\n",
       "      <td>35.6</td>\n",
       "      <td>10.7</td>\n",
       "      <td>8.4</td>\n",
       "      <td>0</td>\n",
       "      <td>-1.16</td>\n",
       "      <td>2324.83</td>\n",
       "      <td>4</td>\n",
       "      <td>Middle</td>\n",
       "      <td>1</td>\n",
       "    </tr>\n",
       "    <tr>\n",
       "      <th>1892</th>\n",
       "      <td>45.8</td>\n",
       "      <td>4</td>\n",
       "      <td>NaN</td>\n",
       "      <td>0.0</td>\n",
       "      <td>0</td>\n",
       "      <td>0</td>\n",
       "      <td>0</td>\n",
       "      <td>0</td>\n",
       "      <td>0</td>\n",
       "      <td>0</td>\n",
       "      <td>...</td>\n",
       "      <td>0</td>\n",
       "      <td>30.7</td>\n",
       "      <td>2.3</td>\n",
       "      <td>20.4</td>\n",
       "      <td>0</td>\n",
       "      <td>-1.93</td>\n",
       "      <td>2203.83</td>\n",
       "      <td>4</td>\n",
       "      <td>Middle</td>\n",
       "      <td>0</td>\n",
       "    </tr>\n",
       "    <tr>\n",
       "      <th>1893</th>\n",
       "      <td>47.7</td>\n",
       "      <td>1</td>\n",
       "      <td>NaN</td>\n",
       "      <td>0.0</td>\n",
       "      <td>0</td>\n",
       "      <td>0</td>\n",
       "      <td>0</td>\n",
       "      <td>0</td>\n",
       "      <td>0</td>\n",
       "      <td>1</td>\n",
       "      <td>...</td>\n",
       "      <td>2</td>\n",
       "      <td>46.1</td>\n",
       "      <td>13.5</td>\n",
       "      <td>17.2</td>\n",
       "      <td>0</td>\n",
       "      <td>-0.75</td>\n",
       "      <td>1896.40</td>\n",
       "      <td>4</td>\n",
       "      <td>Down</td>\n",
       "      <td>0</td>\n",
       "    </tr>\n",
       "  </tbody>\n",
       "</table>\n",
       "<p>1894 rows × 49 columns</p>\n",
       "</div>"
      ],
      "text/plain": [
       "      Large Lymphocyte  Location of herniation   ODI  가족력  간질성폐질환  고혈압여부  \\\n",
       "0                 10.5                       2  44.0  0.0       0      0   \n",
       "1                 46.7                       3  21.0  1.0       0      0   \n",
       "2                 30.1                       3  13.0  0.0       0      0   \n",
       "3                 45.4                       3   NaN  0.0       0      0   \n",
       "4                 52.2                       1  31.0  0.0       1      0   \n",
       "...                ...                     ...   ...  ...     ...    ...   \n",
       "1889              23.5                       3  55.0  0.0       0      0   \n",
       "1890              31.4                       3   NaN  0.0       0      0   \n",
       "1891              24.9                       1   NaN  0.0       0      1   \n",
       "1892              45.8                       4   NaN  0.0       0      0   \n",
       "1893              47.7                       1   NaN  0.0       0      0   \n",
       "\n",
       "      과거수술횟수  당뇨여부  말초동맥질환여부  빈혈여부  ...  Modic change    PI    PT  \\\n",
       "0          0     0         0     0  ...             0  49.7  27.6   \n",
       "1          0     0         0     0  ...             0  36.3   4.5   \n",
       "2          0     0         0     0  ...             0  41.3  17.4   \n",
       "3          0     0         0     0  ...             0  45.7  16.6   \n",
       "4          1     0         0     0  ...             0  54.5  16.7   \n",
       "...      ...   ...       ...   ...  ...           ...   ...   ...   \n",
       "1889       0     0         0     0  ...             0  27.7   9.1   \n",
       "1890       0     0         0     0  ...             1  34.6  14.1   \n",
       "1891       0     0         0     0  ...             0  35.6  10.7   \n",
       "1892       0     0         0     0  ...             0  30.7   2.3   \n",
       "1893       0     0         0     1  ...             2  46.1  13.5   \n",
       "\n",
       "      Seg Angle(raw)  Vaccum disc   골밀도   디스크단면적  디스크위치  척추이동척도  척추전방위증  \n",
       "0                1.2            0   NaN  2155.30      4  Middle       0  \n",
       "1                7.3            0   NaN  2143.10      4  Middle       0  \n",
       "2               13.4            0   NaN  1868.70      4    Down       0  \n",
       "3               20.1            0   NaN  1851.20      5  Middle       0  \n",
       "4                2.9            0   NaN  2419.10      2      Up       0  \n",
       "...              ...          ...   ...      ...    ...     ...     ...  \n",
       "1889            10.7            0 -1.69  1777.50      4  Middle       0  \n",
       "1890            20.8            0 -2.06  1219.00      4  Middle       0  \n",
       "1891             8.4            0 -1.16  2324.83      4  Middle       1  \n",
       "1892            20.4            0 -1.93  2203.83      4  Middle       0  \n",
       "1893            17.2            0 -0.75  1896.40      4    Down       0  \n",
       "\n",
       "[1894 rows x 49 columns]"
      ]
     },
     "execution_count": 8,
     "metadata": {},
     "output_type": "execute_result"
    }
   ],
   "source": [
    "merge"
   ]
  },
  {
   "cell_type": "markdown",
   "id": "c917c1fa",
   "metadata": {},
   "source": [
    "### 결측치 처리"
   ]
  },
  {
   "cell_type": "code",
   "execution_count": 9,
   "id": "d2d276da",
   "metadata": {},
   "outputs": [
    {
     "data": {
      "text/plain": [
       "0"
      ]
     },
     "execution_count": 9,
     "metadata": {},
     "output_type": "execute_result"
    }
   ],
   "source": [
    "# ODI 0 채우기\n",
    "merge.ODI.fillna(0, inplace=True)\n",
    "merge.ODI.isnull().sum()"
   ]
  },
  {
   "cell_type": "markdown",
   "id": "2b2dcd6b",
   "metadata": {},
   "source": [
    "- ODI 결측치 1432개 0으로 채움 -> 대이터에 '0'이 없어서 결측치 표시"
   ]
  },
  {
   "cell_type": "code",
   "execution_count": 10,
   "id": "47abc2c3",
   "metadata": {},
   "outputs": [
    {
     "data": {
      "text/plain": [
       "0"
      ]
     },
     "execution_count": 10,
     "metadata": {},
     "output_type": "execute_result"
    }
   ],
   "source": [
    "# 가족력 drop\n",
    "merge.dropna(subset=['가족력'],inplace = True)\n",
    "merge.가족력.isnull().sum()"
   ]
  },
  {
   "cell_type": "markdown",
   "id": "4c2905a9",
   "metadata": {},
   "source": [
    "- 가족력 결측치 51개 제거"
   ]
  },
  {
   "cell_type": "code",
   "execution_count": 11,
   "id": "85e0f286",
   "metadata": {},
   "outputs": [
    {
     "name": "stdout",
     "output_type": "stream",
     "text": [
      "14.976942003514937\n",
      "13.922613636363637\n"
     ]
    }
   ],
   "source": [
    "#헤모글로빈 성별 기준 평균값\n",
    "\n",
    "헤모글로빈수치_1 = merge[merge['성별'] == 1]['헤모글로빈수치'].mean()\n",
    "헤모글로빈수치_2 = merge[merge['성별'] == 2]['헤모글로빈수치'].mean()\n",
    "print(헤모글로빈수치_1)\n",
    "print(헤모글로빈수치_2)"
   ]
  },
  {
   "cell_type": "code",
   "execution_count": 12,
   "id": "cab32a5c",
   "metadata": {},
   "outputs": [
    {
     "data": {
      "text/plain": [
       "0"
      ]
     },
     "execution_count": 12,
     "metadata": {},
     "output_type": "execute_result"
    }
   ],
   "source": [
    "# 헤모글로빈수치 (성별 기준 평균 대체 (1 : 15, 2 : 13.9. 결측치는 1)\n",
    "merge.헤모글로빈수치.fillna(14.976942003514937, inplace=True)\n",
    "merge.헤모글로빈수치.isnull().sum()"
   ]
  },
  {
   "cell_type": "markdown",
   "id": "1b602104",
   "metadata": {},
   "source": [
    " - 헤모글로빈 결측치 1개 성별별 평균으로 채움"
   ]
  },
  {
   "cell_type": "code",
   "execution_count": 13,
   "id": "4e49f63d",
   "metadata": {},
   "outputs": [
    {
     "data": {
      "text/plain": [
       "0"
      ]
     },
     "execution_count": 13,
     "metadata": {},
     "output_type": "execute_result"
    }
   ],
   "source": [
    "# 통증기간\n",
    "merge['통증기간(월)'].fillna(merge['통증기간(월)'].mean(skipna= True), inplace = True)\n",
    "merge['통증기간(월)'].isnull().sum()"
   ]
  },
  {
   "cell_type": "markdown",
   "id": "92c91e6a",
   "metadata": {},
   "source": [
    "- 통증기간 4개 평균으로 채움 (평균 = 5.879841269) "
   ]
  },
  {
   "cell_type": "code",
   "execution_count": 14,
   "id": "81aecb7f",
   "metadata": {},
   "outputs": [
    {
     "data": {
      "text/plain": [
       "0"
      ]
     },
     "execution_count": 14,
     "metadata": {},
     "output_type": "execute_result"
    }
   ],
   "source": [
    "# 가족력 drop\n",
    "merge.dropna(subset=['디스크단면적'],inplace = True)\n",
    "merge.디스크단면적.isnull().sum()"
   ]
  },
  {
   "cell_type": "markdown",
   "id": "8d14d0d2",
   "metadata": {},
   "source": [
    "- 디스크단멱적 결측치 1개 제거"
   ]
  },
  {
   "cell_type": "code",
   "execution_count": 15,
   "id": "dec2cc32",
   "metadata": {},
   "outputs": [
    {
     "data": {
      "text/plain": [
       "0"
      ]
     },
     "execution_count": 15,
     "metadata": {},
     "output_type": "execute_result"
    }
   ],
   "source": [
    "# 수술시간\n",
    "merge['수술시간'].fillna(merge['수술시간'].mean(skipna= True), inplace = True)\n",
    "merge['수술시간'].isnull().sum()"
   ]
  },
  {
   "cell_type": "markdown",
   "id": "7038ba7a",
   "metadata": {},
   "source": [
    "- 수술시간 결측치 4개 평균으로 대체"
   ]
  },
  {
   "cell_type": "code",
   "execution_count": 16,
   "id": "df841525",
   "metadata": {},
   "outputs": [],
   "source": [
    "#수술기법 \n",
    "merge[\"수술기법\"].fillna(\"기타\", inplace = True)"
   ]
  },
  {
   "cell_type": "markdown",
   "id": "7def3594",
   "metadata": {},
   "source": [
    "- 수술기법 결측치 81개 기타로 처리"
   ]
  },
  {
   "cell_type": "code",
   "execution_count": 17,
   "id": "c205e76c",
   "metadata": {},
   "outputs": [],
   "source": [
    "#직업\n",
    "merge[\"직업\"].fillna(\"기타\", inplace = True)"
   ]
  },
  {
   "cell_type": "markdown",
   "id": "731f05ca",
   "metadata": {},
   "source": [
    "- 직업 결측치 401개 기타로 처리"
   ]
  },
  {
   "cell_type": "code",
   "execution_count": 18,
   "id": "fd5e6cdf",
   "metadata": {},
   "outputs": [
    {
     "data": {
      "text/plain": [
       "0"
      ]
     },
     "execution_count": 18,
     "metadata": {},
     "output_type": "execute_result"
    }
   ],
   "source": [
    "# 지방축적도\n",
    "merge.dropna(subset=['지방축적도'],inplace = True)\n",
    "merge.지방축적도.isnull().sum()"
   ]
  },
  {
   "cell_type": "markdown",
   "id": "74428023",
   "metadata": {},
   "source": [
    "- 지방축적도 결측치 3개 제거"
   ]
  },
  {
   "cell_type": "code",
   "execution_count": 19,
   "id": "08eddb61",
   "metadata": {},
   "outputs": [
    {
     "data": {
      "text/plain": [
       "0"
      ]
     },
     "execution_count": 19,
     "metadata": {},
     "output_type": "execute_result"
    }
   ],
   "source": [
    "# PI\n",
    "merge.dropna(subset=['PI'],inplace = True)\n",
    "merge.PI.isnull().sum()"
   ]
  },
  {
   "cell_type": "markdown",
   "id": "87e2f862",
   "metadata": {},
   "source": [
    "- PI 결측치 4개 제거"
   ]
  },
  {
   "cell_type": "code",
   "execution_count": 20,
   "id": "9d7f1781",
   "metadata": {},
   "outputs": [
    {
     "data": {
      "text/plain": [
       "0"
      ]
     },
     "execution_count": 20,
     "metadata": {},
     "output_type": "execute_result"
    }
   ],
   "source": [
    "# PT\n",
    "merge.dropna(subset=['PT'],inplace = True)\n",
    "merge.PT.isnull().sum()"
   ]
  },
  {
   "cell_type": "markdown",
   "id": "f496db7d",
   "metadata": {},
   "source": [
    "- PT 결측치 4개 제거"
   ]
  },
  {
   "cell_type": "markdown",
   "id": "3cc2f892",
   "metadata": {},
   "source": [
    "- Seg Angle(raw) 결측치 1개 대기"
   ]
  },
  {
   "cell_type": "code",
   "execution_count": 21,
   "id": "aecb7db7",
   "metadata": {},
   "outputs": [
    {
     "data": {
      "text/plain": [
       "0"
      ]
     },
     "execution_count": 21,
     "metadata": {},
     "output_type": "execute_result"
    }
   ],
   "source": [
    "merge.골밀도.fillna(100, inplace=True)\n",
    "merge.골밀도.isnull().sum()"
   ]
  },
  {
   "cell_type": "markdown",
   "id": "74450420",
   "metadata": {},
   "source": [
    "- 골밀도 결측치 841개\n",
    "- 결측치와 결측치가 아닌 데이터는 연령별 유의미한 차이가 있다\n",
    "- 구분하기 위해 결측치 값 100 대체"
   ]
  },
  {
   "cell_type": "code",
   "execution_count": 22,
   "id": "a3265e38",
   "metadata": {},
   "outputs": [
    {
     "data": {
      "text/plain": [
       "Large Lymphocyte          0\n",
       "Location of herniation    0\n",
       "ODI                       0\n",
       "가족력                       0\n",
       "간질성폐질환                    0\n",
       "고혈압여부                     0\n",
       "과거수술횟수                    0\n",
       "당뇨여부                      0\n",
       "말초동맥질환여부                  0\n",
       "빈혈여부                      0\n",
       "성별                        0\n",
       "스테로이드치료                   0\n",
       "신부전여부                     0\n",
       "신장                        0\n",
       "심혈관질환                     0\n",
       "암발병여부                     0\n",
       "연령                        0\n",
       "우울증여부                     0\n",
       "입원기간                      0\n",
       "종양진행여부                    0\n",
       "직업                        0\n",
       "체중                        0\n",
       "혈전합병증여부                   0\n",
       "흡연여부                      0\n",
       "통증기간(월)                   0\n",
       "입원일자                      0\n",
       "퇴원일자                      0\n",
       "수술기법                      0\n",
       "수술시간                      0\n",
       "수술실패여부                    0\n",
       "재발여부                      0\n",
       "헤모글로빈수치                   0\n",
       "환자통증정도                    0\n",
       "수술일자                      0\n",
       "전방디스크높이(mm)               0\n",
       "후방디스크높이(mm)               0\n",
       "지방축적도                     0\n",
       "Instability               0\n",
       "MF + ES                   0\n",
       "Modic change              0\n",
       "PI                        0\n",
       "PT                        0\n",
       "Seg Angle(raw)            1\n",
       "Vaccum disc               0\n",
       "골밀도                       0\n",
       "디스크단면적                    0\n",
       "디스크위치                     0\n",
       "척추이동척도                    0\n",
       "척추전방위증                    0\n",
       "dtype: int64"
      ]
     },
     "execution_count": 22,
     "metadata": {},
     "output_type": "execute_result"
    }
   ],
   "source": [
    "merge.isnull().sum()"
   ]
  },
  {
   "cell_type": "markdown",
   "id": "abddf08d",
   "metadata": {},
   "source": [
    "### 이상치 처리"
   ]
  },
  {
   "cell_type": "markdown",
   "id": "710e358a",
   "metadata": {},
   "source": [
    "- 대림프구 기준이 7보다 큰 값이라서 밑에거 다 제거"
   ]
  },
  {
   "cell_type": "code",
   "execution_count": 23,
   "id": "03cd98db",
   "metadata": {},
   "outputs": [],
   "source": [
    "merge = merge[merge['Large Lymphocyte'] >= 7]"
   ]
  },
  {
   "cell_type": "code",
   "execution_count": 24,
   "id": "df3b7e21",
   "metadata": {},
   "outputs": [
    {
     "data": {
      "text/html": [
       "<div>\n",
       "<style scoped>\n",
       "    .dataframe tbody tr th:only-of-type {\n",
       "        vertical-align: middle;\n",
       "    }\n",
       "\n",
       "    .dataframe tbody tr th {\n",
       "        vertical-align: top;\n",
       "    }\n",
       "\n",
       "    .dataframe thead th {\n",
       "        text-align: right;\n",
       "    }\n",
       "</style>\n",
       "<table border=\"1\" class=\"dataframe\">\n",
       "  <thead>\n",
       "    <tr style=\"text-align: right;\">\n",
       "      <th></th>\n",
       "      <th>Large Lymphocyte</th>\n",
       "      <th>Location of herniation</th>\n",
       "      <th>ODI</th>\n",
       "      <th>가족력</th>\n",
       "      <th>간질성폐질환</th>\n",
       "      <th>고혈압여부</th>\n",
       "      <th>과거수술횟수</th>\n",
       "      <th>당뇨여부</th>\n",
       "      <th>말초동맥질환여부</th>\n",
       "      <th>빈혈여부</th>\n",
       "      <th>...</th>\n",
       "      <th>Modic change</th>\n",
       "      <th>PI</th>\n",
       "      <th>PT</th>\n",
       "      <th>Seg Angle(raw)</th>\n",
       "      <th>Vaccum disc</th>\n",
       "      <th>골밀도</th>\n",
       "      <th>디스크단면적</th>\n",
       "      <th>디스크위치</th>\n",
       "      <th>척추이동척도</th>\n",
       "      <th>척추전방위증</th>\n",
       "    </tr>\n",
       "  </thead>\n",
       "  <tbody>\n",
       "  </tbody>\n",
       "</table>\n",
       "<p>0 rows × 49 columns</p>\n",
       "</div>"
      ],
      "text/plain": [
       "Empty DataFrame\n",
       "Columns: [Large Lymphocyte, Location of herniation, ODI, 가족력, 간질성폐질환, 고혈압여부, 과거수술횟수, 당뇨여부, 말초동맥질환여부, 빈혈여부, 성별, 스테로이드치료, 신부전여부, 신장, 심혈관질환, 암발병여부, 연령, 우울증여부, 입원기간, 종양진행여부, 직업, 체중, 혈전합병증여부, 흡연여부, 통증기간(월), 입원일자, 퇴원일자, 수술기법, 수술시간, 수술실패여부, 재발여부, 헤모글로빈수치, 환자통증정도, 수술일자, 전방디스크높이(mm), 후방디스크높이(mm), 지방축적도, Instability, MF + ES, Modic change, PI, PT, Seg Angle(raw), Vaccum disc, 골밀도, 디스크단면적, 디스크위치, 척추이동척도, 척추전방위증]\n",
       "Index: []\n",
       "\n",
       "[0 rows x 49 columns]"
      ]
     },
     "execution_count": 24,
     "metadata": {},
     "output_type": "execute_result"
    }
   ],
   "source": [
    "merge[merge['Large Lymphocyte'] < 7]"
   ]
  },
  {
   "cell_type": "markdown",
   "id": "8208e040",
   "metadata": {},
   "source": [
    "- 헤모글로빈수치 (7~19.38) 이상치 없음 "
   ]
  },
  {
   "cell_type": "markdown",
   "id": "ab696f65",
   "metadata": {},
   "source": [
    "- 통증기간(월) 360개월 있지만, FBSS로 예상되어 이상치 없다고 판단"
   ]
  },
  {
   "cell_type": "code",
   "execution_count": 25,
   "id": "7ffa6405",
   "metadata": {},
   "outputs": [
    {
     "data": {
      "text/html": [
       "<div>\n",
       "<style scoped>\n",
       "    .dataframe tbody tr th:only-of-type {\n",
       "        vertical-align: middle;\n",
       "    }\n",
       "\n",
       "    .dataframe tbody tr th {\n",
       "        vertical-align: top;\n",
       "    }\n",
       "\n",
       "    .dataframe thead th {\n",
       "        text-align: right;\n",
       "    }\n",
       "</style>\n",
       "<table border=\"1\" class=\"dataframe\">\n",
       "  <thead>\n",
       "    <tr style=\"text-align: right;\">\n",
       "      <th></th>\n",
       "      <th>Large Lymphocyte</th>\n",
       "      <th>Location of herniation</th>\n",
       "      <th>ODI</th>\n",
       "      <th>가족력</th>\n",
       "      <th>간질성폐질환</th>\n",
       "      <th>고혈압여부</th>\n",
       "      <th>과거수술횟수</th>\n",
       "      <th>당뇨여부</th>\n",
       "      <th>말초동맥질환여부</th>\n",
       "      <th>빈혈여부</th>\n",
       "      <th>...</th>\n",
       "      <th>Modic change</th>\n",
       "      <th>PI</th>\n",
       "      <th>PT</th>\n",
       "      <th>Seg Angle(raw)</th>\n",
       "      <th>Vaccum disc</th>\n",
       "      <th>골밀도</th>\n",
       "      <th>디스크단면적</th>\n",
       "      <th>디스크위치</th>\n",
       "      <th>척추이동척도</th>\n",
       "      <th>척추전방위증</th>\n",
       "    </tr>\n",
       "  </thead>\n",
       "  <tbody>\n",
       "    <tr>\n",
       "      <th>1632</th>\n",
       "      <td>51.6</td>\n",
       "      <td>3</td>\n",
       "      <td>0.0</td>\n",
       "      <td>0.0</td>\n",
       "      <td>0</td>\n",
       "      <td>0</td>\n",
       "      <td>0</td>\n",
       "      <td>0</td>\n",
       "      <td>0</td>\n",
       "      <td>0</td>\n",
       "      <td>...</td>\n",
       "      <td>0</td>\n",
       "      <td>36.1</td>\n",
       "      <td>2.6</td>\n",
       "      <td>22.0</td>\n",
       "      <td>0</td>\n",
       "      <td>100.0</td>\n",
       "      <td>2197.0</td>\n",
       "      <td>4</td>\n",
       "      <td>Down</td>\n",
       "      <td>0</td>\n",
       "    </tr>\n",
       "  </tbody>\n",
       "</table>\n",
       "<p>1 rows × 49 columns</p>\n",
       "</div>"
      ],
      "text/plain": [
       "      Large Lymphocyte  Location of herniation  ODI  가족력  간질성폐질환  고혈압여부  \\\n",
       "1632              51.6                       3  0.0  0.0       0      0   \n",
       "\n",
       "      과거수술횟수  당뇨여부  말초동맥질환여부  빈혈여부  ...  Modic change    PI   PT  \\\n",
       "1632       0     0         0     0  ...             0  36.1  2.6   \n",
       "\n",
       "      Seg Angle(raw)  Vaccum disc    골밀도  디스크단면적  디스크위치  척추이동척도  척추전방위증  \n",
       "1632            22.0            0  100.0  2197.0      4    Down       0  \n",
       "\n",
       "[1 rows x 49 columns]"
      ]
     },
     "execution_count": 25,
     "metadata": {},
     "output_type": "execute_result"
    }
   ],
   "source": [
    "merge[merge['통증기간(월)'] >= 300]"
   ]
  },
  {
   "cell_type": "markdown",
   "id": "4cfa4220",
   "metadata": {},
   "source": [
    "- 입원기간 이상치 제거\n",
    "- 파생변수 "
   ]
  },
  {
   "cell_type": "code",
   "execution_count": 26,
   "id": "c5291f9c",
   "metadata": {},
   "outputs": [],
   "source": [
    "merge['입원일자'] = pd.to_datetime(merge['입원일자'], format='%Y-%m-%d')\n",
    "merge['퇴원일자'] = pd.to_datetime(merge['퇴원일자'], format='%Y-%m-%d')"
   ]
  },
  {
   "cell_type": "code",
   "execution_count": 27,
   "id": "1b9eaef0",
   "metadata": {},
   "outputs": [],
   "source": [
    "merge['최근입원기간'] = merge['퇴원일자'] - merge['입원일자']"
   ]
  },
  {
   "cell_type": "code",
   "execution_count": 28,
   "id": "e4e830a5",
   "metadata": {},
   "outputs": [
    {
     "data": {
      "text/html": [
       "<div>\n",
       "<style scoped>\n",
       "    .dataframe tbody tr th:only-of-type {\n",
       "        vertical-align: middle;\n",
       "    }\n",
       "\n",
       "    .dataframe tbody tr th {\n",
       "        vertical-align: top;\n",
       "    }\n",
       "\n",
       "    .dataframe thead th {\n",
       "        text-align: right;\n",
       "    }\n",
       "</style>\n",
       "<table border=\"1\" class=\"dataframe\">\n",
       "  <thead>\n",
       "    <tr style=\"text-align: right;\">\n",
       "      <th></th>\n",
       "      <th>Large Lymphocyte</th>\n",
       "      <th>Location of herniation</th>\n",
       "      <th>ODI</th>\n",
       "      <th>가족력</th>\n",
       "      <th>간질성폐질환</th>\n",
       "      <th>고혈압여부</th>\n",
       "      <th>과거수술횟수</th>\n",
       "      <th>당뇨여부</th>\n",
       "      <th>말초동맥질환여부</th>\n",
       "      <th>빈혈여부</th>\n",
       "      <th>...</th>\n",
       "      <th>PI</th>\n",
       "      <th>PT</th>\n",
       "      <th>Seg Angle(raw)</th>\n",
       "      <th>Vaccum disc</th>\n",
       "      <th>골밀도</th>\n",
       "      <th>디스크단면적</th>\n",
       "      <th>디스크위치</th>\n",
       "      <th>척추이동척도</th>\n",
       "      <th>척추전방위증</th>\n",
       "      <th>최근입원기간</th>\n",
       "    </tr>\n",
       "  </thead>\n",
       "  <tbody>\n",
       "    <tr>\n",
       "      <th>0</th>\n",
       "      <td>10.5</td>\n",
       "      <td>2</td>\n",
       "      <td>44.0</td>\n",
       "      <td>0.0</td>\n",
       "      <td>0</td>\n",
       "      <td>0</td>\n",
       "      <td>0</td>\n",
       "      <td>0</td>\n",
       "      <td>0</td>\n",
       "      <td>0</td>\n",
       "      <td>...</td>\n",
       "      <td>49.7</td>\n",
       "      <td>27.6</td>\n",
       "      <td>1.2</td>\n",
       "      <td>0</td>\n",
       "      <td>100.00</td>\n",
       "      <td>2155.30</td>\n",
       "      <td>4</td>\n",
       "      <td>Middle</td>\n",
       "      <td>0</td>\n",
       "      <td>1 days</td>\n",
       "    </tr>\n",
       "    <tr>\n",
       "      <th>1</th>\n",
       "      <td>46.7</td>\n",
       "      <td>3</td>\n",
       "      <td>21.0</td>\n",
       "      <td>1.0</td>\n",
       "      <td>0</td>\n",
       "      <td>0</td>\n",
       "      <td>0</td>\n",
       "      <td>0</td>\n",
       "      <td>0</td>\n",
       "      <td>0</td>\n",
       "      <td>...</td>\n",
       "      <td>36.3</td>\n",
       "      <td>4.5</td>\n",
       "      <td>7.3</td>\n",
       "      <td>0</td>\n",
       "      <td>100.00</td>\n",
       "      <td>2143.10</td>\n",
       "      <td>4</td>\n",
       "      <td>Middle</td>\n",
       "      <td>0</td>\n",
       "      <td>3 days</td>\n",
       "    </tr>\n",
       "    <tr>\n",
       "      <th>2</th>\n",
       "      <td>30.1</td>\n",
       "      <td>3</td>\n",
       "      <td>13.0</td>\n",
       "      <td>0.0</td>\n",
       "      <td>0</td>\n",
       "      <td>0</td>\n",
       "      <td>0</td>\n",
       "      <td>0</td>\n",
       "      <td>0</td>\n",
       "      <td>0</td>\n",
       "      <td>...</td>\n",
       "      <td>41.3</td>\n",
       "      <td>17.4</td>\n",
       "      <td>13.4</td>\n",
       "      <td>0</td>\n",
       "      <td>100.00</td>\n",
       "      <td>1868.70</td>\n",
       "      <td>4</td>\n",
       "      <td>Down</td>\n",
       "      <td>0</td>\n",
       "      <td>0 days</td>\n",
       "    </tr>\n",
       "    <tr>\n",
       "      <th>3</th>\n",
       "      <td>45.4</td>\n",
       "      <td>3</td>\n",
       "      <td>0.0</td>\n",
       "      <td>0.0</td>\n",
       "      <td>0</td>\n",
       "      <td>0</td>\n",
       "      <td>0</td>\n",
       "      <td>0</td>\n",
       "      <td>0</td>\n",
       "      <td>0</td>\n",
       "      <td>...</td>\n",
       "      <td>45.7</td>\n",
       "      <td>16.6</td>\n",
       "      <td>20.1</td>\n",
       "      <td>0</td>\n",
       "      <td>100.00</td>\n",
       "      <td>1851.20</td>\n",
       "      <td>5</td>\n",
       "      <td>Middle</td>\n",
       "      <td>0</td>\n",
       "      <td>3 days</td>\n",
       "    </tr>\n",
       "    <tr>\n",
       "      <th>4</th>\n",
       "      <td>52.2</td>\n",
       "      <td>1</td>\n",
       "      <td>31.0</td>\n",
       "      <td>0.0</td>\n",
       "      <td>1</td>\n",
       "      <td>0</td>\n",
       "      <td>1</td>\n",
       "      <td>0</td>\n",
       "      <td>0</td>\n",
       "      <td>0</td>\n",
       "      <td>...</td>\n",
       "      <td>54.5</td>\n",
       "      <td>16.7</td>\n",
       "      <td>2.9</td>\n",
       "      <td>0</td>\n",
       "      <td>100.00</td>\n",
       "      <td>2419.10</td>\n",
       "      <td>2</td>\n",
       "      <td>Up</td>\n",
       "      <td>0</td>\n",
       "      <td>1 days</td>\n",
       "    </tr>\n",
       "    <tr>\n",
       "      <th>...</th>\n",
       "      <td>...</td>\n",
       "      <td>...</td>\n",
       "      <td>...</td>\n",
       "      <td>...</td>\n",
       "      <td>...</td>\n",
       "      <td>...</td>\n",
       "      <td>...</td>\n",
       "      <td>...</td>\n",
       "      <td>...</td>\n",
       "      <td>...</td>\n",
       "      <td>...</td>\n",
       "      <td>...</td>\n",
       "      <td>...</td>\n",
       "      <td>...</td>\n",
       "      <td>...</td>\n",
       "      <td>...</td>\n",
       "      <td>...</td>\n",
       "      <td>...</td>\n",
       "      <td>...</td>\n",
       "      <td>...</td>\n",
       "      <td>...</td>\n",
       "    </tr>\n",
       "    <tr>\n",
       "      <th>1889</th>\n",
       "      <td>23.5</td>\n",
       "      <td>3</td>\n",
       "      <td>55.0</td>\n",
       "      <td>0.0</td>\n",
       "      <td>0</td>\n",
       "      <td>0</td>\n",
       "      <td>0</td>\n",
       "      <td>0</td>\n",
       "      <td>0</td>\n",
       "      <td>0</td>\n",
       "      <td>...</td>\n",
       "      <td>27.7</td>\n",
       "      <td>9.1</td>\n",
       "      <td>10.7</td>\n",
       "      <td>0</td>\n",
       "      <td>-1.69</td>\n",
       "      <td>1777.50</td>\n",
       "      <td>4</td>\n",
       "      <td>Middle</td>\n",
       "      <td>0</td>\n",
       "      <td>4 days</td>\n",
       "    </tr>\n",
       "    <tr>\n",
       "      <th>1890</th>\n",
       "      <td>31.4</td>\n",
       "      <td>3</td>\n",
       "      <td>0.0</td>\n",
       "      <td>0.0</td>\n",
       "      <td>0</td>\n",
       "      <td>0</td>\n",
       "      <td>0</td>\n",
       "      <td>0</td>\n",
       "      <td>0</td>\n",
       "      <td>0</td>\n",
       "      <td>...</td>\n",
       "      <td>34.6</td>\n",
       "      <td>14.1</td>\n",
       "      <td>20.8</td>\n",
       "      <td>0</td>\n",
       "      <td>-2.06</td>\n",
       "      <td>1219.00</td>\n",
       "      <td>4</td>\n",
       "      <td>Middle</td>\n",
       "      <td>0</td>\n",
       "      <td>4 days</td>\n",
       "    </tr>\n",
       "    <tr>\n",
       "      <th>1891</th>\n",
       "      <td>24.9</td>\n",
       "      <td>1</td>\n",
       "      <td>0.0</td>\n",
       "      <td>0.0</td>\n",
       "      <td>0</td>\n",
       "      <td>1</td>\n",
       "      <td>0</td>\n",
       "      <td>0</td>\n",
       "      <td>0</td>\n",
       "      <td>0</td>\n",
       "      <td>...</td>\n",
       "      <td>35.6</td>\n",
       "      <td>10.7</td>\n",
       "      <td>8.4</td>\n",
       "      <td>0</td>\n",
       "      <td>-1.16</td>\n",
       "      <td>2324.83</td>\n",
       "      <td>4</td>\n",
       "      <td>Middle</td>\n",
       "      <td>1</td>\n",
       "      <td>2 days</td>\n",
       "    </tr>\n",
       "    <tr>\n",
       "      <th>1892</th>\n",
       "      <td>45.8</td>\n",
       "      <td>4</td>\n",
       "      <td>0.0</td>\n",
       "      <td>0.0</td>\n",
       "      <td>0</td>\n",
       "      <td>0</td>\n",
       "      <td>0</td>\n",
       "      <td>0</td>\n",
       "      <td>0</td>\n",
       "      <td>0</td>\n",
       "      <td>...</td>\n",
       "      <td>30.7</td>\n",
       "      <td>2.3</td>\n",
       "      <td>20.4</td>\n",
       "      <td>0</td>\n",
       "      <td>-1.93</td>\n",
       "      <td>2203.83</td>\n",
       "      <td>4</td>\n",
       "      <td>Middle</td>\n",
       "      <td>0</td>\n",
       "      <td>2 days</td>\n",
       "    </tr>\n",
       "    <tr>\n",
       "      <th>1893</th>\n",
       "      <td>47.7</td>\n",
       "      <td>1</td>\n",
       "      <td>0.0</td>\n",
       "      <td>0.0</td>\n",
       "      <td>0</td>\n",
       "      <td>0</td>\n",
       "      <td>0</td>\n",
       "      <td>0</td>\n",
       "      <td>0</td>\n",
       "      <td>1</td>\n",
       "      <td>...</td>\n",
       "      <td>46.1</td>\n",
       "      <td>13.5</td>\n",
       "      <td>17.2</td>\n",
       "      <td>0</td>\n",
       "      <td>-0.75</td>\n",
       "      <td>1896.40</td>\n",
       "      <td>4</td>\n",
       "      <td>Down</td>\n",
       "      <td>0</td>\n",
       "      <td>3 days</td>\n",
       "    </tr>\n",
       "  </tbody>\n",
       "</table>\n",
       "<p>1791 rows × 50 columns</p>\n",
       "</div>"
      ],
      "text/plain": [
       "      Large Lymphocyte  Location of herniation   ODI  가족력  간질성폐질환  고혈압여부  \\\n",
       "0                 10.5                       2  44.0  0.0       0      0   \n",
       "1                 46.7                       3  21.0  1.0       0      0   \n",
       "2                 30.1                       3  13.0  0.0       0      0   \n",
       "3                 45.4                       3   0.0  0.0       0      0   \n",
       "4                 52.2                       1  31.0  0.0       1      0   \n",
       "...                ...                     ...   ...  ...     ...    ...   \n",
       "1889              23.5                       3  55.0  0.0       0      0   \n",
       "1890              31.4                       3   0.0  0.0       0      0   \n",
       "1891              24.9                       1   0.0  0.0       0      1   \n",
       "1892              45.8                       4   0.0  0.0       0      0   \n",
       "1893              47.7                       1   0.0  0.0       0      0   \n",
       "\n",
       "      과거수술횟수  당뇨여부  말초동맥질환여부  빈혈여부  ...    PI    PT  Seg Angle(raw)  \\\n",
       "0          0     0         0     0  ...  49.7  27.6             1.2   \n",
       "1          0     0         0     0  ...  36.3   4.5             7.3   \n",
       "2          0     0         0     0  ...  41.3  17.4            13.4   \n",
       "3          0     0         0     0  ...  45.7  16.6            20.1   \n",
       "4          1     0         0     0  ...  54.5  16.7             2.9   \n",
       "...      ...   ...       ...   ...  ...   ...   ...             ...   \n",
       "1889       0     0         0     0  ...  27.7   9.1            10.7   \n",
       "1890       0     0         0     0  ...  34.6  14.1            20.8   \n",
       "1891       0     0         0     0  ...  35.6  10.7             8.4   \n",
       "1892       0     0         0     0  ...  30.7   2.3            20.4   \n",
       "1893       0     0         0     1  ...  46.1  13.5            17.2   \n",
       "\n",
       "      Vaccum disc     골밀도   디스크단면적  디스크위치  척추이동척도  척추전방위증  최근입원기간  \n",
       "0               0  100.00  2155.30      4  Middle       0  1 days  \n",
       "1               0  100.00  2143.10      4  Middle       0  3 days  \n",
       "2               0  100.00  1868.70      4    Down       0  0 days  \n",
       "3               0  100.00  1851.20      5  Middle       0  3 days  \n",
       "4               0  100.00  2419.10      2      Up       0  1 days  \n",
       "...           ...     ...      ...    ...     ...     ...     ...  \n",
       "1889            0   -1.69  1777.50      4  Middle       0  4 days  \n",
       "1890            0   -2.06  1219.00      4  Middle       0  4 days  \n",
       "1891            0   -1.16  2324.83      4  Middle       1  2 days  \n",
       "1892            0   -1.93  2203.83      4  Middle       0  2 days  \n",
       "1893            0   -0.75  1896.40      4    Down       0  3 days  \n",
       "\n",
       "[1791 rows x 50 columns]"
      ]
     },
     "execution_count": 28,
     "metadata": {},
     "output_type": "execute_result"
    }
   ],
   "source": [
    "merge"
   ]
  },
  {
   "cell_type": "code",
   "execution_count": 29,
   "id": "bdff7b31",
   "metadata": {},
   "outputs": [],
   "source": [
    "merge['누적입원기간'] = merge['입원기간'] * 30"
   ]
  },
  {
   "cell_type": "code",
   "execution_count": 30,
   "id": "67ae5855",
   "metadata": {},
   "outputs": [
    {
     "name": "stdout",
     "output_type": "stream",
     "text": [
      "<class 'pandas.core.frame.DataFrame'>\n",
      "Int64Index: 1791 entries, 0 to 1893\n",
      "Data columns (total 51 columns):\n",
      " #   Column                  Non-Null Count  Dtype          \n",
      "---  ------                  --------------  -----          \n",
      " 0   Large Lymphocyte        1791 non-null   float64        \n",
      " 1   Location of herniation  1791 non-null   int64          \n",
      " 2   ODI                     1791 non-null   float64        \n",
      " 3   가족력                     1791 non-null   float64        \n",
      " 4   간질성폐질환                  1791 non-null   int64          \n",
      " 5   고혈압여부                   1791 non-null   int64          \n",
      " 6   과거수술횟수                  1791 non-null   int64          \n",
      " 7   당뇨여부                    1791 non-null   int64          \n",
      " 8   말초동맥질환여부                1791 non-null   int64          \n",
      " 9   빈혈여부                    1791 non-null   int64          \n",
      " 10  성별                      1791 non-null   int64          \n",
      " 11  스테로이드치료                 1791 non-null   int64          \n",
      " 12  신부전여부                   1791 non-null   int64          \n",
      " 13  신장                      1791 non-null   int64          \n",
      " 14  심혈관질환                   1791 non-null   int64          \n",
      " 15  암발병여부                   1791 non-null   int64          \n",
      " 16  연령                      1791 non-null   int64          \n",
      " 17  우울증여부                   1791 non-null   int64          \n",
      " 18  입원기간                    1791 non-null   int64          \n",
      " 19  종양진행여부                  1791 non-null   int64          \n",
      " 20  직업                      1791 non-null   object         \n",
      " 21  체중                      1791 non-null   float64        \n",
      " 22  혈전합병증여부                 1791 non-null   int64          \n",
      " 23  흡연여부                    1791 non-null   int64          \n",
      " 24  통증기간(월)                 1791 non-null   float64        \n",
      " 25  입원일자                    1791 non-null   datetime64[ns] \n",
      " 26  퇴원일자                    1791 non-null   datetime64[ns] \n",
      " 27  수술기법                    1791 non-null   object         \n",
      " 28  수술시간                    1791 non-null   float64        \n",
      " 29  수술실패여부                  1791 non-null   int64          \n",
      " 30  재발여부                    1791 non-null   int64          \n",
      " 31  헤모글로빈수치                 1791 non-null   float64        \n",
      " 32  환자통증정도                  1791 non-null   int64          \n",
      " 33  수술일자                    1791 non-null   object         \n",
      " 34  전방디스크높이(mm)             1791 non-null   float64        \n",
      " 35  후방디스크높이(mm)             1791 non-null   float64        \n",
      " 36  지방축적도                   1791 non-null   float64        \n",
      " 37  Instability             1791 non-null   int64          \n",
      " 38  MF + ES                 1791 non-null   float64        \n",
      " 39  Modic change            1791 non-null   int64          \n",
      " 40  PI                      1791 non-null   float64        \n",
      " 41  PT                      1791 non-null   float64        \n",
      " 42  Seg Angle(raw)          1790 non-null   float64        \n",
      " 43  Vaccum disc             1791 non-null   int64          \n",
      " 44  골밀도                     1791 non-null   float64        \n",
      " 45  디스크단면적                  1791 non-null   float64        \n",
      " 46  디스크위치                   1791 non-null   int64          \n",
      " 47  척추이동척도                  1791 non-null   object         \n",
      " 48  척추전방위증                  1791 non-null   int64          \n",
      " 49  최근입원기간                  1791 non-null   timedelta64[ns]\n",
      " 50  누적입원기간                  1791 non-null   int64          \n",
      "dtypes: datetime64[ns](2), float64(16), int64(28), object(4), timedelta64[ns](1)\n",
      "memory usage: 727.6+ KB\n"
     ]
    }
   ],
   "source": [
    "merge.info()"
   ]
  },
  {
   "cell_type": "code",
   "execution_count": 31,
   "id": "6bae9dda",
   "metadata": {},
   "outputs": [],
   "source": [
    "merge[\"최근입원기간\"] = merge[\"최근입원기간\"].astype(str)\n",
    "merge[\"최근입원기간\"] = merge[\"최근입원기간\"].str.replace(' days','')\n",
    "merge[\"최근입원기간\"] = merge[\"최근입원기간\"].astype(int)"
   ]
  },
  {
   "cell_type": "code",
   "execution_count": 32,
   "id": "cad36a22",
   "metadata": {},
   "outputs": [],
   "source": [
    "merge['입원기간이상치'] = (merge['최근입원기간'] <= merge['누적입원기간'])"
   ]
  },
  {
   "cell_type": "code",
   "execution_count": 33,
   "id": "ca1e12ee",
   "metadata": {},
   "outputs": [],
   "source": [
    "merge = merge[merge['입원기간이상치'] == True]"
   ]
  },
  {
   "cell_type": "code",
   "execution_count": 34,
   "id": "9ae68c0e",
   "metadata": {},
   "outputs": [],
   "source": [
    "merge.drop(['입원기간이상치'], axis=1, inplace=True)"
   ]
  },
  {
   "cell_type": "code",
   "execution_count": 35,
   "id": "068a5a89",
   "metadata": {},
   "outputs": [
    {
     "data": {
      "text/html": [
       "<div>\n",
       "<style scoped>\n",
       "    .dataframe tbody tr th:only-of-type {\n",
       "        vertical-align: middle;\n",
       "    }\n",
       "\n",
       "    .dataframe tbody tr th {\n",
       "        vertical-align: top;\n",
       "    }\n",
       "\n",
       "    .dataframe thead th {\n",
       "        text-align: right;\n",
       "    }\n",
       "</style>\n",
       "<table border=\"1\" class=\"dataframe\">\n",
       "  <thead>\n",
       "    <tr style=\"text-align: right;\">\n",
       "      <th></th>\n",
       "      <th>Large Lymphocyte</th>\n",
       "      <th>Location of herniation</th>\n",
       "      <th>ODI</th>\n",
       "      <th>가족력</th>\n",
       "      <th>간질성폐질환</th>\n",
       "      <th>고혈압여부</th>\n",
       "      <th>과거수술횟수</th>\n",
       "      <th>당뇨여부</th>\n",
       "      <th>말초동맥질환여부</th>\n",
       "      <th>빈혈여부</th>\n",
       "      <th>...</th>\n",
       "      <th>PT</th>\n",
       "      <th>Seg Angle(raw)</th>\n",
       "      <th>Vaccum disc</th>\n",
       "      <th>골밀도</th>\n",
       "      <th>디스크단면적</th>\n",
       "      <th>디스크위치</th>\n",
       "      <th>척추이동척도</th>\n",
       "      <th>척추전방위증</th>\n",
       "      <th>최근입원기간</th>\n",
       "      <th>누적입원기간</th>\n",
       "    </tr>\n",
       "  </thead>\n",
       "  <tbody>\n",
       "    <tr>\n",
       "      <th>0</th>\n",
       "      <td>10.5</td>\n",
       "      <td>2</td>\n",
       "      <td>44.0</td>\n",
       "      <td>0.0</td>\n",
       "      <td>0</td>\n",
       "      <td>0</td>\n",
       "      <td>0</td>\n",
       "      <td>0</td>\n",
       "      <td>0</td>\n",
       "      <td>0</td>\n",
       "      <td>...</td>\n",
       "      <td>27.6</td>\n",
       "      <td>1.2</td>\n",
       "      <td>0</td>\n",
       "      <td>100.00</td>\n",
       "      <td>2155.30</td>\n",
       "      <td>4</td>\n",
       "      <td>Middle</td>\n",
       "      <td>0</td>\n",
       "      <td>1</td>\n",
       "      <td>30</td>\n",
       "    </tr>\n",
       "    <tr>\n",
       "      <th>1</th>\n",
       "      <td>46.7</td>\n",
       "      <td>3</td>\n",
       "      <td>21.0</td>\n",
       "      <td>1.0</td>\n",
       "      <td>0</td>\n",
       "      <td>0</td>\n",
       "      <td>0</td>\n",
       "      <td>0</td>\n",
       "      <td>0</td>\n",
       "      <td>0</td>\n",
       "      <td>...</td>\n",
       "      <td>4.5</td>\n",
       "      <td>7.3</td>\n",
       "      <td>0</td>\n",
       "      <td>100.00</td>\n",
       "      <td>2143.10</td>\n",
       "      <td>4</td>\n",
       "      <td>Middle</td>\n",
       "      <td>0</td>\n",
       "      <td>3</td>\n",
       "      <td>30</td>\n",
       "    </tr>\n",
       "    <tr>\n",
       "      <th>2</th>\n",
       "      <td>30.1</td>\n",
       "      <td>3</td>\n",
       "      <td>13.0</td>\n",
       "      <td>0.0</td>\n",
       "      <td>0</td>\n",
       "      <td>0</td>\n",
       "      <td>0</td>\n",
       "      <td>0</td>\n",
       "      <td>0</td>\n",
       "      <td>0</td>\n",
       "      <td>...</td>\n",
       "      <td>17.4</td>\n",
       "      <td>13.4</td>\n",
       "      <td>0</td>\n",
       "      <td>100.00</td>\n",
       "      <td>1868.70</td>\n",
       "      <td>4</td>\n",
       "      <td>Down</td>\n",
       "      <td>0</td>\n",
       "      <td>0</td>\n",
       "      <td>30</td>\n",
       "    </tr>\n",
       "    <tr>\n",
       "      <th>3</th>\n",
       "      <td>45.4</td>\n",
       "      <td>3</td>\n",
       "      <td>0.0</td>\n",
       "      <td>0.0</td>\n",
       "      <td>0</td>\n",
       "      <td>0</td>\n",
       "      <td>0</td>\n",
       "      <td>0</td>\n",
       "      <td>0</td>\n",
       "      <td>0</td>\n",
       "      <td>...</td>\n",
       "      <td>16.6</td>\n",
       "      <td>20.1</td>\n",
       "      <td>0</td>\n",
       "      <td>100.00</td>\n",
       "      <td>1851.20</td>\n",
       "      <td>5</td>\n",
       "      <td>Middle</td>\n",
       "      <td>0</td>\n",
       "      <td>3</td>\n",
       "      <td>30</td>\n",
       "    </tr>\n",
       "    <tr>\n",
       "      <th>4</th>\n",
       "      <td>52.2</td>\n",
       "      <td>1</td>\n",
       "      <td>31.0</td>\n",
       "      <td>0.0</td>\n",
       "      <td>1</td>\n",
       "      <td>0</td>\n",
       "      <td>1</td>\n",
       "      <td>0</td>\n",
       "      <td>0</td>\n",
       "      <td>0</td>\n",
       "      <td>...</td>\n",
       "      <td>16.7</td>\n",
       "      <td>2.9</td>\n",
       "      <td>0</td>\n",
       "      <td>100.00</td>\n",
       "      <td>2419.10</td>\n",
       "      <td>2</td>\n",
       "      <td>Up</td>\n",
       "      <td>0</td>\n",
       "      <td>1</td>\n",
       "      <td>60</td>\n",
       "    </tr>\n",
       "    <tr>\n",
       "      <th>...</th>\n",
       "      <td>...</td>\n",
       "      <td>...</td>\n",
       "      <td>...</td>\n",
       "      <td>...</td>\n",
       "      <td>...</td>\n",
       "      <td>...</td>\n",
       "      <td>...</td>\n",
       "      <td>...</td>\n",
       "      <td>...</td>\n",
       "      <td>...</td>\n",
       "      <td>...</td>\n",
       "      <td>...</td>\n",
       "      <td>...</td>\n",
       "      <td>...</td>\n",
       "      <td>...</td>\n",
       "      <td>...</td>\n",
       "      <td>...</td>\n",
       "      <td>...</td>\n",
       "      <td>...</td>\n",
       "      <td>...</td>\n",
       "      <td>...</td>\n",
       "    </tr>\n",
       "    <tr>\n",
       "      <th>1889</th>\n",
       "      <td>23.5</td>\n",
       "      <td>3</td>\n",
       "      <td>55.0</td>\n",
       "      <td>0.0</td>\n",
       "      <td>0</td>\n",
       "      <td>0</td>\n",
       "      <td>0</td>\n",
       "      <td>0</td>\n",
       "      <td>0</td>\n",
       "      <td>0</td>\n",
       "      <td>...</td>\n",
       "      <td>9.1</td>\n",
       "      <td>10.7</td>\n",
       "      <td>0</td>\n",
       "      <td>-1.69</td>\n",
       "      <td>1777.50</td>\n",
       "      <td>4</td>\n",
       "      <td>Middle</td>\n",
       "      <td>0</td>\n",
       "      <td>4</td>\n",
       "      <td>30</td>\n",
       "    </tr>\n",
       "    <tr>\n",
       "      <th>1890</th>\n",
       "      <td>31.4</td>\n",
       "      <td>3</td>\n",
       "      <td>0.0</td>\n",
       "      <td>0.0</td>\n",
       "      <td>0</td>\n",
       "      <td>0</td>\n",
       "      <td>0</td>\n",
       "      <td>0</td>\n",
       "      <td>0</td>\n",
       "      <td>0</td>\n",
       "      <td>...</td>\n",
       "      <td>14.1</td>\n",
       "      <td>20.8</td>\n",
       "      <td>0</td>\n",
       "      <td>-2.06</td>\n",
       "      <td>1219.00</td>\n",
       "      <td>4</td>\n",
       "      <td>Middle</td>\n",
       "      <td>0</td>\n",
       "      <td>4</td>\n",
       "      <td>30</td>\n",
       "    </tr>\n",
       "    <tr>\n",
       "      <th>1891</th>\n",
       "      <td>24.9</td>\n",
       "      <td>1</td>\n",
       "      <td>0.0</td>\n",
       "      <td>0.0</td>\n",
       "      <td>0</td>\n",
       "      <td>1</td>\n",
       "      <td>0</td>\n",
       "      <td>0</td>\n",
       "      <td>0</td>\n",
       "      <td>0</td>\n",
       "      <td>...</td>\n",
       "      <td>10.7</td>\n",
       "      <td>8.4</td>\n",
       "      <td>0</td>\n",
       "      <td>-1.16</td>\n",
       "      <td>2324.83</td>\n",
       "      <td>4</td>\n",
       "      <td>Middle</td>\n",
       "      <td>1</td>\n",
       "      <td>2</td>\n",
       "      <td>30</td>\n",
       "    </tr>\n",
       "    <tr>\n",
       "      <th>1892</th>\n",
       "      <td>45.8</td>\n",
       "      <td>4</td>\n",
       "      <td>0.0</td>\n",
       "      <td>0.0</td>\n",
       "      <td>0</td>\n",
       "      <td>0</td>\n",
       "      <td>0</td>\n",
       "      <td>0</td>\n",
       "      <td>0</td>\n",
       "      <td>0</td>\n",
       "      <td>...</td>\n",
       "      <td>2.3</td>\n",
       "      <td>20.4</td>\n",
       "      <td>0</td>\n",
       "      <td>-1.93</td>\n",
       "      <td>2203.83</td>\n",
       "      <td>4</td>\n",
       "      <td>Middle</td>\n",
       "      <td>0</td>\n",
       "      <td>2</td>\n",
       "      <td>30</td>\n",
       "    </tr>\n",
       "    <tr>\n",
       "      <th>1893</th>\n",
       "      <td>47.7</td>\n",
       "      <td>1</td>\n",
       "      <td>0.0</td>\n",
       "      <td>0.0</td>\n",
       "      <td>0</td>\n",
       "      <td>0</td>\n",
       "      <td>0</td>\n",
       "      <td>0</td>\n",
       "      <td>0</td>\n",
       "      <td>1</td>\n",
       "      <td>...</td>\n",
       "      <td>13.5</td>\n",
       "      <td>17.2</td>\n",
       "      <td>0</td>\n",
       "      <td>-0.75</td>\n",
       "      <td>1896.40</td>\n",
       "      <td>4</td>\n",
       "      <td>Down</td>\n",
       "      <td>0</td>\n",
       "      <td>3</td>\n",
       "      <td>60</td>\n",
       "    </tr>\n",
       "  </tbody>\n",
       "</table>\n",
       "<p>1769 rows × 51 columns</p>\n",
       "</div>"
      ],
      "text/plain": [
       "      Large Lymphocyte  Location of herniation   ODI  가족력  간질성폐질환  고혈압여부  \\\n",
       "0                 10.5                       2  44.0  0.0       0      0   \n",
       "1                 46.7                       3  21.0  1.0       0      0   \n",
       "2                 30.1                       3  13.0  0.0       0      0   \n",
       "3                 45.4                       3   0.0  0.0       0      0   \n",
       "4                 52.2                       1  31.0  0.0       1      0   \n",
       "...                ...                     ...   ...  ...     ...    ...   \n",
       "1889              23.5                       3  55.0  0.0       0      0   \n",
       "1890              31.4                       3   0.0  0.0       0      0   \n",
       "1891              24.9                       1   0.0  0.0       0      1   \n",
       "1892              45.8                       4   0.0  0.0       0      0   \n",
       "1893              47.7                       1   0.0  0.0       0      0   \n",
       "\n",
       "      과거수술횟수  당뇨여부  말초동맥질환여부  빈혈여부  ...    PT  Seg Angle(raw)  Vaccum disc  \\\n",
       "0          0     0         0     0  ...  27.6             1.2            0   \n",
       "1          0     0         0     0  ...   4.5             7.3            0   \n",
       "2          0     0         0     0  ...  17.4            13.4            0   \n",
       "3          0     0         0     0  ...  16.6            20.1            0   \n",
       "4          1     0         0     0  ...  16.7             2.9            0   \n",
       "...      ...   ...       ...   ...  ...   ...             ...          ...   \n",
       "1889       0     0         0     0  ...   9.1            10.7            0   \n",
       "1890       0     0         0     0  ...  14.1            20.8            0   \n",
       "1891       0     0         0     0  ...  10.7             8.4            0   \n",
       "1892       0     0         0     0  ...   2.3            20.4            0   \n",
       "1893       0     0         0     1  ...  13.5            17.2            0   \n",
       "\n",
       "         골밀도   디스크단면적  디스크위치  척추이동척도  척추전방위증  최근입원기간  누적입원기간  \n",
       "0     100.00  2155.30      4  Middle       0       1      30  \n",
       "1     100.00  2143.10      4  Middle       0       3      30  \n",
       "2     100.00  1868.70      4    Down       0       0      30  \n",
       "3     100.00  1851.20      5  Middle       0       3      30  \n",
       "4     100.00  2419.10      2      Up       0       1      60  \n",
       "...      ...      ...    ...     ...     ...     ...     ...  \n",
       "1889   -1.69  1777.50      4  Middle       0       4      30  \n",
       "1890   -2.06  1219.00      4  Middle       0       4      30  \n",
       "1891   -1.16  2324.83      4  Middle       1       2      30  \n",
       "1892   -1.93  2203.83      4  Middle       0       2      30  \n",
       "1893   -0.75  1896.40      4    Down       0       3      60  \n",
       "\n",
       "[1769 rows x 51 columns]"
      ]
     },
     "execution_count": 35,
     "metadata": {},
     "output_type": "execute_result"
    }
   ],
   "source": [
    "merge"
   ]
  },
  {
   "cell_type": "markdown",
   "id": "595f182a",
   "metadata": {},
   "source": [
    "- 수술일자 이상치\n",
    "- 퇴원일자 이후 or 입원일자 이전에 수술한 경우 -> 없음"
   ]
  },
  {
   "cell_type": "markdown",
   "id": "7a8df334",
   "metadata": {},
   "source": [
    "- 우울증 여부 이상치 : 0,1이외에 값 -> 2 하나 있음 -> 제거"
   ]
  },
  {
   "cell_type": "code",
   "execution_count": 36,
   "id": "33942bb5",
   "metadata": {},
   "outputs": [
    {
     "data": {
      "text/plain": [
       "0    1727\n",
       "1      41\n",
       "2       1\n",
       "Name: 우울증여부, dtype: int64"
      ]
     },
     "execution_count": 36,
     "metadata": {},
     "output_type": "execute_result"
    }
   ],
   "source": [
    "merge['우울증여부'].value_counts()"
   ]
  },
  {
   "cell_type": "code",
   "execution_count": 37,
   "id": "33a8eabb",
   "metadata": {},
   "outputs": [],
   "source": [
    "merge = merge[merge[\"우울증여부\"] != 2]\n",
    "# 우울증여부의 이상치 제거(2)"
   ]
  },
  {
   "cell_type": "code",
   "execution_count": 38,
   "id": "be8e4f91",
   "metadata": {},
   "outputs": [
    {
     "data": {
      "text/plain": [
       "0    1727\n",
       "1      41\n",
       "Name: 우울증여부, dtype: int64"
      ]
     },
     "execution_count": 38,
     "metadata": {},
     "output_type": "execute_result"
    }
   ],
   "source": [
    "merge['우울증여부'].value_counts()"
   ]
  },
  {
   "cell_type": "markdown",
   "id": "2ad7598c",
   "metadata": {},
   "source": [
    "- Seg Angle 대기"
   ]
  },
  {
   "cell_type": "markdown",
   "id": "6fca7a5f",
   "metadata": {},
   "source": [
    "- 골밀도 대기 "
   ]
  },
  {
   "cell_type": "markdown",
   "id": "20224b67",
   "metadata": {},
   "source": [
    "- 디스크위치 : 7이상 제거 (근거 : 요추 수술이기에 L1~6만 유효)"
   ]
  },
  {
   "cell_type": "code",
   "execution_count": 39,
   "id": "6060699f",
   "metadata": {},
   "outputs": [],
   "source": [
    "merge = merge[merge['디스크위치'] < 7]"
   ]
  },
  {
   "cell_type": "markdown",
   "id": "aab7040b",
   "metadata": {},
   "source": [
    "- 디스크단면적 대기"
   ]
  },
  {
   "cell_type": "code",
   "execution_count": 40,
   "id": "b66b1742",
   "metadata": {},
   "outputs": [],
   "source": [
    "def age(var):\n",
    "    if var <19:\n",
    "        return '청소년'\n",
    "    elif var < 30:\n",
    "        return '청년'\n",
    "    elif var < 50:\n",
    "        return '중년'\n",
    "    elif var < 65:\n",
    "        return '장년'\n",
    "    else:\n",
    "        return '노년'"
   ]
  },
  {
   "cell_type": "code",
   "execution_count": 41,
   "id": "2bb40df4",
   "metadata": {},
   "outputs": [
    {
     "data": {
      "text/plain": [
       "중년     978\n",
       "장년     333\n",
       "청년     313\n",
       "노년      86\n",
       "청소년     35\n",
       "Name: 연령대, dtype: int64"
      ]
     },
     "execution_count": 41,
     "metadata": {},
     "output_type": "execute_result"
    }
   ],
   "source": [
    "merge['연령대']=merge['연령'].apply(age)\n",
    "merge['연령대'].value_counts()"
   ]
  },
  {
   "cell_type": "code",
   "execution_count": 42,
   "id": "b6508570",
   "metadata": {},
   "outputs": [
    {
     "data": {
      "text/plain": [
       "0       24.77\n",
       "1       23.66\n",
       "2       21.71\n",
       "3       23.66\n",
       "4       27.94\n",
       "        ...  \n",
       "1889    24.54\n",
       "1890    21.11\n",
       "1891    20.96\n",
       "1892    16.91\n",
       "1893    22.16\n",
       "Name: BMI, Length: 1745, dtype: float64"
      ]
     },
     "execution_count": 42,
     "metadata": {},
     "output_type": "execute_result"
    }
   ],
   "source": [
    "merge['BMI']=merge['체중']/(merge['신장']/100)**2\n",
    "merge['BMI']=merge['BMI'].round(2)\n",
    "merge['BMI'].astype('float')"
   ]
  },
  {
   "cell_type": "code",
   "execution_count": 43,
   "id": "a931b533",
   "metadata": {},
   "outputs": [
    {
     "data": {
      "text/plain": [
       "정상     1290\n",
       "과체중     366\n",
       "비만       57\n",
       "저체중      32\n",
       "Name: BMI, dtype: int64"
      ]
     },
     "execution_count": 43,
     "metadata": {},
     "output_type": "execute_result"
    }
   ],
   "source": [
    "def bmi_seg(var):\n",
    "    if var < 18.5:\n",
    "        return '저체중'\n",
    "    elif var < 25:\n",
    "        return '정상'\n",
    "    elif var < 30:\n",
    "        return '과체중'\n",
    "    else:\n",
    "        return '비만'\n",
    "\n",
    "merge['BMI'] = merge['BMI'].apply(bmi_seg)\n",
    "merge['BMI'].value_counts()"
   ]
  },
  {
   "cell_type": "code",
   "execution_count": 44,
   "id": "5fcd709c",
   "metadata": {},
   "outputs": [
    {
     "data": {
      "text/plain": [
       "1     1043\n",
       "2      460\n",
       "3      174\n",
       "4       34\n",
       "5        6\n",
       "8        5\n",
       "6        4\n",
       "0        3\n",
       "11       3\n",
       "7        3\n",
       "17       2\n",
       "9        1\n",
       "18       1\n",
       "44       1\n",
       "15       1\n",
       "13       1\n",
       "12       1\n",
       "51       1\n",
       "10       1\n",
       "Name: 입원기간, dtype: int64"
      ]
     },
     "execution_count": 44,
     "metadata": {},
     "output_type": "execute_result"
    }
   ],
   "source": [
    "merge['입원기간'].value_counts()"
   ]
  },
  {
   "cell_type": "code",
   "execution_count": 45,
   "id": "473244d7",
   "metadata": {},
   "outputs": [],
   "source": [
    "def month(var):\n",
    "    if var==1:\n",
    "        return '1개월'\n",
    "    elif var==2:\n",
    "        return '2개월'\n",
    "    elif var==3:\n",
    "        return '3개월'\n",
    "    elif var==4:\n",
    "        return '4개월 이상'"
   ]
  },
  {
   "cell_type": "code",
   "execution_count": 46,
   "id": "a1d9a337",
   "metadata": {},
   "outputs": [
    {
     "data": {
      "text/plain": [
       "1개월       1043\n",
       "2개월        460\n",
       "3개월        174\n",
       "4개월 이상      34\n",
       "Name: 입원기간, dtype: int64"
      ]
     },
     "execution_count": 46,
     "metadata": {},
     "output_type": "execute_result"
    }
   ],
   "source": [
    "merge['입원기간']=merge['입원기간'].apply(month)\n",
    "merge['입원기간'].value_counts()"
   ]
  },
  {
   "cell_type": "code",
   "execution_count": 47,
   "id": "c6d36fa4",
   "metadata": {},
   "outputs": [],
   "source": [
    "def season(var):\n",
    "    if var[5:7] in ['03', '04', '05']:\n",
    "        return '봄'\n",
    "    elif var[5:7] in ['06', '07', '08']:\n",
    "        return '여름'\n",
    "    elif var[5:7] in ['09', '10', '11']:\n",
    "        return '가을'\n",
    "    else:\n",
    "        return '겨울'"
   ]
  },
  {
   "cell_type": "code",
   "execution_count": 48,
   "id": "9a8421aa",
   "metadata": {},
   "outputs": [
    {
     "data": {
      "text/plain": [
       "겨울    588\n",
       "봄     429\n",
       "가을    395\n",
       "여름    333\n",
       "Name: 수술계절, dtype: int64"
      ]
     },
     "execution_count": 48,
     "metadata": {},
     "output_type": "execute_result"
    }
   ],
   "source": [
    "merge['수술계절']=merge['수술일자'].apply(season)    \n",
    "merge['수술계절'].value_counts()"
   ]
  },
  {
   "cell_type": "code",
   "execution_count": 49,
   "id": "c278f604",
   "metadata": {},
   "outputs": [],
   "source": [
    "def month(var):\n",
    "    return var[5:7]"
   ]
  },
  {
   "cell_type": "code",
   "execution_count": 50,
   "id": "771cb537",
   "metadata": {},
   "outputs": [],
   "source": [
    "merge['수술월']=merge['수술일자'].apply(month)"
   ]
  },
  {
   "cell_type": "markdown",
   "id": "d7188b57",
   "metadata": {},
   "source": [
    "# 분석"
   ]
  },
  {
   "cell_type": "markdown",
   "id": "19654276",
   "metadata": {},
   "source": [
    "## 시각화"
   ]
  },
  {
   "cell_type": "code",
   "execution_count": 51,
   "id": "4d2a3bb6",
   "metadata": {},
   "outputs": [
    {
     "data": {
      "image/png": "[encoded data removed]",
      "text/plain": [
       "<Figure size 800x600 with 1 Axes>"
      ]
     },
     "metadata": {},
     "output_type": "display_data"
    }
   ],
   "source": [
    "season_cnt=merge['수술계절'].value_counts()\n",
    "plt.figure(figsize=(8, 6))\n",
    "plt.pie(season_cnt, labels=season_cnt.index, autopct='%1.1f%%', startangle=140)\n",
    "plt.title(\"수술 계절 분포\")\n",
    "plt.axis('equal')\n",
    "plt.show()"
   ]
  },
  {
   "cell_type": "code",
   "execution_count": 52,
   "id": "509f2017",
   "metadata": {},
   "outputs": [
    {
     "data": {
      "text/plain": [
       "0         Monday\n",
       "1         Monday\n",
       "2         Monday\n",
       "3         Monday\n",
       "4         Monday\n",
       "          ...   \n",
       "1889    Saturday\n",
       "1890    Saturday\n",
       "1891    Saturday\n",
       "1892    Saturday\n",
       "1893    Saturday\n",
       "Name: 수술요일, Length: 1745, dtype: object"
      ]
     },
     "execution_count": 52,
     "metadata": {},
     "output_type": "execute_result"
    }
   ],
   "source": [
    "from datetime import datetime\n",
    "\n",
    "def days(var):\n",
    "    # 날짜 문자열을 파싱하여 datetime 객체 생성\n",
    "    date_string = var # 원하는 날짜를 입력하세요\n",
    "    date_obj = datetime.strptime(date_string, '%Y-%m-%d')\n",
    "    \n",
    "    # 요일을 문자열로 얻기\n",
    "    weekday_string = date_obj.strftime('%A')\n",
    "    return weekday_string\n",
    "merge['수술요일'] = merge['수술일자'].apply(days)\n",
    "merge['수술요일']"
   ]
  },
  {
   "cell_type": "code",
   "execution_count": 53,
   "id": "a2410504",
   "metadata": {},
   "outputs": [
    {
     "data": {
      "text/plain": [
       "0          Sunday\n",
       "1          Sunday\n",
       "2          Monday\n",
       "3          Sunday\n",
       "4          Monday\n",
       "          ...    \n",
       "1889      Tuesday\n",
       "1890      Tuesday\n",
       "1891     Thursday\n",
       "1892     Thursday\n",
       "1893    Wednesday\n",
       "Name: 입원요일, Length: 1745, dtype: object"
      ]
     },
     "execution_count": 53,
     "metadata": {},
     "output_type": "execute_result"
    }
   ],
   "source": [
    "merge['입원일자']=merge['입원일자'].astype('str')\n",
    "merge['입원요일'] = merge['입원일자'].apply(days)\n",
    "merge['입원요일']"
   ]
  },
  {
   "cell_type": "code",
   "execution_count": 54,
   "id": "7d71fd38",
   "metadata": {},
   "outputs": [
    {
     "data": {
      "text/plain": [
       "0          Monday\n",
       "1       Wednesday\n",
       "2          Monday\n",
       "3       Wednesday\n",
       "4         Tuesday\n",
       "          ...    \n",
       "1889     Saturday\n",
       "1890     Saturday\n",
       "1891     Saturday\n",
       "1892     Saturday\n",
       "1893     Saturday\n",
       "Name: 퇴원요일, Length: 1745, dtype: object"
      ]
     },
     "execution_count": 54,
     "metadata": {},
     "output_type": "execute_result"
    }
   ],
   "source": [
    "merge['퇴원일자']=merge['퇴원일자'].astype('str')\n",
    "merge['퇴원요일'] = merge['퇴원일자'].apply(days)\n",
    "merge['퇴원요일']"
   ]
  },
  {
   "cell_type": "code",
   "execution_count": 55,
   "id": "11cbe391",
   "metadata": {},
   "outputs": [
    {
     "data": {
      "image/png": "[encoded data removed]",
      "text/plain": [
       "<Figure size 640x480 with 1 Axes>"
      ]
     },
     "metadata": {},
     "output_type": "display_data"
    }
   ],
   "source": [
    "days_cnt=merge['수술요일'].value_counts()\n",
    "\n",
    "plt.bar(days_cnt.index,days_cnt)\n",
    "plt.title(\"수술 요일별 분포\")\n",
    "for i, count in enumerate(days_cnt):\n",
    "    plt.text(i, count + 0.5, str(count), ha='center')\n",
    "plt.yticks([])\n",
    "plt.show()"
   ]
  },
  {
   "cell_type": "code",
   "execution_count": 56,
   "id": "0fb4ac0e",
   "metadata": {},
   "outputs": [
    {
     "data": {
      "image/png": "[encoded data removed]",
      "text/plain": [
       "<Figure size 640x480 with 1 Axes>"
      ]
     },
     "metadata": {},
     "output_type": "display_data"
    }
   ],
   "source": [
    "month_cnt=merge['수술월'].value_counts()\n",
    "\n",
    "plt.bar(month_cnt.index,month_cnt)\n",
    "plt.title(\"수술 요일별 분포\")\n",
    "for i, count in enumerate(month_cnt):\n",
    "    plt.text(i, count + 0.5, str(count), ha='center')\n",
    "plt.yticks([])\n",
    "plt.show()"
   ]
  },
  {
   "cell_type": "code",
   "execution_count": 57,
   "id": "ee2bedcc",
   "metadata": {},
   "outputs": [
    {
     "data": {
      "text/plain": [
       "2021    734\n",
       "2022    176\n",
       "2013    155\n",
       "2014    118\n",
       "2018     95\n",
       "2011     94\n",
       "2016     92\n",
       "2019     76\n",
       "2017     69\n",
       "2015     60\n",
       "2012     57\n",
       "2020     19\n",
       "Name: 수술년도, dtype: int64"
      ]
     },
     "execution_count": 57,
     "metadata": {},
     "output_type": "execute_result"
    }
   ],
   "source": [
    "merge['수술년도']=merge['수술일자'].apply(lambda x: x[:4])\n",
    "\n",
    "merge['수술년도'].value_counts()"
   ]
  },
  {
   "cell_type": "code",
   "execution_count": 58,
   "id": "8581074a",
   "metadata": {},
   "outputs": [
    {
     "data": {
      "text/plain": [
       "Friday       107\n",
       "Tuesday      102\n",
       "Thursday      80\n",
       "Monday        61\n",
       "Wednesday     53\n",
       "Saturday       6\n",
       "Sunday         5\n",
       "Name: 수술요일, dtype: int64"
      ]
     },
     "execution_count": 58,
     "metadata": {},
     "output_type": "execute_result"
    }
   ],
   "source": [
    "merge[merge['직업']=='사무직']['수술요일'].value_counts()"
   ]
  },
  {
   "cell_type": "code",
   "execution_count": 59,
   "id": "f6b51cd4",
   "metadata": {},
   "outputs": [
    {
     "data": {
      "image/png": "[encoded data removed]",
      "text/plain": [
       "<Figure size 640x480 with 1 Axes>"
      ]
     },
     "metadata": {},
     "output_type": "display_data"
    }
   ],
   "source": [
    "# 연령대 별 수술요일 빈도 계산\n",
    "age_day_counts = merge.groupby(['연령대', '수술요일']).size().unstack()\n",
    "\n",
    "# 막대 그래프 그리기\n",
    "age_day_counts.plot(kind='bar', stacked=True)\n",
    "plt.xlabel('연령대')\n",
    "plt.ylabel('빈도')\n",
    "plt.title('연령대 별 수술요일 시각화')\n",
    "\n",
    "plt.show()"
   ]
  },
  {
   "cell_type": "code",
   "execution_count": 60,
   "id": "4317f5ba",
   "metadata": {},
   "outputs": [
    {
     "data": {
      "text/plain": [
       "사무직      414\n",
       "기타       383\n",
       "자영업      161\n",
       "무직       149\n",
       "학생       117\n",
       "주부       107\n",
       "군인        84\n",
       "공무원       47\n",
       "운수업       45\n",
       "노동직       42\n",
       "농업        38\n",
       "의료직       35\n",
       "사업가       35\n",
       "교사        26\n",
       "특수전문직     22\n",
       "건설업       16\n",
       "운동선수      14\n",
       "예술가       10\n",
       "Name: 직업, dtype: int64"
      ]
     },
     "execution_count": 60,
     "metadata": {},
     "output_type": "execute_result"
    }
   ],
   "source": [
    "merge['직업'].value_counts()"
   ]
  },
  {
   "cell_type": "code",
   "execution_count": 61,
   "id": "7776f304",
   "metadata": {},
   "outputs": [
    {
     "data": {
      "text/plain": [
       "2021    13\n",
       "2013    12\n",
       "2017     2\n",
       "2018     1\n",
       "Name: 수술년도, dtype: int64"
      ]
     },
     "execution_count": 61,
     "metadata": {},
     "output_type": "execute_result"
    }
   ],
   "source": [
    "merge[(merge['수술요일']=='Saturday') | (merge['수술요일']=='Sunday')]['수술년도'].value_counts()"
   ]
  },
  {
   "cell_type": "code",
   "execution_count": 62,
   "id": "0f947f45",
   "metadata": {},
   "outputs": [
    {
     "data": {
      "text/plain": [
       "Friday       57\n",
       "Tuesday      34\n",
       "Thursday     29\n",
       "Wednesday    18\n",
       "Monday       11\n",
       "Name: 수술요일, dtype: int64"
      ]
     },
     "execution_count": 62,
     "metadata": {},
     "output_type": "execute_result"
    }
   ],
   "source": [
    "merge[merge['직업']=='무직']['수술요일'].value_counts()"
   ]
  },
  {
   "cell_type": "code",
   "execution_count": 65,
   "id": "84747f1e",
   "metadata": {},
   "outputs": [
    {
     "data": {
      "image/png": "[encoded data removed]",
      "text/plain": [
       "<Figure size 640x480 with 1 Axes>"
      ]
     },
     "metadata": {},
     "output_type": "display_data"
    }
   ],
   "source": [
    "# 요일명 순서 정의\n",
    "weekday_order = ['Monday', 'Tuesday', 'Wednesday', 'Thursday', 'Friday', 'Saturday', 'Sunday']\n",
    "\n",
    "# 요일별 수술 수 계산\n",
    "weekday_counts = merge['수술요일'].value_counts()\n",
    "weekday_pro=weekday_counts/weekday_counts.sum()\n",
    "weekday_pro\n",
    "\n",
    "# 차트 그리기\n",
    "plt.plot(weekday_order, weekday_pro.loc[weekday_order])\n",
    "plt.title('요일별 수술 분포')\n",
    "\n",
    "# 수치 나타내기\n",
    "# for i, count in enumerate(weekday_counts.loc[weekday_order]):\n",
    "#     plt.text(i, count + 0.5, str(count), ha='center')\n",
    "\n",
    "plt.yticks([])  # y축 숨기기\n",
    "plt.show()"
   ]
  },
  {
   "cell_type": "code",
   "execution_count": null,
   "id": "bda2eda3",
   "metadata": {},
   "outputs": [
    {
     "data": {
      "image/png": "[encoded data removed]",
      "text/plain": [
       "<Figure size 640x480 with 1 Axes>"
      ]
     },
     "metadata": {},
     "output_type": "display_data"
    }
   ],
   "source": [
    "# 요일명 순서 정의\n",
    "weekday_order = ['Monday', 'Tuesday', 'Wednesday', 'Thursday', 'Friday', 'Saturday', 'Sunday']\n",
    "\n",
    "# 요일별 수술 수 계산\n",
    "weekday_counts = merge['입원요일'].value_counts()\n",
    "\n",
    "# 차트 그리기\n",
    "plt.plot(weekday_order, weekday_counts.loc[weekday_order])\n",
    "plt.title('요일별 입원 분포')\n",
    "\n",
    "# 수치 나타내기\n",
    "for i, count in enumerate(weekday_counts.loc[weekday_order]):\n",
    "    plt.text(i, count + 0.5, str(count), ha='center')\n",
    "\n",
    "plt.yticks([])  # y축 숨기기\n",
    "plt.show()"
   ]
  },
  {
   "cell_type": "code",
   "execution_count": null,
   "id": "42b68df8",
   "metadata": {},
   "outputs": [
    {
     "data": {
      "image/png": "[encoded data removed]",
      "text/plain": [
       "<Figure size 640x480 with 1 Axes>"
      ]
     },
     "metadata": {},
     "output_type": "display_data"
    }
   ],
   "source": [
    "# 요일명 순서 정의\n",
    "weekday_order = ['Monday', 'Tuesday', 'Wednesday', 'Thursday', 'Friday', 'Saturday', 'Sunday']\n",
    "\n",
    "# 요일별 수술 수 계산\n",
    "weekday_counts = merge['퇴원요일'].value_counts()\n",
    "\n",
    "# 차트 그리기\n",
    "plt.plot(weekday_order, weekday_counts.loc[weekday_order])\n",
    "plt.title('요일별 퇴원 분포')\n",
    "\n",
    "# 수치 나타내기\n",
    "for i, count in enumerate(weekday_counts.loc[weekday_order]):\n",
    "    plt.text(i, count + 0.5, str(count), ha='center')\n",
    "\n",
    "plt.yticks([])  # y축 숨기기\n",
    "plt.show()"
   ]
  },
  {
   "cell_type": "code",
   "execution_count": null,
   "id": "99b3a08a",
   "metadata": {},
   "outputs": [
    {
     "ename": "KeyError",
     "evalue": "'요일'",
     "output_type": "error",
     "traceback": [
      "\u001b[0;31m---------------------------------------------------------------------------\u001b[0m",
      "\u001b[0;31mKeyError\u001b[0m                                  Traceback (most recent call last)",
      "Cell \u001b[0;32mIn[59], line 2\u001b[0m\n\u001b[1;32m      1\u001b[0m \u001b[39m# 수술요일별 수술 실패율 계산\u001b[39;00m\n\u001b[0;32m----> 2\u001b[0m failure_rate \u001b[39m=\u001b[39m merge[merge[\u001b[39m'\u001b[39;49m\u001b[39m수술실패여부\u001b[39;49m\u001b[39m'\u001b[39;49m] \u001b[39m==\u001b[39;49m \u001b[39m0\u001b[39;49m]\u001b[39m.\u001b[39;49mgroupby(\u001b[39m'\u001b[39;49m\u001b[39m요일\u001b[39;49m\u001b[39m'\u001b[39;49m)\u001b[39m.\u001b[39msize() \u001b[39m/\u001b[39m merge\u001b[39m.\u001b[39mgroupby(\u001b[39m'\u001b[39m\u001b[39m요일\u001b[39m\u001b[39m'\u001b[39m)\u001b[39m.\u001b[39msize()\n\u001b[1;32m      4\u001b[0m \u001b[39m# 막대 그래프 그리기\u001b[39;00m\n\u001b[1;32m      5\u001b[0m failure_rate\u001b[39m.\u001b[39mplot(kind\u001b[39m=\u001b[39m\u001b[39m'\u001b[39m\u001b[39mbar\u001b[39m\u001b[39m'\u001b[39m)\n",
      "File \u001b[0;32m~/anaconda3/lib/python3.10/site-packages/pandas/core/frame.py:8402\u001b[0m, in \u001b[0;36mDataFrame.groupby\u001b[0;34m(self, by, axis, level, as_index, sort, group_keys, squeeze, observed, dropna)\u001b[0m\n\u001b[1;32m   8399\u001b[0m     \u001b[39mraise\u001b[39;00m \u001b[39mTypeError\u001b[39;00m(\u001b[39m\"\u001b[39m\u001b[39mYou have to supply one of \u001b[39m\u001b[39m'\u001b[39m\u001b[39mby\u001b[39m\u001b[39m'\u001b[39m\u001b[39m and \u001b[39m\u001b[39m'\u001b[39m\u001b[39mlevel\u001b[39m\u001b[39m'\u001b[39m\u001b[39m\"\u001b[39m)\n\u001b[1;32m   8400\u001b[0m axis \u001b[39m=\u001b[39m \u001b[39mself\u001b[39m\u001b[39m.\u001b[39m_get_axis_number(axis)\n\u001b[0;32m-> 8402\u001b[0m \u001b[39mreturn\u001b[39;00m DataFrameGroupBy(\n\u001b[1;32m   8403\u001b[0m     obj\u001b[39m=\u001b[39;49m\u001b[39mself\u001b[39;49m,\n\u001b[1;32m   8404\u001b[0m     keys\u001b[39m=\u001b[39;49mby,\n\u001b[1;32m   8405\u001b[0m     axis\u001b[39m=\u001b[39;49maxis,\n\u001b[1;32m   8406\u001b[0m     level\u001b[39m=\u001b[39;49mlevel,\n\u001b[1;32m   8407\u001b[0m     as_index\u001b[39m=\u001b[39;49mas_index,\n\u001b[1;32m   8408\u001b[0m     sort\u001b[39m=\u001b[39;49msort,\n\u001b[1;32m   8409\u001b[0m     group_keys\u001b[39m=\u001b[39;49mgroup_keys,\n\u001b[1;32m   8410\u001b[0m     squeeze\u001b[39m=\u001b[39;49msqueeze,\n\u001b[1;32m   8411\u001b[0m     observed\u001b[39m=\u001b[39;49mobserved,\n\u001b[1;32m   8412\u001b[0m     dropna\u001b[39m=\u001b[39;49mdropna,\n\u001b[1;32m   8413\u001b[0m )\n",
      "File \u001b[0;32m~/anaconda3/lib/python3.10/site-packages/pandas/core/groupby/groupby.py:965\u001b[0m, in \u001b[0;36mGroupBy.__init__\u001b[0;34m(self, obj, keys, axis, level, grouper, exclusions, selection, as_index, sort, group_keys, squeeze, observed, mutated, dropna)\u001b[0m\n\u001b[1;32m    962\u001b[0m \u001b[39mif\u001b[39;00m grouper \u001b[39mis\u001b[39;00m \u001b[39mNone\u001b[39;00m:\n\u001b[1;32m    963\u001b[0m     \u001b[39mfrom\u001b[39;00m \u001b[39mpandas\u001b[39;00m\u001b[39m.\u001b[39;00m\u001b[39mcore\u001b[39;00m\u001b[39m.\u001b[39;00m\u001b[39mgroupby\u001b[39;00m\u001b[39m.\u001b[39;00m\u001b[39mgrouper\u001b[39;00m \u001b[39mimport\u001b[39;00m get_grouper\n\u001b[0;32m--> 965\u001b[0m     grouper, exclusions, obj \u001b[39m=\u001b[39m get_grouper(\n\u001b[1;32m    966\u001b[0m         obj,\n\u001b[1;32m    967\u001b[0m         keys,\n\u001b[1;32m    968\u001b[0m         axis\u001b[39m=\u001b[39;49maxis,\n\u001b[1;32m    969\u001b[0m         level\u001b[39m=\u001b[39;49mlevel,\n\u001b[1;32m    970\u001b[0m         sort\u001b[39m=\u001b[39;49msort,\n\u001b[1;32m    971\u001b[0m         observed\u001b[39m=\u001b[39;49mobserved,\n\u001b[1;32m    972\u001b[0m         mutated\u001b[39m=\u001b[39;49m\u001b[39mself\u001b[39;49m\u001b[39m.\u001b[39;49mmutated,\n\u001b[1;32m    973\u001b[0m         dropna\u001b[39m=\u001b[39;49m\u001b[39mself\u001b[39;49m\u001b[39m.\u001b[39;49mdropna,\n\u001b[1;32m    974\u001b[0m     )\n\u001b[1;32m    976\u001b[0m \u001b[39mself\u001b[39m\u001b[39m.\u001b[39mobj \u001b[39m=\u001b[39m obj\n\u001b[1;32m    977\u001b[0m \u001b[39mself\u001b[39m\u001b[39m.\u001b[39maxis \u001b[39m=\u001b[39m obj\u001b[39m.\u001b[39m_get_axis_number(axis)\n",
      "File \u001b[0;32m~/anaconda3/lib/python3.10/site-packages/pandas/core/groupby/grouper.py:888\u001b[0m, in \u001b[0;36mget_grouper\u001b[0;34m(obj, key, axis, level, sort, observed, mutated, validate, dropna)\u001b[0m\n\u001b[1;32m    886\u001b[0m         in_axis, level, gpr \u001b[39m=\u001b[39m \u001b[39mFalse\u001b[39;00m, gpr, \u001b[39mNone\u001b[39;00m\n\u001b[1;32m    887\u001b[0m     \u001b[39melse\u001b[39;00m:\n\u001b[0;32m--> 888\u001b[0m         \u001b[39mraise\u001b[39;00m \u001b[39mKeyError\u001b[39;00m(gpr)\n\u001b[1;32m    889\u001b[0m \u001b[39melif\u001b[39;00m \u001b[39misinstance\u001b[39m(gpr, Grouper) \u001b[39mand\u001b[39;00m gpr\u001b[39m.\u001b[39mkey \u001b[39mis\u001b[39;00m \u001b[39mnot\u001b[39;00m \u001b[39mNone\u001b[39;00m:\n\u001b[1;32m    890\u001b[0m     \u001b[39m# Add key to exclusions\u001b[39;00m\n\u001b[1;32m    891\u001b[0m     exclusions\u001b[39m.\u001b[39madd(gpr\u001b[39m.\u001b[39mkey)\n",
      "\u001b[0;31mKeyError\u001b[0m: '요일'"
     ]
    }
   ],
   "source": [
    "# 수술요일별 수술 실패율 계산\n",
    "failure_rate = merge[merge['수술실패여부'] == 0].groupby('요일').size() / merge.groupby('요일').size()\n",
    "\n",
    "# 막대 그래프 그리기\n",
    "failure_rate.plot(kind='bar')\n",
    "plt.xlabel('수술요일')\n",
    "plt.ylabel('실패율')\n",
    "plt.title('수술 요일별 수술 실패율')\n",
    "\n",
    "plt.show()"
   ]
  },
  {
   "cell_type": "code",
   "execution_count": null,
   "id": "23447377",
   "metadata": {},
   "outputs": [
    {
     "name": "stdout",
     "output_type": "stream",
     "text": [
      "ANOVA F-검정 통계량: 2.5295273462306853\n",
      "p-value: 0.019279366623495317\n"
     ]
    }
   ],
   "source": [
    "from scipy.stats import f_oneway\n",
    "\n",
    "group1 = merge[merge['수술요일'] == 'Monday']['연령']\n",
    "group2 = merge[merge['수술요일'] == 'Tuesday']['연령']\n",
    "group3 = merge[merge['수술요일'] == 'Wednesday']['연령']\n",
    "group4 = merge[merge['수술요일'] == 'Thursday']['연령']\n",
    "group5 = merge[merge['수술요일'] == 'Friday']['연령']\n",
    "group6 = merge[merge['수술요일'] == 'Saturday']['연령']\n",
    "group7 = merge[merge['수술요일'] == 'Sunday']['연령']\n",
    "\n",
    "f_statistic, p_value = f_oneway(group1, group2, group3,group4, group5, group6,group7)\n",
    "\n",
    "print(\"ANOVA F-검정 통계량:\", f_statistic)\n",
    "print(\"p-value:\", p_value)"
   ]
  },
  {
   "cell_type": "code",
   "execution_count": null,
   "id": "282782b3",
   "metadata": {},
   "outputs": [
    {
     "data": {
      "image/png": "[encoded data removed]",
      "text/plain": [
       "<Figure size 640x480 with 1 Axes>"
      ]
     },
     "metadata": {},
     "output_type": "display_data"
    }
   ],
   "source": [
    "# 박스 플롯 그리기\n",
    "merge.boxplot(column='연령', by='수술요일')\n",
    "plt.xlabel('범주형 변수')\n",
    "plt.ylabel('연속형 변수')\n",
    "plt.title('범주형 데이터와 연속형 데이터의 박스 플롯')\n",
    "\n",
    "plt.show()"
   ]
  },
  {
   "cell_type": "code",
   "execution_count": null,
   "id": "7c843b5c",
   "metadata": {},
   "outputs": [
    {
     "name": "stdout",
     "output_type": "stream",
     "text": [
      "카이제곱 통계량: 105.67386946819856\n",
      "p-value: 0.381799918834958\n",
      "자유도: 102\n",
      "예상 빈도표:\n",
      " [[4.18108883e+00 1.22819484e+01 6.79426934e+00 2.19507163e+01\n",
      "  1.00084814e+02 1.09753582e+01 9.93008596e+00 3.89363897e+01\n",
      "  1.08185673e+02 9.14613181e+00 2.61318052e+00 3.65845272e+00\n",
      "  1.17593123e+01 9.14613181e+00 4.20722063e+01 2.79610315e+01\n",
      "  5.74899713e+00 3.05742120e+01]\n",
      " [2.45730659e+00 7.21833811e+00 3.99312321e+00 1.29008596e+01\n",
      "  5.88217765e+01 6.45042980e+00 5.83610315e+00 2.28836676e+01\n",
      "  6.35828080e+01 5.37535817e+00 1.53581662e+00 2.15014327e+00\n",
      "  6.91117479e+00 5.37535817e+00 2.47266476e+01 1.64332378e+01\n",
      "  3.37879656e+00 1.79690544e+01]\n",
      " [1.65042980e-01 4.84813754e-01 2.68194842e-01 8.66475645e-01\n",
      "  3.95071633e+00 4.33237822e-01 3.91977077e-01 1.53696275e+00\n",
      "  4.27048711e+00 3.61031519e-01 1.03151862e-01 1.44412607e-01\n",
      "  4.64183381e-01 3.61031519e-01 1.66074499e+00 1.10372493e+00\n",
      "  2.26934097e-01 1.20687679e+00]\n",
      " [9.16905444e-02 2.69340974e-01 1.48997135e-01 4.81375358e-01\n",
      "  2.19484241e+00 2.40687679e-01 2.17765043e-01 8.53868195e-01\n",
      "  2.37249284e+00 2.00573066e-01 5.73065903e-02 8.02292264e-02\n",
      "  2.57879656e-01 2.00573066e-01 9.22636103e-01 6.13180516e-01\n",
      "  1.26074499e-01 6.70487106e-01]\n",
      " [2.88825215e+00 8.48424069e+00 4.69340974e+00 1.51633238e+01\n",
      "  6.91375358e+01 7.58166189e+00 6.85959885e+00 2.68968481e+01\n",
      "  7.47335244e+01 6.31805158e+00 1.80515759e+00 2.52722063e+00\n",
      "  8.12320917e+00 6.31805158e+00 2.90630372e+01 1.93151862e+01\n",
      "  3.97134670e+00 2.11203438e+01]\n",
      " [3.79598854e+00 1.11507163e+01 6.16848138e+00 1.99289398e+01\n",
      "  9.08664756e+01 9.96446991e+00 9.01547278e+00 3.53501433e+01\n",
      "  9.82212034e+01 8.30372493e+00 2.37249284e+00 3.32148997e+00\n",
      "  1.06762178e+01 8.30372493e+00 3.81971347e+01 2.53856734e+01\n",
      "  5.21948424e+00 2.77581662e+01]\n",
      " [2.42063037e+00 7.11060172e+00 3.93352436e+00 1.27083095e+01\n",
      "  5.79438395e+01 6.35415473e+00 5.74899713e+00 2.25421203e+01\n",
      "  6.26338109e+01 5.29512894e+00 1.51289398e+00 2.11805158e+00\n",
      "  6.80802292e+00 5.29512894e+00 2.43575931e+01 1.61879656e+01\n",
      "  3.32836676e+00 1.77008596e+01]]\n"
     ]
    }
   ],
   "source": [
    "from scipy.stats import chi2_contingency\n",
    "\n",
    "# 교차표 생성\n",
    "cross_table = pd.crosstab(merge['수술요일'], merge['직업'])\n",
    "\n",
    "# 카이제곱 검정 수행\n",
    "chi2, p, dof, expected = chi2_contingency(cross_table)\n",
    "\n",
    "print(\"카이제곱 통계량:\", chi2)\n",
    "print(\"p-value:\", p)\n",
    "print(\"자유도:\", dof)\n",
    "print(\"예상 빈도표:\\n\", expected)"
   ]
  },
  {
   "cell_type": "code",
   "execution_count": null,
   "id": "76ed5be3",
   "metadata": {},
   "outputs": [
    {
     "data": {
      "image/png": "[encoded data removed]",
      "text/plain": [
       "<Figure size 640x480 with 1 Axes>"
      ]
     },
     "metadata": {},
     "output_type": "display_data"
    }
   ],
   "source": [
    "# 요일별 수술시간 평균 계산\n",
    "avg_surgery_time = merge.groupby('요일')['수술시간'].mean()\n",
    "\n",
    "# 막대 그래프 그리기\n",
    "avg_surgery_time.plot(kind='bar')\n",
    "plt.xlabel('수술요일')\n",
    "plt.ylabel('수술시간 평균')\n",
    "plt.title('요일별 수술시간 평균')\n",
    "\n",
    "plt.show()"
   ]
  },
  {
   "cell_type": "code",
   "execution_count": null,
   "id": "23d44775",
   "metadata": {},
   "outputs": [
    {
     "data": {
      "image/png": "[encoded data removed]",
      "text/plain": [
       "<Figure size 640x480 with 1 Axes>"
      ]
     },
     "metadata": {},
     "output_type": "display_data"
    }
   ],
   "source": [
    "# 연령대별 수술 요일 선호도 계산\n",
    "preference_counts = merge.groupby(['수술년도', '성별']).size().unstack()\n",
    "year_group_counts = merge['수술년도'].value_counts()\n",
    "\n",
    "# 비율로 변환\n",
    "preference_ratios = preference_counts.div(year_group_counts, axis=0)\n",
    "\n",
    "# 선 그래프 그리기\n",
    "preference_ratios.plot(kind='line', marker='o')\n",
    "\n",
    "plt.xticks(range(len(preference_ratios.index)), preference_ratios.index)  # X 축 레이블 설정\n",
    "plt.legend(title='수술년도', loc='upper left')\n",
    "\n",
    "plt.show()"
   ]
  },
  {
   "cell_type": "code",
   "execution_count": null,
   "id": "b2ced394",
   "metadata": {},
   "outputs": [
    {
     "data": {
      "image/png": "[encoded data removed]",
      "text/plain": [
       "<Figure size 640x480 with 1 Axes>"
      ]
     },
     "metadata": {},
     "output_type": "display_data"
    }
   ],
   "source": [
    "# 연령대별 수술 요일 선호도 계산\n",
    "preference_counts = merge.groupby(['수술년도', '연령대']).size().unstack()\n",
    "year_group_counts = merge['수술년도'].value_counts()\n",
    "\n",
    "\n",
    "# 선 그래프 그리기\n",
    "preference_counts.plot(kind='line', marker='o')\n",
    "\n",
    "plt.xticks(range(len(preference_counts.index)), preference_counts.index)  # X 축 레이블 설정\n",
    "plt.legend(title='수술년도', loc='upper left')\n",
    "\n",
    "plt.show()"
   ]
  },
  {
   "cell_type": "code",
   "execution_count": null,
   "id": "32f3b191",
   "metadata": {},
   "outputs": [
    {
     "data": {
      "image/png": "[encoded data removed]",
      "text/plain": [
       "<Figure size 640x480 with 1 Axes>"
      ]
     },
     "metadata": {},
     "output_type": "display_data"
    }
   ],
   "source": [
    "# 연령대별 수술 요일 선호도 계산\n",
    "preference_counts = merge.groupby(['수술년도', '성별']).size().unstack()\n",
    "year_group_counts = merge['수술년도'].value_counts()\n",
    "\n",
    "# 비율로 변환\n",
    "preference_ratios = preference_counts.div(year_group_counts, axis=0)\n",
    "\n",
    "# 선 그래프 그리기\n",
    "preference_ratios.plot(kind='line', marker='o')\n",
    "\n",
    "plt.xticks(range(len(preference_ratios.index)), preference_ratios.index)  # X 축 레이블 설정\n",
    "plt.legend(title='수술년도', loc='upper left')\n",
    "\n",
    "plt.show()"
   ]
  },
  {
   "cell_type": "code",
   "execution_count": null,
   "id": "2fc9b693",
   "metadata": {},
   "outputs": [
    {
     "data": {
      "text/plain": [
       "2       2011-05-09\n",
       "21      2021-01-11\n",
       "22      2021-01-18\n",
       "23      2021-01-18\n",
       "26      2021-01-18\n",
       "           ...    \n",
       "1881    2021-01-02\n",
       "1885    2021-01-02\n",
       "1888    2021-01-02\n",
       "1891    2021-01-02\n",
       "1893    2021-01-02\n",
       "Name: 수술일자, Length: 383, dtype: object"
      ]
     },
     "execution_count": 58,
     "metadata": {},
     "output_type": "execute_result"
    }
   ],
   "source": [
    "merge[merge['직업']=='기타']['수술일자']"
   ]
  },
  {
   "cell_type": "code",
   "execution_count": null,
   "id": "a9264c38",
   "metadata": {},
   "outputs": [
    {
     "data": {
      "image/png": "[encoded data removed]",
      "text/plain": [
       "<Figure size 640x480 with 1 Axes>"
      ]
     },
     "metadata": {},
     "output_type": "display_data"
    }
   ],
   "source": [
    "# 요일별 수술 수 계산\n",
    "year_counts = merge['수술년도'].value_counts()\n",
    "\n",
    "# 요일명 순서 정의\n",
    "year_order = [str(x)for x in range(2011,2023)]\n",
    "\n",
    "# 차트 그리기\n",
    "plt.plot(year_order, year_counts.loc[year_order])\n",
    "plt.title('년도별 수술 분포')\n",
    "\n",
    "# 수치 나타내기\n",
    "for i, count in enumerate(year_counts.loc[year_order]):\n",
    "    plt.text(i, count + 0.5, str(count), ha='center')\n",
    "\n",
    "plt.yticks([])  # y축 숨기기\n",
    "plt.show()"
   ]
  },
  {
   "cell_type": "code",
   "execution_count": null,
   "id": "c3f6cda9",
   "metadata": {},
   "outputs": [
    {
     "data": {
      "text/plain": [
       "2021    241\n",
       "2022     52\n",
       "2013     36\n",
       "2011     21\n",
       "2012     13\n",
       "2014      9\n",
       "2020      5\n",
       "2016      3\n",
       "2019      2\n",
       "2015      1\n",
       "Name: 수술년도, dtype: int64"
      ]
     },
     "execution_count": 60,
     "metadata": {},
     "output_type": "execute_result"
    }
   ],
   "source": [
    "merge[merge['직업']=='기타']['수술년도'].value_counts()\n",
    "# 20-21년 기타가 5->241 로 급증\n",
    "# 왜?\n",
    "# 21년도 부터 무직은 기타로 소속됨 + 2021년 전체적으로 급증"
   ]
  },
  {
   "cell_type": "code",
   "execution_count": null,
   "id": "7ea16d8a",
   "metadata": {},
   "outputs": [
    {
     "data": {
      "text/plain": [
       "2018    29\n",
       "2014    23\n",
       "2017    22\n",
       "2019    22\n",
       "2016    21\n",
       "2015    15\n",
       "2013    12\n",
       "2011     3\n",
       "2012     1\n",
       "2020     1\n",
       "Name: 수술년도, dtype: int64"
      ]
     },
     "execution_count": 61,
     "metadata": {},
     "output_type": "execute_result"
    }
   ],
   "source": [
    "merge['수술년도']=merge['수술년도'].astype('int64')\n",
    "merge[merge['직업']=='무직']['수술년도'].value_counts()\n",
    "# 21년도 부터 무직은 기타로 소속됨"
   ]
  },
  {
   "cell_type": "code",
   "execution_count": null,
   "id": "663be5dc",
   "metadata": {},
   "outputs": [
    {
     "data": {
      "text/plain": [
       "겨울    45\n",
       "봄     26\n",
       "가을    24\n",
       "여름    22\n",
       "Name: 수술계절, dtype: int64"
      ]
     },
     "execution_count": 62,
     "metadata": {},
     "output_type": "execute_result"
    }
   ],
   "source": [
    "merge[merge['직업']=='학생']['수술계절'].value_counts()"
   ]
  },
  {
   "cell_type": "code",
   "execution_count": null,
   "id": "c828aa83",
   "metadata": {},
   "outputs": [
    {
     "data": {
      "text/html": [
       "<div>\n",
       "<style scoped>\n",
       "    .dataframe tbody tr th:only-of-type {\n",
       "        vertical-align: middle;\n",
       "    }\n",
       "\n",
       "    .dataframe tbody tr th {\n",
       "        vertical-align: top;\n",
       "    }\n",
       "\n",
       "    .dataframe thead th {\n",
       "        text-align: right;\n",
       "    }\n",
       "</style>\n",
       "<table border=\"1\" class=\"dataframe\">\n",
       "  <thead>\n",
       "    <tr style=\"text-align: right;\">\n",
       "      <th></th>\n",
       "      <th>Large Lymphocyte</th>\n",
       "      <th>Location of herniation</th>\n",
       "      <th>ODI</th>\n",
       "      <th>가족력</th>\n",
       "      <th>간질성폐질환</th>\n",
       "      <th>고혈압여부</th>\n",
       "      <th>과거수술횟수</th>\n",
       "      <th>당뇨여부</th>\n",
       "      <th>말초동맥질환여부</th>\n",
       "      <th>빈혈여부</th>\n",
       "      <th>...</th>\n",
       "      <th>PT</th>\n",
       "      <th>Seg Angle(raw)</th>\n",
       "      <th>Vaccum disc</th>\n",
       "      <th>골밀도</th>\n",
       "      <th>디스크단면적</th>\n",
       "      <th>디스크위치</th>\n",
       "      <th>척추전방위증</th>\n",
       "      <th>최근입원기간</th>\n",
       "      <th>누적입원기간</th>\n",
       "      <th>수술년도</th>\n",
       "    </tr>\n",
       "  </thead>\n",
       "  <tbody>\n",
       "    <tr>\n",
       "      <th>count</th>\n",
       "      <td>1745.000000</td>\n",
       "      <td>1745.000000</td>\n",
       "      <td>1745.000000</td>\n",
       "      <td>1745.000000</td>\n",
       "      <td>1745.000000</td>\n",
       "      <td>1745.000000</td>\n",
       "      <td>1745.000000</td>\n",
       "      <td>1745.000000</td>\n",
       "      <td>1745.000000</td>\n",
       "      <td>1745.000000</td>\n",
       "      <td>...</td>\n",
       "      <td>1745.000000</td>\n",
       "      <td>1745.000000</td>\n",
       "      <td>1745.000000</td>\n",
       "      <td>1745.000000</td>\n",
       "      <td>1745.000000</td>\n",
       "      <td>1745.000000</td>\n",
       "      <td>1745.000000</td>\n",
       "      <td>1745.000000</td>\n",
       "      <td>1745.000000</td>\n",
       "      <td>1745.000000</td>\n",
       "    </tr>\n",
       "    <tr>\n",
       "      <th>mean</th>\n",
       "      <td>40.245501</td>\n",
       "      <td>2.315759</td>\n",
       "      <td>7.714613</td>\n",
       "      <td>0.050430</td>\n",
       "      <td>0.020630</td>\n",
       "      <td>0.134670</td>\n",
       "      <td>0.306590</td>\n",
       "      <td>0.065330</td>\n",
       "      <td>0.004011</td>\n",
       "      <td>0.024069</td>\n",
       "      <td>...</td>\n",
       "      <td>16.091748</td>\n",
       "      <td>15.528447</td>\n",
       "      <td>0.056160</td>\n",
       "      <td>43.862676</td>\n",
       "      <td>1989.730802</td>\n",
       "      <td>4.054441</td>\n",
       "      <td>0.032092</td>\n",
       "      <td>2.620630</td>\n",
       "      <td>51.146132</td>\n",
       "      <td>2018.194842</td>\n",
       "    </tr>\n",
       "    <tr>\n",
       "      <th>std</th>\n",
       "      <td>12.549036</td>\n",
       "      <td>0.998570</td>\n",
       "      <td>14.310368</td>\n",
       "      <td>0.218893</td>\n",
       "      <td>0.142184</td>\n",
       "      <td>0.341469</td>\n",
       "      <td>0.637591</td>\n",
       "      <td>0.247177</td>\n",
       "      <td>0.063227</td>\n",
       "      <td>0.153307</td>\n",
       "      <td>...</td>\n",
       "      <td>8.248577</td>\n",
       "      <td>10.385688</td>\n",
       "      <td>0.230297</td>\n",
       "      <td>50.485978</td>\n",
       "      <td>315.909314</td>\n",
       "      <td>0.508995</td>\n",
       "      <td>0.176294</td>\n",
       "      <td>2.848714</td>\n",
       "      <td>60.968426</td>\n",
       "      <td>3.624091</td>\n",
       "    </tr>\n",
       "    <tr>\n",
       "      <th>min</th>\n",
       "      <td>7.000000</td>\n",
       "      <td>1.000000</td>\n",
       "      <td>0.000000</td>\n",
       "      <td>0.000000</td>\n",
       "      <td>0.000000</td>\n",
       "      <td>0.000000</td>\n",
       "      <td>0.000000</td>\n",
       "      <td>0.000000</td>\n",
       "      <td>0.000000</td>\n",
       "      <td>0.000000</td>\n",
       "      <td>...</td>\n",
       "      <td>-6.300000</td>\n",
       "      <td>-27.400000</td>\n",
       "      <td>0.000000</td>\n",
       "      <td>-2.820000</td>\n",
       "      <td>1145.800000</td>\n",
       "      <td>1.000000</td>\n",
       "      <td>0.000000</td>\n",
       "      <td>0.000000</td>\n",
       "      <td>0.000000</td>\n",
       "      <td>2011.000000</td>\n",
       "    </tr>\n",
       "    <tr>\n",
       "      <th>25%</th>\n",
       "      <td>31.800000</td>\n",
       "      <td>1.000000</td>\n",
       "      <td>0.000000</td>\n",
       "      <td>0.000000</td>\n",
       "      <td>0.000000</td>\n",
       "      <td>0.000000</td>\n",
       "      <td>0.000000</td>\n",
       "      <td>0.000000</td>\n",
       "      <td>0.000000</td>\n",
       "      <td>0.000000</td>\n",
       "      <td>...</td>\n",
       "      <td>10.400000</td>\n",
       "      <td>9.200000</td>\n",
       "      <td>0.000000</td>\n",
       "      <td>-1.580000</td>\n",
       "      <td>1778.100000</td>\n",
       "      <td>4.000000</td>\n",
       "      <td>0.000000</td>\n",
       "      <td>1.000000</td>\n",
       "      <td>30.000000</td>\n",
       "      <td>2015.000000</td>\n",
       "    </tr>\n",
       "    <tr>\n",
       "      <th>50%</th>\n",
       "      <td>40.400000</td>\n",
       "      <td>2.000000</td>\n",
       "      <td>0.000000</td>\n",
       "      <td>0.000000</td>\n",
       "      <td>0.000000</td>\n",
       "      <td>0.000000</td>\n",
       "      <td>0.000000</td>\n",
       "      <td>0.000000</td>\n",
       "      <td>0.000000</td>\n",
       "      <td>0.000000</td>\n",
       "      <td>...</td>\n",
       "      <td>15.500000</td>\n",
       "      <td>14.600000</td>\n",
       "      <td>0.000000</td>\n",
       "      <td>-0.970000</td>\n",
       "      <td>1990.000000</td>\n",
       "      <td>4.000000</td>\n",
       "      <td>0.000000</td>\n",
       "      <td>2.000000</td>\n",
       "      <td>30.000000</td>\n",
       "      <td>2021.000000</td>\n",
       "    </tr>\n",
       "    <tr>\n",
       "      <th>75%</th>\n",
       "      <td>49.100000</td>\n",
       "      <td>3.000000</td>\n",
       "      <td>0.000000</td>\n",
       "      <td>0.000000</td>\n",
       "      <td>0.000000</td>\n",
       "      <td>0.000000</td>\n",
       "      <td>0.000000</td>\n",
       "      <td>0.000000</td>\n",
       "      <td>0.000000</td>\n",
       "      <td>0.000000</td>\n",
       "      <td>...</td>\n",
       "      <td>21.300000</td>\n",
       "      <td>21.100000</td>\n",
       "      <td>0.000000</td>\n",
       "      <td>100.000000</td>\n",
       "      <td>2178.500000</td>\n",
       "      <td>4.000000</td>\n",
       "      <td>0.000000</td>\n",
       "      <td>3.000000</td>\n",
       "      <td>60.000000</td>\n",
       "      <td>2021.000000</td>\n",
       "    </tr>\n",
       "    <tr>\n",
       "      <th>max</th>\n",
       "      <td>89.000000</td>\n",
       "      <td>5.000000</td>\n",
       "      <td>68.000000</td>\n",
       "      <td>1.000000</td>\n",
       "      <td>1.000000</td>\n",
       "      <td>1.000000</td>\n",
       "      <td>3.000000</td>\n",
       "      <td>1.000000</td>\n",
       "      <td>1.000000</td>\n",
       "      <td>1.000000</td>\n",
       "      <td>...</td>\n",
       "      <td>48.700000</td>\n",
       "      <td>165.000000</td>\n",
       "      <td>1.000000</td>\n",
       "      <td>100.000000</td>\n",
       "      <td>3214.200000</td>\n",
       "      <td>5.000000</td>\n",
       "      <td>1.000000</td>\n",
       "      <td>50.000000</td>\n",
       "      <td>1530.000000</td>\n",
       "      <td>2022.000000</td>\n",
       "    </tr>\n",
       "  </tbody>\n",
       "</table>\n",
       "<p>8 rows × 45 columns</p>\n",
       "</div>"
      ],
      "text/plain": [
       "       Large Lymphocyte  Location of herniation          ODI          가족력  \\\n",
       "count       1745.000000             1745.000000  1745.000000  1745.000000   \n",
       "mean          40.245501                2.315759     7.714613     0.050430   \n",
       "std           12.549036                0.998570    14.310368     0.218893   \n",
       "min            7.000000                1.000000     0.000000     0.000000   \n",
       "25%           31.800000                1.000000     0.000000     0.000000   \n",
       "50%           40.400000                2.000000     0.000000     0.000000   \n",
       "75%           49.100000                3.000000     0.000000     0.000000   \n",
       "max           89.000000                5.000000    68.000000     1.000000   \n",
       "\n",
       "            간질성폐질환        고혈압여부       과거수술횟수         당뇨여부     말초동맥질환여부  \\\n",
       "count  1745.000000  1745.000000  1745.000000  1745.000000  1745.000000   \n",
       "mean      0.020630     0.134670     0.306590     0.065330     0.004011   \n",
       "std       0.142184     0.341469     0.637591     0.247177     0.063227   \n",
       "min       0.000000     0.000000     0.000000     0.000000     0.000000   \n",
       "25%       0.000000     0.000000     0.000000     0.000000     0.000000   \n",
       "50%       0.000000     0.000000     0.000000     0.000000     0.000000   \n",
       "75%       0.000000     0.000000     0.000000     0.000000     0.000000   \n",
       "max       1.000000     1.000000     3.000000     1.000000     1.000000   \n",
       "\n",
       "              빈혈여부  ...           PT  Seg Angle(raw)  Vaccum disc  \\\n",
       "count  1745.000000  ...  1745.000000     1745.000000  1745.000000   \n",
       "mean      0.024069  ...    16.091748       15.528447     0.056160   \n",
       "std       0.153307  ...     8.248577       10.385688     0.230297   \n",
       "min       0.000000  ...    -6.300000      -27.400000     0.000000   \n",
       "25%       0.000000  ...    10.400000        9.200000     0.000000   \n",
       "50%       0.000000  ...    15.500000       14.600000     0.000000   \n",
       "75%       0.000000  ...    21.300000       21.100000     0.000000   \n",
       "max       1.000000  ...    48.700000      165.000000     1.000000   \n",
       "\n",
       "               골밀도       디스크단면적        디스크위치       척추전방위증       최근입원기간  \\\n",
       "count  1745.000000  1745.000000  1745.000000  1745.000000  1745.000000   \n",
       "mean     43.862676  1989.730802     4.054441     0.032092     2.620630   \n",
       "std      50.485978   315.909314     0.508995     0.176294     2.848714   \n",
       "min      -2.820000  1145.800000     1.000000     0.000000     0.000000   \n",
       "25%      -1.580000  1778.100000     4.000000     0.000000     1.000000   \n",
       "50%      -0.970000  1990.000000     4.000000     0.000000     2.000000   \n",
       "75%     100.000000  2178.500000     4.000000     0.000000     3.000000   \n",
       "max     100.000000  3214.200000     5.000000     1.000000    50.000000   \n",
       "\n",
       "            누적입원기간         수술년도  \n",
       "count  1745.000000  1745.000000  \n",
       "mean     51.146132  2018.194842  \n",
       "std      60.968426     3.624091  \n",
       "min       0.000000  2011.000000  \n",
       "25%      30.000000  2015.000000  \n",
       "50%      30.000000  2021.000000  \n",
       "75%      60.000000  2021.000000  \n",
       "max    1530.000000  2022.000000  \n",
       "\n",
       "[8 rows x 45 columns]"
      ]
     },
     "execution_count": 63,
     "metadata": {},
     "output_type": "execute_result"
    }
   ],
   "source": [
    "merge.describe()"
   ]
  },
  {
   "cell_type": "code",
   "execution_count": null,
   "id": "3eded0dd",
   "metadata": {},
   "outputs": [
    {
     "data": {
      "text/plain": [
       "2     297\n",
       "1     270\n",
       "3      68\n",
       "4      58\n",
       "0      40\n",
       "5      24\n",
       "7      14\n",
       "8      12\n",
       "6      10\n",
       "11      8\n",
       "9       7\n",
       "12      5\n",
       "10      5\n",
       "22      2\n",
       "13      2\n",
       "14      2\n",
       "15      2\n",
       "50      2\n",
       "16      2\n",
       "45      1\n",
       "18      1\n",
       "17      1\n",
       "29      1\n",
       "19      1\n",
       "Name: 최근입원기간, dtype: int64"
      ]
     },
     "execution_count": 64,
     "metadata": {},
     "output_type": "execute_result"
    }
   ],
   "source": [
    "merge[merge['수술년도']<2021]['최근입원기간'].value_counts()"
   ]
  },
  {
   "cell_type": "code",
   "execution_count": null,
   "id": "a8bb3166",
   "metadata": {},
   "outputs": [
    {
     "data": {
      "text/html": [
       "<div>\n",
       "<style scoped>\n",
       "    .dataframe tbody tr th:only-of-type {\n",
       "        vertical-align: middle;\n",
       "    }\n",
       "\n",
       "    .dataframe tbody tr th {\n",
       "        vertical-align: top;\n",
       "    }\n",
       "\n",
       "    .dataframe thead th {\n",
       "        text-align: right;\n",
       "    }\n",
       "</style>\n",
       "<table border=\"1\" class=\"dataframe\">\n",
       "  <thead>\n",
       "    <tr style=\"text-align: right;\">\n",
       "      <th></th>\n",
       "      <th>Large Lymphocyte</th>\n",
       "      <th>Location of herniation</th>\n",
       "      <th>ODI</th>\n",
       "      <th>가족력</th>\n",
       "      <th>간질성폐질환</th>\n",
       "      <th>고혈압여부</th>\n",
       "      <th>과거수술횟수</th>\n",
       "      <th>당뇨여부</th>\n",
       "      <th>말초동맥질환여부</th>\n",
       "      <th>빈혈여부</th>\n",
       "      <th>...</th>\n",
       "      <th>디스크위치</th>\n",
       "      <th>척추이동척도</th>\n",
       "      <th>척추전방위증</th>\n",
       "      <th>최근입원기간</th>\n",
       "      <th>누적입원기간</th>\n",
       "      <th>연령대</th>\n",
       "      <th>BMI</th>\n",
       "      <th>수술계절</th>\n",
       "      <th>요일</th>\n",
       "      <th>수술년도</th>\n",
       "    </tr>\n",
       "  </thead>\n",
       "  <tbody>\n",
       "    <tr>\n",
       "      <th>18</th>\n",
       "      <td>31.5</td>\n",
       "      <td>4</td>\n",
       "      <td>14.0</td>\n",
       "      <td>0.0</td>\n",
       "      <td>0</td>\n",
       "      <td>0</td>\n",
       "      <td>0</td>\n",
       "      <td>0</td>\n",
       "      <td>0</td>\n",
       "      <td>0</td>\n",
       "      <td>...</td>\n",
       "      <td>4</td>\n",
       "      <td>Middle</td>\n",
       "      <td>0</td>\n",
       "      <td>3</td>\n",
       "      <td>60</td>\n",
       "      <td>장년</td>\n",
       "      <td>정상</td>\n",
       "      <td>겨울</td>\n",
       "      <td>Monday</td>\n",
       "      <td>2021</td>\n",
       "    </tr>\n",
       "    <tr>\n",
       "      <th>19</th>\n",
       "      <td>31.8</td>\n",
       "      <td>2</td>\n",
       "      <td>0.0</td>\n",
       "      <td>0.0</td>\n",
       "      <td>0</td>\n",
       "      <td>0</td>\n",
       "      <td>1</td>\n",
       "      <td>0</td>\n",
       "      <td>0</td>\n",
       "      <td>0</td>\n",
       "      <td>...</td>\n",
       "      <td>4</td>\n",
       "      <td>Down</td>\n",
       "      <td>0</td>\n",
       "      <td>1</td>\n",
       "      <td>30</td>\n",
       "      <td>중년</td>\n",
       "      <td>저체중</td>\n",
       "      <td>겨울</td>\n",
       "      <td>Monday</td>\n",
       "      <td>2021</td>\n",
       "    </tr>\n",
       "    <tr>\n",
       "      <th>20</th>\n",
       "      <td>44.3</td>\n",
       "      <td>2</td>\n",
       "      <td>0.0</td>\n",
       "      <td>0.0</td>\n",
       "      <td>0</td>\n",
       "      <td>0</td>\n",
       "      <td>0</td>\n",
       "      <td>0</td>\n",
       "      <td>0</td>\n",
       "      <td>0</td>\n",
       "      <td>...</td>\n",
       "      <td>4</td>\n",
       "      <td>Middle</td>\n",
       "      <td>0</td>\n",
       "      <td>2</td>\n",
       "      <td>60</td>\n",
       "      <td>청년</td>\n",
       "      <td>정상</td>\n",
       "      <td>겨울</td>\n",
       "      <td>Monday</td>\n",
       "      <td>2021</td>\n",
       "    </tr>\n",
       "    <tr>\n",
       "      <th>22</th>\n",
       "      <td>34.7</td>\n",
       "      <td>2</td>\n",
       "      <td>0.0</td>\n",
       "      <td>0.0</td>\n",
       "      <td>0</td>\n",
       "      <td>0</td>\n",
       "      <td>0</td>\n",
       "      <td>0</td>\n",
       "      <td>0</td>\n",
       "      <td>0</td>\n",
       "      <td>...</td>\n",
       "      <td>4</td>\n",
       "      <td>Middle</td>\n",
       "      <td>0</td>\n",
       "      <td>3</td>\n",
       "      <td>30</td>\n",
       "      <td>노년</td>\n",
       "      <td>정상</td>\n",
       "      <td>겨울</td>\n",
       "      <td>Monday</td>\n",
       "      <td>2021</td>\n",
       "    </tr>\n",
       "    <tr>\n",
       "      <th>24</th>\n",
       "      <td>38.9</td>\n",
       "      <td>4</td>\n",
       "      <td>0.0</td>\n",
       "      <td>0.0</td>\n",
       "      <td>0</td>\n",
       "      <td>0</td>\n",
       "      <td>2</td>\n",
       "      <td>0</td>\n",
       "      <td>0</td>\n",
       "      <td>0</td>\n",
       "      <td>...</td>\n",
       "      <td>4</td>\n",
       "      <td>Middle</td>\n",
       "      <td>1</td>\n",
       "      <td>3</td>\n",
       "      <td>30</td>\n",
       "      <td>중년</td>\n",
       "      <td>정상</td>\n",
       "      <td>겨울</td>\n",
       "      <td>Monday</td>\n",
       "      <td>2021</td>\n",
       "    </tr>\n",
       "    <tr>\n",
       "      <th>...</th>\n",
       "      <td>...</td>\n",
       "      <td>...</td>\n",
       "      <td>...</td>\n",
       "      <td>...</td>\n",
       "      <td>...</td>\n",
       "      <td>...</td>\n",
       "      <td>...</td>\n",
       "      <td>...</td>\n",
       "      <td>...</td>\n",
       "      <td>...</td>\n",
       "      <td>...</td>\n",
       "      <td>...</td>\n",
       "      <td>...</td>\n",
       "      <td>...</td>\n",
       "      <td>...</td>\n",
       "      <td>...</td>\n",
       "      <td>...</td>\n",
       "      <td>...</td>\n",
       "      <td>...</td>\n",
       "      <td>...</td>\n",
       "      <td>...</td>\n",
       "    </tr>\n",
       "    <tr>\n",
       "      <th>1887</th>\n",
       "      <td>36.1</td>\n",
       "      <td>3</td>\n",
       "      <td>42.0</td>\n",
       "      <td>0.0</td>\n",
       "      <td>0</td>\n",
       "      <td>0</td>\n",
       "      <td>1</td>\n",
       "      <td>0</td>\n",
       "      <td>0</td>\n",
       "      <td>0</td>\n",
       "      <td>...</td>\n",
       "      <td>4</td>\n",
       "      <td>Middle</td>\n",
       "      <td>0</td>\n",
       "      <td>3</td>\n",
       "      <td>30</td>\n",
       "      <td>중년</td>\n",
       "      <td>정상</td>\n",
       "      <td>겨울</td>\n",
       "      <td>Saturday</td>\n",
       "      <td>2021</td>\n",
       "    </tr>\n",
       "    <tr>\n",
       "      <th>1888</th>\n",
       "      <td>46.8</td>\n",
       "      <td>1</td>\n",
       "      <td>29.0</td>\n",
       "      <td>0.0</td>\n",
       "      <td>0</td>\n",
       "      <td>1</td>\n",
       "      <td>0</td>\n",
       "      <td>0</td>\n",
       "      <td>0</td>\n",
       "      <td>0</td>\n",
       "      <td>...</td>\n",
       "      <td>4</td>\n",
       "      <td>Middle</td>\n",
       "      <td>0</td>\n",
       "      <td>3</td>\n",
       "      <td>60</td>\n",
       "      <td>중년</td>\n",
       "      <td>정상</td>\n",
       "      <td>겨울</td>\n",
       "      <td>Saturday</td>\n",
       "      <td>2021</td>\n",
       "    </tr>\n",
       "    <tr>\n",
       "      <th>1891</th>\n",
       "      <td>24.9</td>\n",
       "      <td>1</td>\n",
       "      <td>0.0</td>\n",
       "      <td>0.0</td>\n",
       "      <td>0</td>\n",
       "      <td>1</td>\n",
       "      <td>0</td>\n",
       "      <td>0</td>\n",
       "      <td>0</td>\n",
       "      <td>0</td>\n",
       "      <td>...</td>\n",
       "      <td>4</td>\n",
       "      <td>Middle</td>\n",
       "      <td>1</td>\n",
       "      <td>2</td>\n",
       "      <td>30</td>\n",
       "      <td>중년</td>\n",
       "      <td>정상</td>\n",
       "      <td>겨울</td>\n",
       "      <td>Saturday</td>\n",
       "      <td>2021</td>\n",
       "    </tr>\n",
       "    <tr>\n",
       "      <th>1892</th>\n",
       "      <td>45.8</td>\n",
       "      <td>4</td>\n",
       "      <td>0.0</td>\n",
       "      <td>0.0</td>\n",
       "      <td>0</td>\n",
       "      <td>0</td>\n",
       "      <td>0</td>\n",
       "      <td>0</td>\n",
       "      <td>0</td>\n",
       "      <td>0</td>\n",
       "      <td>...</td>\n",
       "      <td>4</td>\n",
       "      <td>Middle</td>\n",
       "      <td>0</td>\n",
       "      <td>2</td>\n",
       "      <td>30</td>\n",
       "      <td>중년</td>\n",
       "      <td>저체중</td>\n",
       "      <td>겨울</td>\n",
       "      <td>Saturday</td>\n",
       "      <td>2021</td>\n",
       "    </tr>\n",
       "    <tr>\n",
       "      <th>1893</th>\n",
       "      <td>47.7</td>\n",
       "      <td>1</td>\n",
       "      <td>0.0</td>\n",
       "      <td>0.0</td>\n",
       "      <td>0</td>\n",
       "      <td>0</td>\n",
       "      <td>0</td>\n",
       "      <td>0</td>\n",
       "      <td>0</td>\n",
       "      <td>1</td>\n",
       "      <td>...</td>\n",
       "      <td>4</td>\n",
       "      <td>Down</td>\n",
       "      <td>0</td>\n",
       "      <td>3</td>\n",
       "      <td>60</td>\n",
       "      <td>중년</td>\n",
       "      <td>정상</td>\n",
       "      <td>겨울</td>\n",
       "      <td>Saturday</td>\n",
       "      <td>2021</td>\n",
       "    </tr>\n",
       "  </tbody>\n",
       "</table>\n",
       "<p>759 rows × 56 columns</p>\n",
       "</div>"
      ],
      "text/plain": [
       "      Large Lymphocyte  Location of herniation   ODI  가족력  간질성폐질환  고혈압여부  \\\n",
       "18                31.5                       4  14.0  0.0       0      0   \n",
       "19                31.8                       2   0.0  0.0       0      0   \n",
       "20                44.3                       2   0.0  0.0       0      0   \n",
       "22                34.7                       2   0.0  0.0       0      0   \n",
       "24                38.9                       4   0.0  0.0       0      0   \n",
       "...                ...                     ...   ...  ...     ...    ...   \n",
       "1887              36.1                       3  42.0  0.0       0      0   \n",
       "1888              46.8                       1  29.0  0.0       0      1   \n",
       "1891              24.9                       1   0.0  0.0       0      1   \n",
       "1892              45.8                       4   0.0  0.0       0      0   \n",
       "1893              47.7                       1   0.0  0.0       0      0   \n",
       "\n",
       "      과거수술횟수  당뇨여부  말초동맥질환여부  빈혈여부  ...  디스크위치  척추이동척도  척추전방위증  최근입원기간  \\\n",
       "18         0     0         0     0  ...      4  Middle       0       3   \n",
       "19         1     0         0     0  ...      4    Down       0       1   \n",
       "20         0     0         0     0  ...      4  Middle       0       2   \n",
       "22         0     0         0     0  ...      4  Middle       0       3   \n",
       "24         2     0         0     0  ...      4  Middle       1       3   \n",
       "...      ...   ...       ...   ...  ...    ...     ...     ...     ...   \n",
       "1887       1     0         0     0  ...      4  Middle       0       3   \n",
       "1888       0     0         0     0  ...      4  Middle       0       3   \n",
       "1891       0     0         0     0  ...      4  Middle       1       2   \n",
       "1892       0     0         0     0  ...      4  Middle       0       2   \n",
       "1893       0     0         0     1  ...      4    Down       0       3   \n",
       "\n",
       "      누적입원기간  연령대  BMI  수술계절        요일  수술년도  \n",
       "18        60   장년   정상    겨울    Monday  2021  \n",
       "19        30   중년  저체중    겨울    Monday  2021  \n",
       "20        60   청년   정상    겨울    Monday  2021  \n",
       "22        30   노년   정상    겨울    Monday  2021  \n",
       "24        30   중년   정상    겨울    Monday  2021  \n",
       "...      ...  ...  ...   ...       ...   ...  \n",
       "1887      30   중년   정상    겨울  Saturday  2021  \n",
       "1888      60   중년   정상    겨울  Saturday  2021  \n",
       "1891      30   중년   정상    겨울  Saturday  2021  \n",
       "1892      30   중년  저체중    겨울  Saturday  2021  \n",
       "1893      60   중년   정상    겨울  Saturday  2021  \n",
       "\n",
       "[759 rows x 56 columns]"
      ]
     },
     "execution_count": 65,
     "metadata": {},
     "output_type": "execute_result"
    }
   ],
   "source": [
    "merge[(merge['수술년도']>=2021)&(merge['최근입원기간']<4)]\n",
    "\n",
    "# 문제정의라....\n",
    "# "
   ]
  },
  {
   "cell_type": "code",
   "execution_count": null,
   "id": "6f863444",
   "metadata": {},
   "outputs": [
    {
     "data": {
      "text/plain": [
       "30      1043\n",
       "60       460\n",
       "90       174\n",
       "120       34\n",
       "150        6\n",
       "240        5\n",
       "180        4\n",
       "0          3\n",
       "330        3\n",
       "210        3\n",
       "510        2\n",
       "270        1\n",
       "540        1\n",
       "1320       1\n",
       "450        1\n",
       "390        1\n",
       "360        1\n",
       "1530       1\n",
       "300        1\n",
       "Name: 누적입원기간, dtype: int64"
      ]
     },
     "execution_count": 66,
     "metadata": {},
     "output_type": "execute_result"
    }
   ],
   "source": [
    "merge['누적입원기간'].value_counts()"
   ]
  },
  {
   "cell_type": "code",
   "execution_count": null,
   "id": "418bbb71",
   "metadata": {},
   "outputs": [
    {
     "data": {
      "text/plain": [
       "TELD    38\n",
       "IELD     2\n",
       "Name: 수술기법, dtype: int64"
      ]
     },
     "execution_count": 67,
     "metadata": {},
     "output_type": "execute_result"
    }
   ],
   "source": [
    "merge[merge['최근입원기간']==0]['수술기법'].value_counts()"
   ]
  },
  {
   "cell_type": "code",
   "execution_count": null,
   "id": "be2a400e",
   "metadata": {},
   "outputs": [
    {
     "data": {
      "text/plain": [
       "사무직      414\n",
       "기타       383\n",
       "자영업      161\n",
       "무직       149\n",
       "학생       117\n",
       "주부       107\n",
       "군인        84\n",
       "공무원       47\n",
       "운수업       45\n",
       "노동직       42\n",
       "농업        38\n",
       "의료직       35\n",
       "사업가       35\n",
       "교사        26\n",
       "특수전문직     22\n",
       "건설업       16\n",
       "운동선수      14\n",
       "예술가       10\n",
       "Name: 직업, dtype: int64"
      ]
     },
     "execution_count": 68,
     "metadata": {},
     "output_type": "execute_result"
    }
   ],
   "source": [
    "merge['직업'].value_counts()\n",
    "# 사무직, 학생 , 공무원"
   ]
  },
  {
   "cell_type": "code",
   "execution_count": null,
   "id": "0aec23c3",
   "metadata": {},
   "outputs": [],
   "source": []
  }
 ],
 "metadata": {
  "kernelspec": {
   "display_name": "Python 3 (ipykernel)",
   "language": "python",
   "name": "python3"
  },
  "language_info": {
   "codemirror_mode": {
    "name": "ipython",
    "version": 3
   },
   "file_extension": ".py",
   "mimetype": "text/x-python",
   "name": "python",
   "nbconvert_exporter": "python",
   "pygments_lexer": "ipython3",
   "version": "3.10.9"
  }
 },
 "nbformat": 4,
 "nbformat_minor": 5
}
