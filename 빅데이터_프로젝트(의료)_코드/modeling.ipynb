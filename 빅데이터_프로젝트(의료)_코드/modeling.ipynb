{
 "cells": [
  {
   "cell_type": "code",
   "execution_count": 17,
   "id": "256677c8",
   "metadata": {},
   "outputs": [],
   "source": [
    "import pandas as pd\n",
    "from sklearn.tree import DecisionTreeClassifier\n",
    "from sklearn.ensemble import GradientBoostingClassifier\n",
    "from sklearn.ensemble import RandomForestClassifier\n",
    "from xgboost import XGBClassifier\n",
    "from sklearn.model_selection import train_test_split\n",
    "\n",
    "from sklearn.model_selection import GridSearchCV\n",
    "from sklearn.metrics import confusion_matrix, f1_score\n",
    "from imblearn.over_sampling import SMOTE"
   ]
  },
  {
   "cell_type": "code",
   "execution_count": 18,
   "id": "da3f9adf",
   "metadata": {},
   "outputs": [],
   "source": [
    "df = pd.read_csv('./final_data.csv')"
   ]
  },
  {
   "cell_type": "code",
   "execution_count": 19,
   "id": "a4f87bbf",
   "metadata": {},
   "outputs": [
    {
     "data": {
      "text/html": [
       "<div>\n",
       "<style scoped>\n",
       "    .dataframe tbody tr th:only-of-type {\n",
       "        vertical-align: middle;\n",
       "    }\n",
       "\n",
       "    .dataframe tbody tr th {\n",
       "        vertical-align: top;\n",
       "    }\n",
       "\n",
       "    .dataframe thead th {\n",
       "        text-align: right;\n",
       "    }\n",
       "</style>\n",
       "<table border=\"1\" class=\"dataframe\">\n",
       "  <thead>\n",
       "    <tr style=\"text-align: right;\">\n",
       "      <th></th>\n",
       "      <th>Large Lymphocyte</th>\n",
       "      <th>Location of herniation</th>\n",
       "      <th>ODI</th>\n",
       "      <th>가족력</th>\n",
       "      <th>간질성폐질환</th>\n",
       "      <th>고혈압여부</th>\n",
       "      <th>과거수술횟수</th>\n",
       "      <th>당뇨여부</th>\n",
       "      <th>말초동맥질환여부</th>\n",
       "      <th>빈혈여부</th>\n",
       "      <th>...</th>\n",
       "      <th>디스크위치</th>\n",
       "      <th>척추이동척도</th>\n",
       "      <th>척추전방위증</th>\n",
       "      <th>최근입원기간</th>\n",
       "      <th>누적입원기간</th>\n",
       "      <th>count</th>\n",
       "      <th>new_연령</th>\n",
       "      <th>New_신장</th>\n",
       "      <th>BMI</th>\n",
       "      <th>cluster</th>\n",
       "    </tr>\n",
       "  </thead>\n",
       "  <tbody>\n",
       "    <tr>\n",
       "      <th>0</th>\n",
       "      <td>10.5</td>\n",
       "      <td>2</td>\n",
       "      <td>44.0</td>\n",
       "      <td>0.0</td>\n",
       "      <td>0</td>\n",
       "      <td>0</td>\n",
       "      <td>0</td>\n",
       "      <td>0</td>\n",
       "      <td>0</td>\n",
       "      <td>0</td>\n",
       "      <td>...</td>\n",
       "      <td>4</td>\n",
       "      <td>Middle</td>\n",
       "      <td>0</td>\n",
       "      <td>1</td>\n",
       "      <td>30</td>\n",
       "      <td>1</td>\n",
       "      <td>중년</td>\n",
       "      <td>1.74</td>\n",
       "      <td>24.772097</td>\n",
       "      <td>2</td>\n",
       "    </tr>\n",
       "    <tr>\n",
       "      <th>1</th>\n",
       "      <td>46.7</td>\n",
       "      <td>3</td>\n",
       "      <td>21.0</td>\n",
       "      <td>1.0</td>\n",
       "      <td>0</td>\n",
       "      <td>0</td>\n",
       "      <td>0</td>\n",
       "      <td>0</td>\n",
       "      <td>0</td>\n",
       "      <td>0</td>\n",
       "      <td>...</td>\n",
       "      <td>4</td>\n",
       "      <td>Middle</td>\n",
       "      <td>0</td>\n",
       "      <td>3</td>\n",
       "      <td>30</td>\n",
       "      <td>1</td>\n",
       "      <td>청년</td>\n",
       "      <td>1.72</td>\n",
       "      <td>23.661439</td>\n",
       "      <td>2</td>\n",
       "    </tr>\n",
       "    <tr>\n",
       "      <th>2</th>\n",
       "      <td>30.1</td>\n",
       "      <td>3</td>\n",
       "      <td>13.0</td>\n",
       "      <td>0.0</td>\n",
       "      <td>0</td>\n",
       "      <td>0</td>\n",
       "      <td>0</td>\n",
       "      <td>0</td>\n",
       "      <td>0</td>\n",
       "      <td>0</td>\n",
       "      <td>...</td>\n",
       "      <td>4</td>\n",
       "      <td>Down</td>\n",
       "      <td>0</td>\n",
       "      <td>0</td>\n",
       "      <td>30</td>\n",
       "      <td>1</td>\n",
       "      <td>청년</td>\n",
       "      <td>1.77</td>\n",
       "      <td>21.705129</td>\n",
       "      <td>1</td>\n",
       "    </tr>\n",
       "    <tr>\n",
       "      <th>3</th>\n",
       "      <td>45.4</td>\n",
       "      <td>3</td>\n",
       "      <td>0.0</td>\n",
       "      <td>0.0</td>\n",
       "      <td>0</td>\n",
       "      <td>0</td>\n",
       "      <td>0</td>\n",
       "      <td>0</td>\n",
       "      <td>0</td>\n",
       "      <td>0</td>\n",
       "      <td>...</td>\n",
       "      <td>5</td>\n",
       "      <td>Middle</td>\n",
       "      <td>0</td>\n",
       "      <td>3</td>\n",
       "      <td>30</td>\n",
       "      <td>1</td>\n",
       "      <td>청년</td>\n",
       "      <td>1.72</td>\n",
       "      <td>23.661439</td>\n",
       "      <td>2</td>\n",
       "    </tr>\n",
       "    <tr>\n",
       "      <th>4</th>\n",
       "      <td>52.2</td>\n",
       "      <td>1</td>\n",
       "      <td>31.0</td>\n",
       "      <td>0.0</td>\n",
       "      <td>1</td>\n",
       "      <td>0</td>\n",
       "      <td>1</td>\n",
       "      <td>0</td>\n",
       "      <td>0</td>\n",
       "      <td>0</td>\n",
       "      <td>...</td>\n",
       "      <td>2</td>\n",
       "      <td>Up</td>\n",
       "      <td>0</td>\n",
       "      <td>1</td>\n",
       "      <td>60</td>\n",
       "      <td>1</td>\n",
       "      <td>장년</td>\n",
       "      <td>1.66</td>\n",
       "      <td>27.943098</td>\n",
       "      <td>2</td>\n",
       "    </tr>\n",
       "    <tr>\n",
       "      <th>...</th>\n",
       "      <td>...</td>\n",
       "      <td>...</td>\n",
       "      <td>...</td>\n",
       "      <td>...</td>\n",
       "      <td>...</td>\n",
       "      <td>...</td>\n",
       "      <td>...</td>\n",
       "      <td>...</td>\n",
       "      <td>...</td>\n",
       "      <td>...</td>\n",
       "      <td>...</td>\n",
       "      <td>...</td>\n",
       "      <td>...</td>\n",
       "      <td>...</td>\n",
       "      <td>...</td>\n",
       "      <td>...</td>\n",
       "      <td>...</td>\n",
       "      <td>...</td>\n",
       "      <td>...</td>\n",
       "      <td>...</td>\n",
       "      <td>...</td>\n",
       "    </tr>\n",
       "    <tr>\n",
       "      <th>1731</th>\n",
       "      <td>23.5</td>\n",
       "      <td>3</td>\n",
       "      <td>55.0</td>\n",
       "      <td>0.0</td>\n",
       "      <td>0</td>\n",
       "      <td>0</td>\n",
       "      <td>0</td>\n",
       "      <td>0</td>\n",
       "      <td>0</td>\n",
       "      <td>0</td>\n",
       "      <td>...</td>\n",
       "      <td>4</td>\n",
       "      <td>Middle</td>\n",
       "      <td>0</td>\n",
       "      <td>4</td>\n",
       "      <td>30</td>\n",
       "      <td>1</td>\n",
       "      <td>중년</td>\n",
       "      <td>1.52</td>\n",
       "      <td>24.541205</td>\n",
       "      <td>1</td>\n",
       "    </tr>\n",
       "    <tr>\n",
       "      <th>1732</th>\n",
       "      <td>31.4</td>\n",
       "      <td>3</td>\n",
       "      <td>0.0</td>\n",
       "      <td>0.0</td>\n",
       "      <td>0</td>\n",
       "      <td>0</td>\n",
       "      <td>0</td>\n",
       "      <td>0</td>\n",
       "      <td>0</td>\n",
       "      <td>0</td>\n",
       "      <td>...</td>\n",
       "      <td>4</td>\n",
       "      <td>Middle</td>\n",
       "      <td>0</td>\n",
       "      <td>4</td>\n",
       "      <td>30</td>\n",
       "      <td>1</td>\n",
       "      <td>중년</td>\n",
       "      <td>1.70</td>\n",
       "      <td>21.107266</td>\n",
       "      <td>1</td>\n",
       "    </tr>\n",
       "    <tr>\n",
       "      <th>1733</th>\n",
       "      <td>24.9</td>\n",
       "      <td>1</td>\n",
       "      <td>0.0</td>\n",
       "      <td>0.0</td>\n",
       "      <td>0</td>\n",
       "      <td>1</td>\n",
       "      <td>0</td>\n",
       "      <td>0</td>\n",
       "      <td>0</td>\n",
       "      <td>0</td>\n",
       "      <td>...</td>\n",
       "      <td>4</td>\n",
       "      <td>Middle</td>\n",
       "      <td>1</td>\n",
       "      <td>2</td>\n",
       "      <td>30</td>\n",
       "      <td>1</td>\n",
       "      <td>중년</td>\n",
       "      <td>1.62</td>\n",
       "      <td>20.957171</td>\n",
       "      <td>2</td>\n",
       "    </tr>\n",
       "    <tr>\n",
       "      <th>1734</th>\n",
       "      <td>45.8</td>\n",
       "      <td>4</td>\n",
       "      <td>0.0</td>\n",
       "      <td>0.0</td>\n",
       "      <td>0</td>\n",
       "      <td>0</td>\n",
       "      <td>0</td>\n",
       "      <td>0</td>\n",
       "      <td>0</td>\n",
       "      <td>0</td>\n",
       "      <td>...</td>\n",
       "      <td>4</td>\n",
       "      <td>Middle</td>\n",
       "      <td>0</td>\n",
       "      <td>2</td>\n",
       "      <td>30</td>\n",
       "      <td>1</td>\n",
       "      <td>중년</td>\n",
       "      <td>1.82</td>\n",
       "      <td>16.906171</td>\n",
       "      <td>2</td>\n",
       "    </tr>\n",
       "    <tr>\n",
       "      <th>1735</th>\n",
       "      <td>47.7</td>\n",
       "      <td>1</td>\n",
       "      <td>0.0</td>\n",
       "      <td>0.0</td>\n",
       "      <td>0</td>\n",
       "      <td>0</td>\n",
       "      <td>0</td>\n",
       "      <td>0</td>\n",
       "      <td>0</td>\n",
       "      <td>1</td>\n",
       "      <td>...</td>\n",
       "      <td>4</td>\n",
       "      <td>Down</td>\n",
       "      <td>0</td>\n",
       "      <td>3</td>\n",
       "      <td>60</td>\n",
       "      <td>1</td>\n",
       "      <td>중년</td>\n",
       "      <td>1.79</td>\n",
       "      <td>22.159109</td>\n",
       "      <td>1</td>\n",
       "    </tr>\n",
       "  </tbody>\n",
       "</table>\n",
       "<p>1736 rows × 55 columns</p>\n",
       "</div>"
      ],
      "text/plain": [
       "      Large Lymphocyte  Location of herniation   ODI  가족력  간질성폐질환  고혈압여부  \\\n",
       "0                 10.5                       2  44.0  0.0       0      0   \n",
       "1                 46.7                       3  21.0  1.0       0      0   \n",
       "2                 30.1                       3  13.0  0.0       0      0   \n",
       "3                 45.4                       3   0.0  0.0       0      0   \n",
       "4                 52.2                       1  31.0  0.0       1      0   \n",
       "...                ...                     ...   ...  ...     ...    ...   \n",
       "1731              23.5                       3  55.0  0.0       0      0   \n",
       "1732              31.4                       3   0.0  0.0       0      0   \n",
       "1733              24.9                       1   0.0  0.0       0      1   \n",
       "1734              45.8                       4   0.0  0.0       0      0   \n",
       "1735              47.7                       1   0.0  0.0       0      0   \n",
       "\n",
       "      과거수술횟수  당뇨여부  말초동맥질환여부  빈혈여부  ...  디스크위치  척추이동척도  척추전방위증  최근입원기간  \\\n",
       "0          0     0         0     0  ...      4  Middle       0       1   \n",
       "1          0     0         0     0  ...      4  Middle       0       3   \n",
       "2          0     0         0     0  ...      4    Down       0       0   \n",
       "3          0     0         0     0  ...      5  Middle       0       3   \n",
       "4          1     0         0     0  ...      2      Up       0       1   \n",
       "...      ...   ...       ...   ...  ...    ...     ...     ...     ...   \n",
       "1731       0     0         0     0  ...      4  Middle       0       4   \n",
       "1732       0     0         0     0  ...      4  Middle       0       4   \n",
       "1733       0     0         0     0  ...      4  Middle       1       2   \n",
       "1734       0     0         0     0  ...      4  Middle       0       2   \n",
       "1735       0     0         0     1  ...      4    Down       0       3   \n",
       "\n",
       "      누적입원기간  count  new_연령  New_신장        BMI  cluster  \n",
       "0         30      1      중년    1.74  24.772097        2  \n",
       "1         30      1      청년    1.72  23.661439        2  \n",
       "2         30      1      청년    1.77  21.705129        1  \n",
       "3         30      1      청년    1.72  23.661439        2  \n",
       "4         60      1      장년    1.66  27.943098        2  \n",
       "...      ...    ...     ...     ...        ...      ...  \n",
       "1731      30      1      중년    1.52  24.541205        1  \n",
       "1732      30      1      중년    1.70  21.107266        1  \n",
       "1733      30      1      중년    1.62  20.957171        2  \n",
       "1734      30      1      중년    1.82  16.906171        2  \n",
       "1735      60      1      중년    1.79  22.159109        1  \n",
       "\n",
       "[1736 rows x 55 columns]"
      ]
     },
     "execution_count": 19,
     "metadata": {},
     "output_type": "execute_result"
    }
   ],
   "source": [
    "df.drop('골밀도', axis = 1)"
   ]
  },
  {
   "cell_type": "code",
   "execution_count": 20,
   "id": "953c4db0",
   "metadata": {},
   "outputs": [],
   "source": [
    "df.drop('ODI', axis = 1, inplace = True)"
   ]
  },
  {
   "cell_type": "code",
   "execution_count": 21,
   "id": "1748a659",
   "metadata": {},
   "outputs": [],
   "source": [
    "df.말초동맥질환여부.value_counts()\n",
    "df.drop('말초동맥질환여부', axis = 1 , inplace = True)"
   ]
  },
  {
   "cell_type": "code",
   "execution_count": 22,
   "id": "237bd90d",
   "metadata": {},
   "outputs": [],
   "source": [
    "df.빈혈여부.value_counts()\n",
    "df.drop('빈혈여부', axis = 1 , inplace = True)"
   ]
  },
  {
   "cell_type": "code",
   "execution_count": 23,
   "id": "fbc3e9f0",
   "metadata": {},
   "outputs": [],
   "source": [
    "df.신부전여부.value_counts()\n",
    "df.drop('신부전여부', axis = 1 , inplace = True)"
   ]
  },
  {
   "cell_type": "code",
   "execution_count": 24,
   "id": "d791d01f",
   "metadata": {},
   "outputs": [
    {
     "data": {
      "text/plain": [
       "0    1674\n",
       "1      62\n",
       "Name: 심혈관질환, dtype: int64"
      ]
     },
     "execution_count": 24,
     "metadata": {},
     "output_type": "execute_result"
    }
   ],
   "source": [
    "df.심혈관질환.value_counts()"
   ]
  },
  {
   "cell_type": "code",
   "execution_count": 25,
   "id": "b71531e7",
   "metadata": {},
   "outputs": [
    {
     "data": {
      "text/plain": [
       "Index(['Large Lymphocyte', 'Location of herniation', '가족력', '간질성폐질환', '고혈압여부',\n",
       "       '과거수술횟수', '당뇨여부', '성별', '스테로이드치료', '신장', '심혈관질환', '암발병여부', '연령',\n",
       "       '우울증여부', '입원기간', '종양진행여부', '직업', '체중', '혈전합병증여부', '흡연여부', '통증기간(월)',\n",
       "       '입원일자', '퇴원일자', '수술기법', '수술시간', '수술실패여부', '재발여부', '헤모글로빈수치', '환자통증정도',\n",
       "       '수술일자', '전방디스크높이(mm)', '후방디스크높이(mm)', '지방축적도', 'Instability', 'MF + ES',\n",
       "       'Modic change', 'PI', 'PT', 'Seg Angle(raw)', 'Vaccum disc', '골밀도',\n",
       "       '디스크단면적', '디스크위치', '척추이동척도', '척추전방위증', '최근입원기간', '누적입원기간', 'count',\n",
       "       'new_연령', 'New_신장', 'BMI', 'cluster'],\n",
       "      dtype='object')"
      ]
     },
     "execution_count": 25,
     "metadata": {},
     "output_type": "execute_result"
    }
   ],
   "source": [
    "df.columns"
   ]
  },
  {
   "cell_type": "code",
   "execution_count": 26,
   "id": "132b5d66",
   "metadata": {},
   "outputs": [],
   "source": [
    "### 첫번째 모델링"
   ]
  },
  {
   "cell_type": "code",
   "execution_count": 27,
   "id": "c487021e",
   "metadata": {},
   "outputs": [],
   "source": [
    "final_df = df[['직업', '고혈압여부', '당뇨여부', 'BMI', '헤모글로빈수치', '전방디스크높이(mm)' , '후방디스크높이(mm)', '지방축적도', 'MF + ES', 'PI', 'PT', 'Modic change', 'Seg Angle(raw)', '디스크단면적' , '척추이동척도' , '재발여부']]"
   ]
  },
  {
   "cell_type": "code",
   "execution_count": 28,
   "id": "f8594d1f",
   "metadata": {},
   "outputs": [],
   "source": [
    "X = final_df.drop('재발여부', axis = 1)\n",
    "y = final_df.재발여부"
   ]
  },
  {
   "cell_type": "code",
   "execution_count": 29,
   "id": "0e7fa964",
   "metadata": {},
   "outputs": [],
   "source": [
    "X = pd.get_dummies(X)"
   ]
  },
  {
   "cell_type": "markdown",
   "id": "ec6f89e5",
   "metadata": {},
   "source": [
    "### split"
   ]
  },
  {
   "cell_type": "code",
   "execution_count": 30,
   "id": "f48e0738",
   "metadata": {},
   "outputs": [],
   "source": [
    "X_train , X_test , y_train , y_test = train_test_split(X, y , test_size = 0.3, random_state = 777)"
   ]
  },
  {
   "cell_type": "code",
   "execution_count": 31,
   "id": "339414ea",
   "metadata": {},
   "outputs": [],
   "source": [
    "sm = SMOTE(sampling_strategy ='auto')\n",
    "\n",
    "x_resampled, y_resampled = sm.fit_resample(X_train,y_train)"
   ]
  },
  {
   "cell_type": "code",
   "execution_count": null,
   "id": "4f055d02",
   "metadata": {},
   "outputs": [],
   "source": []
  },
  {
   "cell_type": "markdown",
   "id": "52136ff1",
   "metadata": {},
   "source": [
    "### Decision Tree"
   ]
  },
  {
   "cell_type": "code",
   "execution_count": 32,
   "id": "05e28ddb",
   "metadata": {},
   "outputs": [],
   "source": [
    "para_depth = [depth for depth in range(5, 15)]\n",
    "para_split = [split*4 for split in range(5, 12)]\n",
    "para_leaf = [n_leaf*2 for n_leaf in range(5, 12)]"
   ]
  },
  {
   "cell_type": "code",
   "execution_count": 33,
   "id": "d7b1f2e1",
   "metadata": {},
   "outputs": [
    {
     "name": "stdout",
     "output_type": "stream",
     "text": [
      "best estimator model DecisionTreeClassifier(max_depth=14, min_samples_leaf=10, min_samples_split=32)\n",
      "nbest parameter {'max_depth': 14, 'min_samples_leaf': 10, 'min_samples_split': 32}\n",
      "nbest score 0.79\n"
     ]
    }
   ],
   "source": [
    "estimator = DecisionTreeClassifier()\n",
    "\n",
    "param_Grid = {'max_depth' : para_depth , 'min_samples_split' : para_split, 'min_samples_leaf' : para_leaf}\n",
    "\n",
    "grid_dt = GridSearchCV(estimator, param_Grid, scoring = 'accuracy', n_jobs = -1)\n",
    "grid_dt.fit(x_resampled , y_resampled)\n",
    "\n",
    "print(f'best estimator model {grid_dt.best_estimator_}')\n",
    "print(f'nbest parameter {grid_dt.best_params_}')\n",
    "print(f'nbest score {grid_dt.best_score_.round(3)}')"
   ]
  },
  {
   "cell_type": "code",
   "execution_count": 34,
   "id": "b5fff652",
   "metadata": {},
   "outputs": [
    {
     "data": {
      "text/plain": [
       "0.7236084452975048"
      ]
     },
     "execution_count": 34,
     "metadata": {},
     "output_type": "execute_result"
    }
   ],
   "source": [
    "grid_dt.score(X_test, y_test)"
   ]
  },
  {
   "cell_type": "code",
   "execution_count": 35,
   "id": "71f417d2",
   "metadata": {},
   "outputs": [
    {
     "name": "stdout",
     "output_type": "stream",
     "text": [
      "Confusion Matrix:\n",
      "[[354 100]\n",
      " [ 44  23]]\n",
      "F1 Score: 0.2421052631578947\n"
     ]
    }
   ],
   "source": [
    "y_pred = grid_dt.best_estimator_.predict(X_test)\n",
    "\n",
    "conf_matrix = confusion_matrix(y_test, y_pred)\n",
    "\n",
    "f1 = f1_score(y_test, y_pred)\n",
    "\n",
    "print(\"Confusion Matrix:\")\n",
    "print(conf_matrix)\n",
    "print(\"F1 Score:\", f1)"
   ]
  },
  {
   "cell_type": "markdown",
   "id": "988daba9",
   "metadata": {},
   "source": [
    "### RandomForest"
   ]
  },
  {
   "cell_type": "code",
   "execution_count": 46,
   "id": "f82890ac",
   "metadata": {},
   "outputs": [],
   "source": [
    "para_depth = [depth for depth in range(10, 20)]\n",
    "para_split = [split*4 for split in range(5, 12)]\n",
    "para_leaf = [n_leaf*2 for n_leaf in range(5, 12)]"
   ]
  },
  {
   "cell_type": "code",
   "execution_count": 47,
   "id": "dcd3aa40",
   "metadata": {},
   "outputs": [
    {
     "name": "stdout",
     "output_type": "stream",
     "text": [
      "best estimator model RandomForestClassifier(max_depth=18, min_samples_leaf=10, min_samples_split=20,\n",
      "                       n_estimators=37)\n",
      "nbest parameter {'max_depth': 18, 'min_samples_leaf': 10, 'min_samples_split': 20, 'n_estimators': 37}\n",
      "nbest score 0.883\n"
     ]
    }
   ],
   "source": [
    "estimator = RandomForestClassifier()\n",
    "\n",
    "param_Grid = {'n_estimators' : [36,37,38,39,40,45], 'max_depth' : para_depth , 'min_samples_split' : para_split, 'min_samples_leaf' : para_leaf}\n",
    "\n",
    "grid_rf = GridSearchCV(estimator, param_Grid, scoring = 'accuracy', n_jobs = -1)\n",
    "grid_rf.fit(x_resampled , y_resampled)\n",
    "\n",
    "print(f'best estimator model {grid_rf.best_estimator_}')\n",
    "print(f'nbest parameter {grid_rf.best_params_}')\n",
    "print(f'nbest score {grid_rf.best_score_.round(3)}')"
   ]
  },
  {
   "cell_type": "code",
   "execution_count": 48,
   "id": "436790ae",
   "metadata": {},
   "outputs": [
    {
     "data": {
      "text/plain": [
       "0.8291746641074856"
      ]
     },
     "execution_count": 48,
     "metadata": {},
     "output_type": "execute_result"
    }
   ],
   "source": [
    "grid_rf.score(X_test, y_test)"
   ]
  },
  {
   "cell_type": "code",
   "execution_count": 49,
   "id": "7be6b8a4",
   "metadata": {},
   "outputs": [
    {
     "name": "stdout",
     "output_type": "stream",
     "text": [
      "Confusion Matrix:\n",
      "[[413  41]\n",
      " [ 48  19]]\n",
      "F1 Score: 0.2992125984251969\n"
     ]
    }
   ],
   "source": [
    "y_pred = grid_rf.best_estimator_.predict(X_test)\n",
    "\n",
    "conf_matrix = confusion_matrix(y_test, y_pred)\n",
    "\n",
    "f1 = f1_score(y_test, y_pred)\n",
    "\n",
    "print(\"Confusion Matrix:\")\n",
    "print(conf_matrix)\n",
    "print(\"F1 Score:\", f1)"
   ]
  },
  {
   "cell_type": "code",
   "execution_count": null,
   "id": "a2cef6bc",
   "metadata": {},
   "outputs": [],
   "source": [
    "### XGBoost"
   ]
  },
  {
   "cell_type": "code",
   "execution_count": 51,
   "id": "b4911e9b",
   "metadata": {},
   "outputs": [],
   "source": [
    "### SVM\n",
    "para_c = [10 ** c for c in range(-2,3)]\n",
    "para_gamma = [10 ** gamma for gamma in range(-2,3)]"
   ]
  },
  {
   "cell_type": "code",
   "execution_count": 52,
   "id": "b7e6acf3",
   "metadata": {},
   "outputs": [
    {
     "data": {
      "text/html": [
       "<div>\n",
       "<style scoped>\n",
       "    .dataframe tbody tr th:only-of-type {\n",
       "        vertical-align: middle;\n",
       "    }\n",
       "\n",
       "    .dataframe tbody tr th {\n",
       "        vertical-align: top;\n",
       "    }\n",
       "\n",
       "    .dataframe thead th {\n",
       "        text-align: right;\n",
       "    }\n",
       "</style>\n",
       "<table border=\"1\" class=\"dataframe\">\n",
       "  <thead>\n",
       "    <tr style=\"text-align: right;\">\n",
       "      <th></th>\n",
       "      <th>고혈압여부</th>\n",
       "      <th>당뇨여부</th>\n",
       "      <th>BMI</th>\n",
       "      <th>헤모글로빈수치</th>\n",
       "      <th>전방디스크높이(mm)</th>\n",
       "      <th>후방디스크높이(mm)</th>\n",
       "      <th>지방축적도</th>\n",
       "      <th>MF + ES</th>\n",
       "      <th>PI</th>\n",
       "      <th>PT</th>\n",
       "      <th>...</th>\n",
       "      <th>직업_의료직</th>\n",
       "      <th>직업_자영업</th>\n",
       "      <th>직업_주부</th>\n",
       "      <th>직업_특수전문직</th>\n",
       "      <th>직업_학생</th>\n",
       "      <th>척추이동척도_Down</th>\n",
       "      <th>척추이동척도_Extremely down</th>\n",
       "      <th>척추이동척도_Extremely up</th>\n",
       "      <th>척추이동척도_Middle</th>\n",
       "      <th>척추이동척도_Up</th>\n",
       "    </tr>\n",
       "  </thead>\n",
       "  <tbody>\n",
       "    <tr>\n",
       "      <th>0</th>\n",
       "      <td>0</td>\n",
       "      <td>0</td>\n",
       "      <td>24.772097</td>\n",
       "      <td>15.10</td>\n",
       "      <td>13.3</td>\n",
       "      <td>11.7</td>\n",
       "      <td>318.60</td>\n",
       "      <td>2425.80</td>\n",
       "      <td>49.7</td>\n",
       "      <td>27.6</td>\n",
       "      <td>...</td>\n",
       "      <td>0</td>\n",
       "      <td>0</td>\n",
       "      <td>0</td>\n",
       "      <td>0</td>\n",
       "      <td>0</td>\n",
       "      <td>0</td>\n",
       "      <td>0</td>\n",
       "      <td>0</td>\n",
       "      <td>1</td>\n",
       "      <td>0</td>\n",
       "    </tr>\n",
       "    <tr>\n",
       "      <th>1</th>\n",
       "      <td>0</td>\n",
       "      <td>0</td>\n",
       "      <td>23.661439</td>\n",
       "      <td>16.00</td>\n",
       "      <td>17.2</td>\n",
       "      <td>8.3</td>\n",
       "      <td>153.70</td>\n",
       "      <td>2677.20</td>\n",
       "      <td>36.3</td>\n",
       "      <td>4.5</td>\n",
       "      <td>...</td>\n",
       "      <td>0</td>\n",
       "      <td>0</td>\n",
       "      <td>0</td>\n",
       "      <td>0</td>\n",
       "      <td>0</td>\n",
       "      <td>0</td>\n",
       "      <td>0</td>\n",
       "      <td>0</td>\n",
       "      <td>1</td>\n",
       "      <td>0</td>\n",
       "    </tr>\n",
       "    <tr>\n",
       "      <th>2</th>\n",
       "      <td>0</td>\n",
       "      <td>0</td>\n",
       "      <td>21.705129</td>\n",
       "      <td>15.00</td>\n",
       "      <td>10.0</td>\n",
       "      <td>6.9</td>\n",
       "      <td>117.00</td>\n",
       "      <td>1704.00</td>\n",
       "      <td>41.3</td>\n",
       "      <td>17.4</td>\n",
       "      <td>...</td>\n",
       "      <td>0</td>\n",
       "      <td>0</td>\n",
       "      <td>0</td>\n",
       "      <td>0</td>\n",
       "      <td>0</td>\n",
       "      <td>1</td>\n",
       "      <td>0</td>\n",
       "      <td>0</td>\n",
       "      <td>0</td>\n",
       "      <td>0</td>\n",
       "    </tr>\n",
       "    <tr>\n",
       "      <th>3</th>\n",
       "      <td>0</td>\n",
       "      <td>0</td>\n",
       "      <td>23.661439</td>\n",
       "      <td>15.80</td>\n",
       "      <td>13.6</td>\n",
       "      <td>6.2</td>\n",
       "      <td>348.30</td>\n",
       "      <td>2502.20</td>\n",
       "      <td>45.7</td>\n",
       "      <td>16.6</td>\n",
       "      <td>...</td>\n",
       "      <td>0</td>\n",
       "      <td>0</td>\n",
       "      <td>0</td>\n",
       "      <td>0</td>\n",
       "      <td>1</td>\n",
       "      <td>0</td>\n",
       "      <td>0</td>\n",
       "      <td>0</td>\n",
       "      <td>1</td>\n",
       "      <td>0</td>\n",
       "    </tr>\n",
       "    <tr>\n",
       "      <th>4</th>\n",
       "      <td>0</td>\n",
       "      <td>0</td>\n",
       "      <td>27.943098</td>\n",
       "      <td>15.00</td>\n",
       "      <td>11.1</td>\n",
       "      <td>5.8</td>\n",
       "      <td>86.80</td>\n",
       "      <td>2741.50</td>\n",
       "      <td>54.5</td>\n",
       "      <td>16.7</td>\n",
       "      <td>...</td>\n",
       "      <td>0</td>\n",
       "      <td>0</td>\n",
       "      <td>0</td>\n",
       "      <td>0</td>\n",
       "      <td>0</td>\n",
       "      <td>0</td>\n",
       "      <td>0</td>\n",
       "      <td>0</td>\n",
       "      <td>0</td>\n",
       "      <td>1</td>\n",
       "    </tr>\n",
       "    <tr>\n",
       "      <th>...</th>\n",
       "      <td>...</td>\n",
       "      <td>...</td>\n",
       "      <td>...</td>\n",
       "      <td>...</td>\n",
       "      <td>...</td>\n",
       "      <td>...</td>\n",
       "      <td>...</td>\n",
       "      <td>...</td>\n",
       "      <td>...</td>\n",
       "      <td>...</td>\n",
       "      <td>...</td>\n",
       "      <td>...</td>\n",
       "      <td>...</td>\n",
       "      <td>...</td>\n",
       "      <td>...</td>\n",
       "      <td>...</td>\n",
       "      <td>...</td>\n",
       "      <td>...</td>\n",
       "      <td>...</td>\n",
       "      <td>...</td>\n",
       "      <td>...</td>\n",
       "    </tr>\n",
       "    <tr>\n",
       "      <th>1731</th>\n",
       "      <td>0</td>\n",
       "      <td>0</td>\n",
       "      <td>24.541205</td>\n",
       "      <td>19.28</td>\n",
       "      <td>11.0</td>\n",
       "      <td>7.6</td>\n",
       "      <td>87.80</td>\n",
       "      <td>1667.40</td>\n",
       "      <td>27.7</td>\n",
       "      <td>9.1</td>\n",
       "      <td>...</td>\n",
       "      <td>0</td>\n",
       "      <td>0</td>\n",
       "      <td>0</td>\n",
       "      <td>0</td>\n",
       "      <td>0</td>\n",
       "      <td>0</td>\n",
       "      <td>0</td>\n",
       "      <td>0</td>\n",
       "      <td>1</td>\n",
       "      <td>0</td>\n",
       "    </tr>\n",
       "    <tr>\n",
       "      <th>1732</th>\n",
       "      <td>0</td>\n",
       "      <td>0</td>\n",
       "      <td>21.107266</td>\n",
       "      <td>13.66</td>\n",
       "      <td>6.9</td>\n",
       "      <td>4.1</td>\n",
       "      <td>85.50</td>\n",
       "      <td>2127.00</td>\n",
       "      <td>34.6</td>\n",
       "      <td>14.1</td>\n",
       "      <td>...</td>\n",
       "      <td>0</td>\n",
       "      <td>1</td>\n",
       "      <td>0</td>\n",
       "      <td>0</td>\n",
       "      <td>0</td>\n",
       "      <td>0</td>\n",
       "      <td>0</td>\n",
       "      <td>0</td>\n",
       "      <td>1</td>\n",
       "      <td>0</td>\n",
       "    </tr>\n",
       "    <tr>\n",
       "      <th>1733</th>\n",
       "      <td>1</td>\n",
       "      <td>0</td>\n",
       "      <td>20.957171</td>\n",
       "      <td>15.62</td>\n",
       "      <td>9.4</td>\n",
       "      <td>8.7</td>\n",
       "      <td>118.04</td>\n",
       "      <td>3241.98</td>\n",
       "      <td>35.6</td>\n",
       "      <td>10.7</td>\n",
       "      <td>...</td>\n",
       "      <td>0</td>\n",
       "      <td>0</td>\n",
       "      <td>0</td>\n",
       "      <td>0</td>\n",
       "      <td>0</td>\n",
       "      <td>0</td>\n",
       "      <td>0</td>\n",
       "      <td>0</td>\n",
       "      <td>1</td>\n",
       "      <td>0</td>\n",
       "    </tr>\n",
       "    <tr>\n",
       "      <th>1734</th>\n",
       "      <td>0</td>\n",
       "      <td>0</td>\n",
       "      <td>16.906171</td>\n",
       "      <td>13.61</td>\n",
       "      <td>12.4</td>\n",
       "      <td>11.1</td>\n",
       "      <td>166.48</td>\n",
       "      <td>2332.75</td>\n",
       "      <td>30.7</td>\n",
       "      <td>2.3</td>\n",
       "      <td>...</td>\n",
       "      <td>0</td>\n",
       "      <td>0</td>\n",
       "      <td>1</td>\n",
       "      <td>0</td>\n",
       "      <td>0</td>\n",
       "      <td>0</td>\n",
       "      <td>0</td>\n",
       "      <td>0</td>\n",
       "      <td>1</td>\n",
       "      <td>0</td>\n",
       "    </tr>\n",
       "    <tr>\n",
       "      <th>1735</th>\n",
       "      <td>0</td>\n",
       "      <td>0</td>\n",
       "      <td>22.159109</td>\n",
       "      <td>14.78</td>\n",
       "      <td>12.0</td>\n",
       "      <td>9.8</td>\n",
       "      <td>175.80</td>\n",
       "      <td>1913.30</td>\n",
       "      <td>46.1</td>\n",
       "      <td>13.5</td>\n",
       "      <td>...</td>\n",
       "      <td>0</td>\n",
       "      <td>0</td>\n",
       "      <td>0</td>\n",
       "      <td>0</td>\n",
       "      <td>0</td>\n",
       "      <td>1</td>\n",
       "      <td>0</td>\n",
       "      <td>0</td>\n",
       "      <td>0</td>\n",
       "      <td>0</td>\n",
       "    </tr>\n",
       "  </tbody>\n",
       "</table>\n",
       "<p>1736 rows × 36 columns</p>\n",
       "</div>"
      ],
      "text/plain": [
       "      고혈압여부  당뇨여부        BMI  헤모글로빈수치  전방디스크높이(mm)  후방디스크높이(mm)   지방축적도  \\\n",
       "0         0     0  24.772097    15.10         13.3         11.7  318.60   \n",
       "1         0     0  23.661439    16.00         17.2          8.3  153.70   \n",
       "2         0     0  21.705129    15.00         10.0          6.9  117.00   \n",
       "3         0     0  23.661439    15.80         13.6          6.2  348.30   \n",
       "4         0     0  27.943098    15.00         11.1          5.8   86.80   \n",
       "...     ...   ...        ...      ...          ...          ...     ...   \n",
       "1731      0     0  24.541205    19.28         11.0          7.6   87.80   \n",
       "1732      0     0  21.107266    13.66          6.9          4.1   85.50   \n",
       "1733      1     0  20.957171    15.62          9.4          8.7  118.04   \n",
       "1734      0     0  16.906171    13.61         12.4         11.1  166.48   \n",
       "1735      0     0  22.159109    14.78         12.0          9.8  175.80   \n",
       "\n",
       "      MF + ES    PI    PT  ...  직업_의료직  직업_자영업  직업_주부  직업_특수전문직  직업_학생  \\\n",
       "0     2425.80  49.7  27.6  ...       0       0      0         0      0   \n",
       "1     2677.20  36.3   4.5  ...       0       0      0         0      0   \n",
       "2     1704.00  41.3  17.4  ...       0       0      0         0      0   \n",
       "3     2502.20  45.7  16.6  ...       0       0      0         0      1   \n",
       "4     2741.50  54.5  16.7  ...       0       0      0         0      0   \n",
       "...       ...   ...   ...  ...     ...     ...    ...       ...    ...   \n",
       "1731  1667.40  27.7   9.1  ...       0       0      0         0      0   \n",
       "1732  2127.00  34.6  14.1  ...       0       1      0         0      0   \n",
       "1733  3241.98  35.6  10.7  ...       0       0      0         0      0   \n",
       "1734  2332.75  30.7   2.3  ...       0       0      1         0      0   \n",
       "1735  1913.30  46.1  13.5  ...       0       0      0         0      0   \n",
       "\n",
       "      척추이동척도_Down  척추이동척도_Extremely down  척추이동척도_Extremely up  척추이동척도_Middle  \\\n",
       "0               0                      0                    0              1   \n",
       "1               0                      0                    0              1   \n",
       "2               1                      0                    0              0   \n",
       "3               0                      0                    0              1   \n",
       "4               0                      0                    0              0   \n",
       "...           ...                    ...                  ...            ...   \n",
       "1731            0                      0                    0              1   \n",
       "1732            0                      0                    0              1   \n",
       "1733            0                      0                    0              1   \n",
       "1734            0                      0                    0              1   \n",
       "1735            1                      0                    0              0   \n",
       "\n",
       "      척추이동척도_Up  \n",
       "0             0  \n",
       "1             0  \n",
       "2             0  \n",
       "3             0  \n",
       "4             1  \n",
       "...         ...  \n",
       "1731          0  \n",
       "1732          0  \n",
       "1733          0  \n",
       "1734          0  \n",
       "1735          0  \n",
       "\n",
       "[1736 rows x 36 columns]"
      ]
     },
     "execution_count": 52,
     "metadata": {},
     "output_type": "execute_result"
    }
   ],
   "source": [
    "X"
   ]
  },
  {
   "cell_type": "code",
   "execution_count": 53,
   "id": "c6ba0e56",
   "metadata": {},
   "outputs": [],
   "source": [
    "X_new = final_df.drop('재발여부', axis = 1)\n",
    "y_new = final_df.재발여부"
   ]
  },
  {
   "cell_type": "code",
   "execution_count": 56,
   "id": "bfc2c574",
   "metadata": {},
   "outputs": [],
   "source": [
    "X_new_char = X_new.select_dtypes('object')\n",
    "X_new_char_dummy = pd.get_dummies(X_new_char)\n",
    "X_new_float = X_new.select_dtypes(exclude = 'object')\n",
    "v_feature_names = X_new_float.columns"
   ]
  },
  {
   "cell_type": "code",
   "execution_count": 59,
   "id": "21853a05",
   "metadata": {},
   "outputs": [],
   "source": [
    "from sklearn.preprocessing import StandardScaler"
   ]
  },
  {
   "cell_type": "code",
   "execution_count": 60,
   "id": "f3d47698",
   "metadata": {},
   "outputs": [],
   "source": [
    "scaler = StandardScaler()\n",
    "X_scale = scaler.fit_transform(X_new_float)\n",
    "X_scale = pd.DataFrame(X_scale, columns = v_feature_names)"
   ]
  },
  {
   "cell_type": "code",
   "execution_count": 61,
   "id": "150cee45",
   "metadata": {},
   "outputs": [],
   "source": [
    "df_x_coverted = X_scale.join(X_new_char_dummy)"
   ]
  },
  {
   "cell_type": "code",
   "execution_count": 62,
   "id": "1bddef9d",
   "metadata": {},
   "outputs": [],
   "source": [
    "X_train , X_test , y_train, y_test = train_test_split(df_x_coverted, y_new , test_size = 0.3 , random_state = 777)"
   ]
  },
  {
   "cell_type": "code",
   "execution_count": 63,
   "id": "4d964652",
   "metadata": {},
   "outputs": [],
   "source": [
    "sm = SMOTE(sampling_strategy ='auto')\n",
    "\n",
    "x_resampled, y_resampled = sm.fit_resample(X_train,y_train)"
   ]
  },
  {
   "cell_type": "code",
   "execution_count": 65,
   "id": "ff6bc502",
   "metadata": {},
   "outputs": [],
   "source": [
    "from sklearn.svm import SVC"
   ]
  },
  {
   "cell_type": "code",
   "execution_count": 76,
   "id": "5d766209",
   "metadata": {},
   "outputs": [],
   "source": [
    "### SVM\n",
    "para_c = [10 ** c for c in range(-2,10)]\n",
    "para_gamma = [10 ** gamma for gamma in range(-2,10)]\n",
    "kernel = ['linear', 'rbf', 'poly'],  \n",
    "degree = [2, 3, 4]  "
   ]
  },
  {
   "cell_type": "code",
   "execution_count": 79,
   "id": "7a2afd0b",
   "metadata": {},
   "outputs": [
    {
     "data": {
      "text/html": [
       "<style>#sk-container-id-3 {color: black;background-color: white;}#sk-container-id-3 pre{padding: 0;}#sk-container-id-3 div.sk-toggleable {background-color: white;}#sk-container-id-3 label.sk-toggleable__label {cursor: pointer;display: block;width: 100%;margin-bottom: 0;padding: 0.3em;box-sizing: border-box;text-align: center;}#sk-container-id-3 label.sk-toggleable__label-arrow:before {content: \"▸\";float: left;margin-right: 0.25em;color: #696969;}#sk-container-id-3 label.sk-toggleable__label-arrow:hover:before {color: black;}#sk-container-id-3 div.sk-estimator:hover label.sk-toggleable__label-arrow:before {color: black;}#sk-container-id-3 div.sk-toggleable__content {max-height: 0;max-width: 0;overflow: hidden;text-align: left;background-color: #f0f8ff;}#sk-container-id-3 div.sk-toggleable__content pre {margin: 0.2em;color: black;border-radius: 0.25em;background-color: #f0f8ff;}#sk-container-id-3 input.sk-toggleable__control:checked~div.sk-toggleable__content {max-height: 200px;max-width: 100%;overflow: auto;}#sk-container-id-3 input.sk-toggleable__control:checked~label.sk-toggleable__label-arrow:before {content: \"▾\";}#sk-container-id-3 div.sk-estimator input.sk-toggleable__control:checked~label.sk-toggleable__label {background-color: #d4ebff;}#sk-container-id-3 div.sk-label input.sk-toggleable__control:checked~label.sk-toggleable__label {background-color: #d4ebff;}#sk-container-id-3 input.sk-hidden--visually {border: 0;clip: rect(1px 1px 1px 1px);clip: rect(1px, 1px, 1px, 1px);height: 1px;margin: -1px;overflow: hidden;padding: 0;position: absolute;width: 1px;}#sk-container-id-3 div.sk-estimator {font-family: monospace;background-color: #f0f8ff;border: 1px dotted black;border-radius: 0.25em;box-sizing: border-box;margin-bottom: 0.5em;}#sk-container-id-3 div.sk-estimator:hover {background-color: #d4ebff;}#sk-container-id-3 div.sk-parallel-item::after {content: \"\";width: 100%;border-bottom: 1px solid gray;flex-grow: 1;}#sk-container-id-3 div.sk-label:hover label.sk-toggleable__label {background-color: #d4ebff;}#sk-container-id-3 div.sk-serial::before {content: \"\";position: absolute;border-left: 1px solid gray;box-sizing: border-box;top: 0;bottom: 0;left: 50%;z-index: 0;}#sk-container-id-3 div.sk-serial {display: flex;flex-direction: column;align-items: center;background-color: white;padding-right: 0.2em;padding-left: 0.2em;position: relative;}#sk-container-id-3 div.sk-item {position: relative;z-index: 1;}#sk-container-id-3 div.sk-parallel {display: flex;align-items: stretch;justify-content: center;background-color: white;position: relative;}#sk-container-id-3 div.sk-item::before, #sk-container-id-3 div.sk-parallel-item::before {content: \"\";position: absolute;border-left: 1px solid gray;box-sizing: border-box;top: 0;bottom: 0;left: 50%;z-index: -1;}#sk-container-id-3 div.sk-parallel-item {display: flex;flex-direction: column;z-index: 1;position: relative;background-color: white;}#sk-container-id-3 div.sk-parallel-item:first-child::after {align-self: flex-end;width: 50%;}#sk-container-id-3 div.sk-parallel-item:last-child::after {align-self: flex-start;width: 50%;}#sk-container-id-3 div.sk-parallel-item:only-child::after {width: 0;}#sk-container-id-3 div.sk-dashed-wrapped {border: 1px dashed gray;margin: 0 0.4em 0.5em 0.4em;box-sizing: border-box;padding-bottom: 0.4em;background-color: white;}#sk-container-id-3 div.sk-label label {font-family: monospace;font-weight: bold;display: inline-block;line-height: 1.2em;}#sk-container-id-3 div.sk-label-container {text-align: center;}#sk-container-id-3 div.sk-container {/* jupyter's `normalize.less` sets `[hidden] { display: none; }` but bootstrap.min.css set `[hidden] { display: none !important; }` so we also need the `!important` here to be able to override the default hidden behavior on the sphinx rendered scikit-learn.org. See: https://github.com/scikit-learn/scikit-learn/issues/21755 */display: inline-block !important;position: relative;}#sk-container-id-3 div.sk-text-repr-fallback {display: none;}</style><div id=\"sk-container-id-3\" class=\"sk-top-container\"><div class=\"sk-text-repr-fallback\"><pre>GridSearchCV(estimator=SVC(random_state=777), n_jobs=-1,\n",
       "             param_grid={&#x27;C&#x27;: [0.01, 0.1, 1, 10, 100, 1000, 10000, 100000,\n",
       "                               1000000, 10000000, 100000000, 1000000000],\n",
       "                         &#x27;degree&#x27;: [2, 3, 4],\n",
       "                         &#x27;gamma&#x27;: [0.01, 0.1, 1, 10, 100, 1000, 10000, 100000,\n",
       "                                   1000000, 10000000, 100000000, 1000000000],\n",
       "                         &#x27;kernel&#x27;: [&#x27;rbf&#x27;]},\n",
       "             scoring=&#x27;accuracy&#x27;)</pre><b>In a Jupyter environment, please rerun this cell to show the HTML representation or trust the notebook. <br />On GitHub, the HTML representation is unable to render, please try loading this page with nbviewer.org.</b></div><div class=\"sk-container\" hidden><div class=\"sk-item sk-dashed-wrapped\"><div class=\"sk-label-container\"><div class=\"sk-label sk-toggleable\"><input class=\"sk-toggleable__control sk-hidden--visually\" id=\"sk-estimator-id-7\" type=\"checkbox\" ><label for=\"sk-estimator-id-7\" class=\"sk-toggleable__label sk-toggleable__label-arrow\">GridSearchCV</label><div class=\"sk-toggleable__content\"><pre>GridSearchCV(estimator=SVC(random_state=777), n_jobs=-1,\n",
       "             param_grid={&#x27;C&#x27;: [0.01, 0.1, 1, 10, 100, 1000, 10000, 100000,\n",
       "                               1000000, 10000000, 100000000, 1000000000],\n",
       "                         &#x27;degree&#x27;: [2, 3, 4],\n",
       "                         &#x27;gamma&#x27;: [0.01, 0.1, 1, 10, 100, 1000, 10000, 100000,\n",
       "                                   1000000, 10000000, 100000000, 1000000000],\n",
       "                         &#x27;kernel&#x27;: [&#x27;rbf&#x27;]},\n",
       "             scoring=&#x27;accuracy&#x27;)</pre></div></div></div><div class=\"sk-parallel\"><div class=\"sk-parallel-item\"><div class=\"sk-item\"><div class=\"sk-label-container\"><div class=\"sk-label sk-toggleable\"><input class=\"sk-toggleable__control sk-hidden--visually\" id=\"sk-estimator-id-8\" type=\"checkbox\" ><label for=\"sk-estimator-id-8\" class=\"sk-toggleable__label sk-toggleable__label-arrow\">estimator: SVC</label><div class=\"sk-toggleable__content\"><pre>SVC(random_state=777)</pre></div></div></div><div class=\"sk-serial\"><div class=\"sk-item\"><div class=\"sk-estimator sk-toggleable\"><input class=\"sk-toggleable__control sk-hidden--visually\" id=\"sk-estimator-id-9\" type=\"checkbox\" ><label for=\"sk-estimator-id-9\" class=\"sk-toggleable__label sk-toggleable__label-arrow\">SVC</label><div class=\"sk-toggleable__content\"><pre>SVC(random_state=777)</pre></div></div></div></div></div></div></div></div></div></div>"
      ],
      "text/plain": [
       "GridSearchCV(estimator=SVC(random_state=777), n_jobs=-1,\n",
       "             param_grid={'C': [0.01, 0.1, 1, 10, 100, 1000, 10000, 100000,\n",
       "                               1000000, 10000000, 100000000, 1000000000],\n",
       "                         'degree': [2, 3, 4],\n",
       "                         'gamma': [0.01, 0.1, 1, 10, 100, 1000, 10000, 100000,\n",
       "                                   1000000, 10000000, 100000000, 1000000000],\n",
       "                         'kernel': ['rbf']},\n",
       "             scoring='accuracy')"
      ]
     },
     "execution_count": 79,
     "metadata": {},
     "output_type": "execute_result"
    }
   ],
   "source": [
    "### SVM\n",
    "estimator = SVC(random_state = 777)\n",
    "\n",
    "param_grid = {\n",
    "    'C': [10 ** c for c in range(-2, 10)],\n",
    "    'gamma': [10 ** gamma for gamma in range(-2, 10)],\n",
    "    'kernel': ['rbf'],  # 다양한 커널 함수 시도\n",
    "    'degree': [2, 3, 4]  # 'poly' 커널 시 다항식 차수 시도\n",
    "}\n",
    "\n",
    "grid_sv = GridSearchCV(estimator, param_grid, scoring = 'accuracy' , n_jobs = -1)\n",
    "grid_sv.fit(x_resampled , y_resampled)"
   ]
  },
  {
   "cell_type": "code",
   "execution_count": 80,
   "id": "1d5d2407",
   "metadata": {},
   "outputs": [
    {
     "name": "stdout",
     "output_type": "stream",
     "text": [
      "best estimator model SVC(C=10, degree=2, gamma=0.1, random_state=777)\n",
      "nbest parameter {'C': 10, 'degree': 2, 'gamma': 0.1, 'kernel': 'rbf'}\n",
      "nbest score 0.949\n"
     ]
    }
   ],
   "source": [
    "print(f'best estimator model {grid_sv.best_estimator_}')\n",
    "print(f'nbest parameter {grid_sv.best_params_}')\n",
    "print(f'nbest score {grid_sv.best_score_.round(3)}')"
   ]
  },
  {
   "cell_type": "code",
   "execution_count": 81,
   "id": "b96eb2eb",
   "metadata": {},
   "outputs": [
    {
     "data": {
      "text/plain": [
       "0.8675623800383877"
      ]
     },
     "execution_count": 81,
     "metadata": {},
     "output_type": "execute_result"
    }
   ],
   "source": [
    "grid_sv.score(X_test, y_test)\n"
   ]
  },
  {
   "cell_type": "code",
   "execution_count": 82,
   "id": "0bb1b14e",
   "metadata": {},
   "outputs": [
    {
     "name": "stdout",
     "output_type": "stream",
     "text": [
      "Confusion Matrix:\n",
      "[[436  18]\n",
      " [ 51  16]]\n",
      "F1 Score: 0.31683168316831684\n"
     ]
    }
   ],
   "source": [
    "y_pred = grid_sv.best_estimator_.predict(X_test)\n",
    "\n",
    "conf_matrix = confusion_matrix(y_test, y_pred)\n",
    "\n",
    "f1 = f1_score(y_test, y_pred)\n",
    "\n",
    "print(\"Confusion Matrix:\")\n",
    "print(conf_matrix)\n",
    "print(\"F1 Score:\", f1)"
   ]
  },
  {
   "cell_type": "code",
   "execution_count": 75,
   "id": "6575b481",
   "metadata": {},
   "outputs": [],
   "source": [
    "### GradientBoost\n",
    "import xgboost as xgb"
   ]
  },
  {
   "cell_type": "code",
   "execution_count": null,
   "id": "df702eee",
   "metadata": {},
   "outputs": [],
   "source": [
    "estimator = xgb.XGBClassifier(random_state=777)\n",
    "\n",
    "param_grid = {\n",
    "    'n_estimators': [100, 200, 300],  # 트리의 개수\n",
    "    'max_depth': [3, 4, 5],  # 트리의 최대 깊이\n",
    "    'learning_rate': [0.01, 0.1, 0.2],  # 학습률\n",
    "    'subsample': [0.8, 0.9, 1.0],  # 데이터 샘플링 비율\n",
    "}"
   ]
  },
  {
   "cell_type": "code",
   "execution_count": null,
   "id": "9cb8cdfd",
   "metadata": {},
   "outputs": [],
   "source": [
    "grid_xgb = GridSearchCV(estimator, param_grid, scoring='accuracy', n_jobs=-1, cv=5)\n",
    "\n",
    "# 그리드 서치 수행\n",
    "grid_xgb.fit(x_train, y_train)\n",
    "\n",
    "# 최적의 하이퍼파라미터와 정확도 출력\n",
    "print(\"Best Parameters:\", grid_xgb.best_params_)\n",
    "print(\"Best Accuracy:\", grid_xgb.best_score_)\n"
   ]
  }
 ],
 "metadata": {
  "kernelspec": {
   "display_name": "Python 3 (ipykernel)",
   "language": "python",
   "name": "python3"
  },
  "language_info": {
   "codemirror_mode": {
    "name": "ipython",
    "version": 3
   },
   "file_extension": ".py",
   "mimetype": "text/x-python",
   "name": "python",
   "nbconvert_exporter": "python",
   "pygments_lexer": "ipython3",
   "version": "3.10.9"
  }
 },
 "nbformat": 4,
 "nbformat_minor": 5
}
